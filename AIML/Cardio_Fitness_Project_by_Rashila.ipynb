{
 "cells": [
  {
   "cell_type": "markdown",
   "id": "46190709",
   "metadata": {},
   "source": [
    "<b><h2><center>Exploratory Data Analysis of Cardio Good Fitness Project</center></h2></b>\n",
    "<center><img src=\"https://i0.wp.com/primofitnessusa.com/wp-content/uploads/2015/11/DSC_6624.JPG?w=615&ssl=1\" width=\"800\" height=\"400\"></center>"
   ]
  },
  {
   "cell_type": "markdown",
   "id": "9eed05ef",
   "metadata": {},
   "source": [
    "## Context"
   ]
  },
  {
   "cell_type": "markdown",
   "id": "4682ac2f",
   "metadata": {},
   "source": [
    "The dataset provided is about customers of the treadmill product(s) of a retail store called Cardio Good Fitness and contains the different attributes of the customers. The aim is to perform a detailed analysis of this dataset and provide useful insights and recommendations that will help the company in targeting new customers."
   ]
  },
  {
   "cell_type": "markdown",
   "id": "6fd348db",
   "metadata": {},
   "source": [
    "## Data Description:\n",
    "\n",
    "The data is about customers of the treadmill product(s) of a retail store called Cardio Good Fitness. It contains the following variables-\n",
    "\n",
    "1. Product - The model no. of the treadmill\n",
    "2. Age -  Age of the customer in no of years\n",
    "3. Gender - Gender of the customer\n",
    "4. Education - Education of the customer in no. of years\n",
    "5. Marital Status - Marital status of the customer\n",
    "6. Usage - Avg. # times the customer wants to use the treadmill every week\n",
    "7. Fitness - Self rated fitness score of the customer (5 - very fit, 1 - very unfit)\n",
    "8. Income - Income of the customer\n",
    "9. Miles- Miles that a customer expects to run"
   ]
  },
  {
   "cell_type": "markdown",
   "id": "b21d678b",
   "metadata": {},
   "source": [
    "### Sanity Checks"
   ]
  },
  {
   "cell_type": "markdown",
   "id": "0ac5d5a4",
   "metadata": {},
   "source": [
    "**Importing necessary libraries**"
   ]
  },
  {
   "cell_type": "code",
   "execution_count": 423,
   "id": "bc298d07",
   "metadata": {},
   "outputs": [],
   "source": [
    "# Libraries to help with reading and manipulating data\n",
    "import numpy as np\n",
    "import pandas as pd\n",
    "\n",
    "# Libraries to help with data visualization\n",
    "import matplotlib.pyplot as plt\n",
    "import seaborn as sns"
   ]
  },
  {
   "cell_type": "markdown",
   "id": "6ecaeb44",
   "metadata": {},
   "source": [
    "**Importing the dataset**"
   ]
  },
  {
   "cell_type": "code",
   "execution_count": 424,
   "id": "facfc0e4",
   "metadata": {},
   "outputs": [],
   "source": [
    "data = pd.read_csv('CardioGoodFitness.csv')"
   ]
  },
  {
   "cell_type": "markdown",
   "id": "d4f6833f",
   "metadata": {},
   "source": [
    "**View the first and last 5 rows of the dataset**"
   ]
  },
  {
   "cell_type": "code",
   "execution_count": 425,
   "id": "de016a12",
   "metadata": {},
   "outputs": [
    {
     "data": {
      "text/html": [
       "<div>\n",
       "<style scoped>\n",
       "    .dataframe tbody tr th:only-of-type {\n",
       "        vertical-align: middle;\n",
       "    }\n",
       "\n",
       "    .dataframe tbody tr th {\n",
       "        vertical-align: top;\n",
       "    }\n",
       "\n",
       "    .dataframe thead th {\n",
       "        text-align: right;\n",
       "    }\n",
       "</style>\n",
       "<table border=\"1\" class=\"dataframe\">\n",
       "  <thead>\n",
       "    <tr style=\"text-align: right;\">\n",
       "      <th></th>\n",
       "      <th>Product</th>\n",
       "      <th>Age</th>\n",
       "      <th>Gender</th>\n",
       "      <th>Education</th>\n",
       "      <th>MaritalStatus</th>\n",
       "      <th>Usage</th>\n",
       "      <th>Fitness</th>\n",
       "      <th>Income</th>\n",
       "      <th>Miles</th>\n",
       "    </tr>\n",
       "  </thead>\n",
       "  <tbody>\n",
       "    <tr>\n",
       "      <th>0</th>\n",
       "      <td>TM195</td>\n",
       "      <td>18</td>\n",
       "      <td>Male</td>\n",
       "      <td>14</td>\n",
       "      <td>Single</td>\n",
       "      <td>3</td>\n",
       "      <td>4</td>\n",
       "      <td>29562</td>\n",
       "      <td>112</td>\n",
       "    </tr>\n",
       "    <tr>\n",
       "      <th>1</th>\n",
       "      <td>TM195</td>\n",
       "      <td>19</td>\n",
       "      <td>Male</td>\n",
       "      <td>15</td>\n",
       "      <td>Single</td>\n",
       "      <td>2</td>\n",
       "      <td>3</td>\n",
       "      <td>31836</td>\n",
       "      <td>75</td>\n",
       "    </tr>\n",
       "    <tr>\n",
       "      <th>2</th>\n",
       "      <td>TM195</td>\n",
       "      <td>19</td>\n",
       "      <td>Female</td>\n",
       "      <td>14</td>\n",
       "      <td>Partnered</td>\n",
       "      <td>4</td>\n",
       "      <td>3</td>\n",
       "      <td>30699</td>\n",
       "      <td>66</td>\n",
       "    </tr>\n",
       "    <tr>\n",
       "      <th>3</th>\n",
       "      <td>TM195</td>\n",
       "      <td>19</td>\n",
       "      <td>Male</td>\n",
       "      <td>12</td>\n",
       "      <td>Single</td>\n",
       "      <td>3</td>\n",
       "      <td>3</td>\n",
       "      <td>32973</td>\n",
       "      <td>85</td>\n",
       "    </tr>\n",
       "    <tr>\n",
       "      <th>4</th>\n",
       "      <td>TM195</td>\n",
       "      <td>20</td>\n",
       "      <td>Male</td>\n",
       "      <td>13</td>\n",
       "      <td>Partnered</td>\n",
       "      <td>4</td>\n",
       "      <td>2</td>\n",
       "      <td>35247</td>\n",
       "      <td>47</td>\n",
       "    </tr>\n",
       "  </tbody>\n",
       "</table>\n",
       "</div>"
      ],
      "text/plain": [
       "  Product  Age  Gender  Education MaritalStatus  Usage  Fitness  Income  Miles\n",
       "0   TM195   18    Male         14        Single      3        4   29562    112\n",
       "1   TM195   19    Male         15        Single      2        3   31836     75\n",
       "2   TM195   19  Female         14     Partnered      4        3   30699     66\n",
       "3   TM195   19    Male         12        Single      3        3   32973     85\n",
       "4   TM195   20    Male         13     Partnered      4        2   35247     47"
      ]
     },
     "execution_count": 425,
     "metadata": {},
     "output_type": "execute_result"
    }
   ],
   "source": [
    "data.head()"
   ]
  },
  {
   "cell_type": "code",
   "execution_count": 426,
   "id": "74e35a0b",
   "metadata": {},
   "outputs": [
    {
     "data": {
      "text/html": [
       "<div>\n",
       "<style scoped>\n",
       "    .dataframe tbody tr th:only-of-type {\n",
       "        vertical-align: middle;\n",
       "    }\n",
       "\n",
       "    .dataframe tbody tr th {\n",
       "        vertical-align: top;\n",
       "    }\n",
       "\n",
       "    .dataframe thead th {\n",
       "        text-align: right;\n",
       "    }\n",
       "</style>\n",
       "<table border=\"1\" class=\"dataframe\">\n",
       "  <thead>\n",
       "    <tr style=\"text-align: right;\">\n",
       "      <th></th>\n",
       "      <th>Product</th>\n",
       "      <th>Age</th>\n",
       "      <th>Gender</th>\n",
       "      <th>Education</th>\n",
       "      <th>MaritalStatus</th>\n",
       "      <th>Usage</th>\n",
       "      <th>Fitness</th>\n",
       "      <th>Income</th>\n",
       "      <th>Miles</th>\n",
       "    </tr>\n",
       "  </thead>\n",
       "  <tbody>\n",
       "    <tr>\n",
       "      <th>175</th>\n",
       "      <td>TM798</td>\n",
       "      <td>40</td>\n",
       "      <td>Male</td>\n",
       "      <td>21</td>\n",
       "      <td>Single</td>\n",
       "      <td>6</td>\n",
       "      <td>5</td>\n",
       "      <td>83416</td>\n",
       "      <td>200</td>\n",
       "    </tr>\n",
       "    <tr>\n",
       "      <th>176</th>\n",
       "      <td>TM798</td>\n",
       "      <td>42</td>\n",
       "      <td>Male</td>\n",
       "      <td>18</td>\n",
       "      <td>Single</td>\n",
       "      <td>5</td>\n",
       "      <td>4</td>\n",
       "      <td>89641</td>\n",
       "      <td>200</td>\n",
       "    </tr>\n",
       "    <tr>\n",
       "      <th>177</th>\n",
       "      <td>TM798</td>\n",
       "      <td>45</td>\n",
       "      <td>Male</td>\n",
       "      <td>16</td>\n",
       "      <td>Single</td>\n",
       "      <td>5</td>\n",
       "      <td>5</td>\n",
       "      <td>90886</td>\n",
       "      <td>160</td>\n",
       "    </tr>\n",
       "    <tr>\n",
       "      <th>178</th>\n",
       "      <td>TM798</td>\n",
       "      <td>47</td>\n",
       "      <td>Male</td>\n",
       "      <td>18</td>\n",
       "      <td>Partnered</td>\n",
       "      <td>4</td>\n",
       "      <td>5</td>\n",
       "      <td>104581</td>\n",
       "      <td>120</td>\n",
       "    </tr>\n",
       "    <tr>\n",
       "      <th>179</th>\n",
       "      <td>TM798</td>\n",
       "      <td>48</td>\n",
       "      <td>Male</td>\n",
       "      <td>18</td>\n",
       "      <td>Partnered</td>\n",
       "      <td>4</td>\n",
       "      <td>5</td>\n",
       "      <td>95508</td>\n",
       "      <td>180</td>\n",
       "    </tr>\n",
       "  </tbody>\n",
       "</table>\n",
       "</div>"
      ],
      "text/plain": [
       "    Product  Age Gender  Education MaritalStatus  Usage  Fitness  Income  \\\n",
       "175   TM798   40   Male         21        Single      6        5   83416   \n",
       "176   TM798   42   Male         18        Single      5        4   89641   \n",
       "177   TM798   45   Male         16        Single      5        5   90886   \n",
       "178   TM798   47   Male         18     Partnered      4        5  104581   \n",
       "179   TM798   48   Male         18     Partnered      4        5   95508   \n",
       "\n",
       "     Miles  \n",
       "175    200  \n",
       "176    200  \n",
       "177    160  \n",
       "178    120  \n",
       "179    180  "
      ]
     },
     "execution_count": 426,
     "metadata": {},
     "output_type": "execute_result"
    }
   ],
   "source": [
    "data.tail()"
   ]
  },
  {
   "cell_type": "markdown",
   "id": "07cd69a7",
   "metadata": {},
   "source": [
    "The dataset has been loaded properly."
   ]
  },
  {
   "cell_type": "markdown",
   "id": "274529ca",
   "metadata": {},
   "source": [
    "* The dataset contains the information about the customers of a retail store."
   ]
  },
  {
   "cell_type": "markdown",
   "id": "5f521115",
   "metadata": {},
   "source": [
    "**Understand the shape of the dataset**"
   ]
  },
  {
   "cell_type": "code",
   "execution_count": 427,
   "id": "1ada5581",
   "metadata": {},
   "outputs": [
    {
     "name": "stdout",
     "output_type": "stream",
     "text": [
      "There are 180 rows and 9 columns.\n"
     ]
    }
   ],
   "source": [
    "# checking shape of the data\n",
    "print(\"There are\", data.shape[0], 'rows and', data.shape[1], \"columns.\")"
   ]
  },
  {
   "cell_type": "markdown",
   "id": "8a4924e0",
   "metadata": {},
   "source": [
    "**Check the data types of the columns for the dataset**"
   ]
  },
  {
   "cell_type": "code",
   "execution_count": 428,
   "id": "9513718a",
   "metadata": {},
   "outputs": [
    {
     "name": "stdout",
     "output_type": "stream",
     "text": [
      "<class 'pandas.core.frame.DataFrame'>\n",
      "RangeIndex: 180 entries, 0 to 179\n",
      "Data columns (total 9 columns):\n",
      " #   Column         Non-Null Count  Dtype \n",
      "---  ------         --------------  ----- \n",
      " 0   Product        180 non-null    object\n",
      " 1   Age            180 non-null    int64 \n",
      " 2   Gender         180 non-null    object\n",
      " 3   Education      180 non-null    int64 \n",
      " 4   MaritalStatus  180 non-null    object\n",
      " 5   Usage          180 non-null    int64 \n",
      " 6   Fitness        180 non-null    int64 \n",
      " 7   Income         180 non-null    int64 \n",
      " 8   Miles          180 non-null    int64 \n",
      "dtypes: int64(6), object(3)\n",
      "memory usage: 12.8+ KB\n"
     ]
    }
   ],
   "source": [
    "# checking the data types of the columns in data\n",
    "data.info()"
   ]
  },
  {
   "cell_type": "markdown",
   "id": "a1ea358c",
   "metadata": {},
   "source": [
    "* There are 6 numerical columns and 3 object type columns in the data.\n",
    "* We can see that the Product, Gender and MaritalStatus columns are of object type while the other columns are of integer type."
   ]
  },
  {
   "cell_type": "markdown",
   "id": "f61ab713",
   "metadata": {},
   "source": [
    "**Getting the statistical summary for the user dataset**"
   ]
  },
  {
   "cell_type": "code",
   "execution_count": 429,
   "id": "a80a2941",
   "metadata": {},
   "outputs": [
    {
     "data": {
      "text/html": [
       "<div>\n",
       "<style scoped>\n",
       "    .dataframe tbody tr th:only-of-type {\n",
       "        vertical-align: middle;\n",
       "    }\n",
       "\n",
       "    .dataframe tbody tr th {\n",
       "        vertical-align: top;\n",
       "    }\n",
       "\n",
       "    .dataframe thead th {\n",
       "        text-align: right;\n",
       "    }\n",
       "</style>\n",
       "<table border=\"1\" class=\"dataframe\">\n",
       "  <thead>\n",
       "    <tr style=\"text-align: right;\">\n",
       "      <th></th>\n",
       "      <th>count</th>\n",
       "      <th>mean</th>\n",
       "      <th>std</th>\n",
       "      <th>min</th>\n",
       "      <th>25%</th>\n",
       "      <th>50%</th>\n",
       "      <th>75%</th>\n",
       "      <th>max</th>\n",
       "    </tr>\n",
       "  </thead>\n",
       "  <tbody>\n",
       "    <tr>\n",
       "      <th>Age</th>\n",
       "      <td>180.000</td>\n",
       "      <td>28.789</td>\n",
       "      <td>6.943</td>\n",
       "      <td>18.000</td>\n",
       "      <td>24.000</td>\n",
       "      <td>26.000</td>\n",
       "      <td>33.000</td>\n",
       "      <td>50.000</td>\n",
       "    </tr>\n",
       "    <tr>\n",
       "      <th>Education</th>\n",
       "      <td>180.000</td>\n",
       "      <td>15.572</td>\n",
       "      <td>1.617</td>\n",
       "      <td>12.000</td>\n",
       "      <td>14.000</td>\n",
       "      <td>16.000</td>\n",
       "      <td>16.000</td>\n",
       "      <td>21.000</td>\n",
       "    </tr>\n",
       "    <tr>\n",
       "      <th>Usage</th>\n",
       "      <td>180.000</td>\n",
       "      <td>3.456</td>\n",
       "      <td>1.085</td>\n",
       "      <td>2.000</td>\n",
       "      <td>3.000</td>\n",
       "      <td>3.000</td>\n",
       "      <td>4.000</td>\n",
       "      <td>7.000</td>\n",
       "    </tr>\n",
       "    <tr>\n",
       "      <th>Fitness</th>\n",
       "      <td>180.000</td>\n",
       "      <td>3.311</td>\n",
       "      <td>0.959</td>\n",
       "      <td>1.000</td>\n",
       "      <td>3.000</td>\n",
       "      <td>3.000</td>\n",
       "      <td>4.000</td>\n",
       "      <td>5.000</td>\n",
       "    </tr>\n",
       "    <tr>\n",
       "      <th>Income</th>\n",
       "      <td>180.000</td>\n",
       "      <td>53719.578</td>\n",
       "      <td>16506.684</td>\n",
       "      <td>29562.000</td>\n",
       "      <td>44058.750</td>\n",
       "      <td>50596.500</td>\n",
       "      <td>58668.000</td>\n",
       "      <td>104581.000</td>\n",
       "    </tr>\n",
       "    <tr>\n",
       "      <th>Miles</th>\n",
       "      <td>180.000</td>\n",
       "      <td>103.194</td>\n",
       "      <td>51.864</td>\n",
       "      <td>21.000</td>\n",
       "      <td>66.000</td>\n",
       "      <td>94.000</td>\n",
       "      <td>114.750</td>\n",
       "      <td>360.000</td>\n",
       "    </tr>\n",
       "  </tbody>\n",
       "</table>\n",
       "</div>"
      ],
      "text/plain": [
       "            count      mean       std       min       25%       50%       75%  \\\n",
       "Age       180.000    28.789     6.943    18.000    24.000    26.000    33.000   \n",
       "Education 180.000    15.572     1.617    12.000    14.000    16.000    16.000   \n",
       "Usage     180.000     3.456     1.085     2.000     3.000     3.000     4.000   \n",
       "Fitness   180.000     3.311     0.959     1.000     3.000     3.000     4.000   \n",
       "Income    180.000 53719.578 16506.684 29562.000 44058.750 50596.500 58668.000   \n",
       "Miles     180.000   103.194    51.864    21.000    66.000    94.000   114.750   \n",
       "\n",
       "                 max  \n",
       "Age           50.000  \n",
       "Education     21.000  \n",
       "Usage          7.000  \n",
       "Fitness        5.000  \n",
       "Income    104581.000  \n",
       "Miles        360.000  "
      ]
     },
     "execution_count": 429,
     "metadata": {},
     "output_type": "execute_result"
    }
   ],
   "source": [
    "# Let's check the statistical summary of the data.\n",
    "data.describe().T"
   ]
  },
  {
   "cell_type": "markdown",
   "id": "9b2c246d",
   "metadata": {},
   "source": [
    "* Age: We can see from the age column that the average age of customers of a retail store is 28 years. The age of customer ranges from 18 years to 50 years.\n",
    "* Usage: The average number of usage of the product per week is 3.456. The product usage of the customers ranges from 2 times to 7 times per week.\n",
    "* Fitness: The average fitness score of the customer is 3.3. Fitness score of the customer ranges from 1 to 5.\n",
    "* Miles: The average miles that a customer expected to run is 103 miles. Miles that a customer expects to run ranges from 21 miles to 360 miles. \n",
    "* Income: The average income of the customer is 53k. Income of the customer ranges from 29k to 100k.\n",
    "* Education: The average number of years of education of a customer is 15 years. The customer's education ranges from 12 years to 21 years."
   ]
  },
  {
   "cell_type": "markdown",
   "id": "fd5149d3",
   "metadata": {},
   "source": [
    "**Checking for missing values in the data**"
   ]
  },
  {
   "cell_type": "code",
   "execution_count": 430,
   "id": "92e03c6e",
   "metadata": {},
   "outputs": [
    {
     "data": {
      "text/plain": [
       "Product          0\n",
       "Age              0\n",
       "Gender           0\n",
       "Education        0\n",
       "MaritalStatus    0\n",
       "Usage            0\n",
       "Fitness          0\n",
       "Income           0\n",
       "Miles            0\n",
       "dtype: int64"
      ]
     },
     "execution_count": 430,
     "metadata": {},
     "output_type": "execute_result"
    }
   ],
   "source": [
    "# let's check the missing values in the data\n",
    "data.isnull().sum()"
   ]
  },
  {
   "cell_type": "markdown",
   "id": "cb394ab1",
   "metadata": {},
   "source": [
    "* There are no missing values present in this dataset."
   ]
  },
  {
   "cell_type": "markdown",
   "id": "68fbecae",
   "metadata": {},
   "source": [
    "**Checking for duplicate entries in the data**"
   ]
  },
  {
   "cell_type": "code",
   "execution_count": 522,
   "id": "e3fdefa0",
   "metadata": {},
   "outputs": [
    {
     "data": {
      "text/plain": [
       "0"
      ]
     },
     "execution_count": 522,
     "metadata": {},
     "output_type": "execute_result"
    }
   ],
   "source": [
    "# let's check the duplicate entries in the data\n",
    "data.duplicated().sum()"
   ]
  },
  {
   "cell_type": "markdown",
   "id": "2c588581",
   "metadata": {},
   "source": [
    "* There are no duplicated rows in this data"
   ]
  },
  {
   "cell_type": "markdown",
   "id": "4c54d123",
   "metadata": {},
   "source": [
    "###  Univariate Data Analysis"
   ]
  },
  {
   "cell_type": "markdown",
   "id": "aae04024",
   "metadata": {},
   "source": [
    "**Let's check the distribution for numerical columns.**"
   ]
  },
  {
   "cell_type": "markdown",
   "id": "521334a7",
   "metadata": {},
   "source": [
    "**Observations on Age**"
   ]
  },
  {
   "cell_type": "code",
   "execution_count": 503,
   "id": "510dc610",
   "metadata": {},
   "outputs": [
    {
     "data": {
      "image/png": "[encoded data removed]",
      "text/plain": [
       "<Figure size 432x288 with 1 Axes>"
      ]
     },
     "metadata": {
      "needs_background": "light"
     },
     "output_type": "display_data"
    },
    {
     "data": {
      "image/png": "[encoded data removed]",
      "text/plain": [
       "<Figure size 432x288 with 1 Axes>"
      ]
     },
     "metadata": {
      "needs_background": "light"
     },
     "output_type": "display_data"
    },
    {
     "name": "stdout",
     "output_type": "stream",
     "text": [
      "The average age of customers is 28 years\n"
     ]
    }
   ],
   "source": [
    "sns.histplot(data=data, x='Age', kde=True)\n",
    "plt.title('Histogram of Age')\n",
    "plt.show()\n",
    "sns.boxplot(data=data, x='Age')\n",
    "plt.title('Boxplot of Age')\n",
    "plt.show()\n",
    "print('The average age of customers is {} years'.format(int(data.Age.mean())))"
   ]
  },
  {
   "cell_type": "markdown",
   "id": "d20b2992",
   "metadata": {},
   "source": [
    "* The distribution is skewed towards right and there are few outliers present in this column.\n",
    "* Most of the customer's age ranges from 24 years to 34 years and average age of customers is 28 years.\n",
    "* The customer's age between 45 and 50 are being represented as outliers in the boxplot."
   ]
  },
  {
   "cell_type": "markdown",
   "id": "cb92c6ca",
   "metadata": {},
   "source": [
    "**Observations on Education**"
   ]
  },
  {
   "cell_type": "code",
   "execution_count": 523,
   "id": "596a765b",
   "metadata": {},
   "outputs": [
    {
     "data": {
      "image/png": "[encoded data removed]",
      "text/plain": [
       "<Figure size 432x288 with 1 Axes>"
      ]
     },
     "metadata": {
      "needs_background": "light"
     },
     "output_type": "display_data"
    },
    {
     "data": {
      "image/png": "[encoded data removed]",
      "text/plain": [
       "<Figure size 432x288 with 1 Axes>"
      ]
     },
     "metadata": {
      "needs_background": "light"
     },
     "output_type": "display_data"
    },
    {
     "name": "stdout",
     "output_type": "stream",
     "text": [
      "The average education level of customers is 15 years\n"
     ]
    }
   ],
   "source": [
    "# Ploting histogram and box of Education to know the distribution and skewness \n",
    "sns.histplot(data=data, x='Education', kde = True)\n",
    "plt.title('Histogram of Education')\n",
    "plt.show()\n",
    "sns.boxplot(data=data, x='Education')\n",
    "plt.title('Boxplot of Education')\n",
    "plt.show()deat\n",
    "print('The average education level of customers is {} years'.format(int(data.Education.mean())))"
   ]
  },
  {
   "cell_type": "markdown",
   "id": "ff8af347",
   "metadata": {},
   "source": [
    "* The distribution of education is randomly distributed as multiplt modes are seen in this plot.\n",
    "* Most of the customer's education ranges between 12 years and 18 years with average of 15 years. \n",
    "* There are few outliers, customers of education level above 18 years are represented as outliers in the boxplot."
   ]
  },
  {
   "cell_type": "code",
   "execution_count": 434,
   "id": "5c2ba641",
   "metadata": {},
   "outputs": [
    {
     "data": {
      "text/plain": [
       "16   0.472\n",
       "14   0.306\n",
       "18   0.128\n",
       "15   0.028\n",
       "13   0.028\n",
       "12   0.017\n",
       "21   0.017\n",
       "20   0.006\n",
       "Name: Education, dtype: float64"
      ]
     },
     "execution_count": 434,
     "metadata": {},
     "output_type": "execute_result"
    }
   ],
   "source": [
    "# Let's check the frequencies of the Education column\n",
    "data['Education'].value_counts(normalize=True)"
   ]
  },
  {
   "cell_type": "markdown",
   "id": "d281003b",
   "metadata": {},
   "source": [
    "* Number of Education: 16 years, 14 years and 18 years are top 3 frequencies. The highest frequency of the values in Education column is 16 years. \n",
    "* 47% of customers have 16 years of education."
   ]
  },
  {
   "cell_type": "markdown",
   "id": "f501fd1e",
   "metadata": {},
   "source": [
    "**Observations on Usage**"
   ]
  },
  {
   "cell_type": "code",
   "execution_count": 508,
   "id": "0a3327f2",
   "metadata": {},
   "outputs": [
    {
     "data": {
      "image/png": "[encoded data removed]",
      "text/plain": [
       "<Figure size 432x288 with 1 Axes>"
      ]
     },
     "metadata": {
      "needs_background": "light"
     },
     "output_type": "display_data"
    },
    {
     "data": {
      "image/png": "[encoded data removed]",
      "text/plain": [
       "<Figure size 432x288 with 1 Axes>"
      ]
     },
     "metadata": {
      "needs_background": "light"
     },
     "output_type": "display_data"
    },
    {
     "name": "stdout",
     "output_type": "stream",
     "text": [
      "The average usage of the customers is 3 times per week\n"
     ]
    }
   ],
   "source": [
    "# Ploting histogram and box of Usage to know the distribution and skewness \n",
    "sns.histplot(data=data, x='Usage', kde = True)\n",
    "plt.title('Histogram of Usage')\n",
    "plt.show()\n",
    "sns.boxplot(data=data, x='Usage',showmeans=True)\n",
    "plt.title('Boxplot of Usage')\n",
    "plt.show()\n",
    "print('The average usage of the customers is {} times per week'.format(int(data.Usage.mean())))"
   ]
  },
  {
   "cell_type": "markdown",
   "id": "e35e771e",
   "metadata": {},
   "source": [
    "* The distribution is skewed towards right.\n",
    "* The average usage of the customers is 3 times per week.\n",
    "* There are few outliers present in this column. The usage of the product of the customer per week above 5 times are being represented as outliers in the boxplot."
   ]
  },
  {
   "cell_type": "markdown",
   "id": "47aa46e7",
   "metadata": {},
   "source": [
    "**Observations on Fitness**"
   ]
  },
  {
   "cell_type": "code",
   "execution_count": 510,
   "id": "97e803d1",
   "metadata": {},
   "outputs": [
    {
     "data": {
      "image/png": "[encoded data removed]",
      "text/plain": [
       "<Figure size 432x288 with 1 Axes>"
      ]
     },
     "metadata": {
      "needs_background": "light"
     },
     "output_type": "display_data"
    },
    {
     "data": {
      "image/png": "[encoded data removed]",
      "text/plain": [
       "<Figure size 432x288 with 1 Axes>"
      ]
     },
     "metadata": {
      "needs_background": "light"
     },
     "output_type": "display_data"
    },
    {
     "name": "stdout",
     "output_type": "stream",
     "text": [
      "The average fitness score is 3\n"
     ]
    }
   ],
   "source": [
    "# Ploting histogram and box of Fitness to know the distribution and skewness \n",
    "sns.histplot(data=data, x='Fitness', kde = True)\n",
    "plt.title('Histogram of Fitness')\n",
    "plt.show()\n",
    "sns.boxplot(data=data, x='Fitness')\n",
    "plt.title('Boxplot of Fitness')\n",
    "plt.show()\n",
    "print(f'The average fitness score is {int(data.Fitness.mean())}')"
   ]
  },
  {
   "cell_type": "markdown",
   "id": "1e4ebd4a",
   "metadata": {},
   "source": [
    "* The distribution of Fitness column looks close to normal.\n",
    "* The average fitness score is 3.\n",
    "* There are some outliers in the lower end. Fitness score below 2 are being represented as outlier in the boxplot."
   ]
  },
  {
   "cell_type": "markdown",
   "id": "cbf01b36",
   "metadata": {},
   "source": [
    "**Observations on Income**"
   ]
  },
  {
   "cell_type": "code",
   "execution_count": 512,
   "id": "62cdbfed",
   "metadata": {},
   "outputs": [
    {
     "data": {
      "image/png": "[encoded data removed]",
      "text/plain": [
       "<Figure size 432x288 with 1 Axes>"
      ]
     },
     "metadata": {
      "needs_background": "light"
     },
     "output_type": "display_data"
    },
    {
     "data": {
      "image/png": "[encoded data removed]",
      "text/plain": [
       "<Figure size 432x288 with 1 Axes>"
      ]
     },
     "metadata": {
      "needs_background": "light"
     },
     "output_type": "display_data"
    },
    {
     "name": "stdout",
     "output_type": "stream",
     "text": [
      "The average Income of the customers is 53719\n"
     ]
    }
   ],
   "source": [
    "# Ploting histogram and box of Income to know the distribution and skewness \n",
    "sns.histplot(data=data, x='Income', kde = True)\n",
    "plt.title('Histogram of Income')\n",
    "plt.show()\n",
    "sns.boxplot(data=data, x='Income')\n",
    "plt.title('Boxplot of Income')\n",
    "plt.show()\n",
    "print(f'The average Income of the customers is {int(data.Income.mean())}')"
   ]
  },
  {
   "cell_type": "markdown",
   "id": "3c7c68a7",
   "metadata": {},
   "source": [
    "* The distribution of Income variable is skewed towards right.\n",
    "* There are many outliers in this column. Income of the customer above 77K are being represented as outliers in boxplot."
   ]
  },
  {
   "cell_type": "markdown",
   "id": "bda6c944",
   "metadata": {},
   "source": [
    "**Observations on Miles**"
   ]
  },
  {
   "cell_type": "code",
   "execution_count": 524,
   "id": "574bbfd8",
   "metadata": {},
   "outputs": [
    {
     "data": {
      "image/png": "[encoded data removed]",
      "text/plain": [
       "<Figure size 432x288 with 1 Axes>"
      ]
     },
     "metadata": {
      "needs_background": "light"
     },
     "output_type": "display_data"
    },
    {
     "data": {
      "image/png": "[encoded data removed]",
      "text/plain": [
       "<Figure size 432x288 with 1 Axes>"
      ]
     },
     "metadata": {
      "needs_background": "light"
     },
     "output_type": "display_data"
    },
    {
     "name": "stdout",
     "output_type": "stream",
     "text": [
      "The average miles expected to run is 103 miles\n"
     ]
    }
   ],
   "source": [
    "# Ploting histogram and box of Miles to know the distribution and skewness \n",
    "sns.histplot(data=data, x='Miles', kde = True)\n",
    "plt.title('Histogram of Miles')\n",
    "plt.show()\n",
    "sns.boxplot(data=data, x='Miles')\n",
    "plt.title('Boxplot of Miles')\n",
    "plt.show()\n",
    "print(f'The average miles expected to run is {int(data.Miles.mean())} miles')"
   ]
  },
  {
   "cell_type": "markdown",
   "id": "cb0c25f7",
   "metadata": {},
   "source": [
    "* The distribution is skewed towards right.\n",
    "* There are many outliers in this column. \n",
    "* The Miles that a customer expected to run above 180 miles are being represented as outliers in the boxplot."
   ]
  },
  {
   "cell_type": "markdown",
   "id": "1ccc4b0e",
   "metadata": {},
   "source": [
    "**Distribution of Categorical variables**"
   ]
  },
  {
   "cell_type": "markdown",
   "id": "411730ac",
   "metadata": {},
   "source": [
    "**Observations on Product**"
   ]
  },
  {
   "cell_type": "code",
   "execution_count": 439,
   "id": "847635a2",
   "metadata": {},
   "outputs": [
    {
     "data": {
      "image/png": "[encoded data removed]",
      "text/plain": [
       "<Figure size 432x288 with 1 Axes>"
      ]
     },
     "metadata": {
      "needs_background": "light"
     },
     "output_type": "display_data"
    }
   ],
   "source": [
    "# Bargraph of Product\n",
    "sns.countplot(data=data,x='Product')\n",
    "plt.title('Bar graph of Product')\n",
    "plt.show()"
   ]
  },
  {
   "cell_type": "markdown",
   "id": "511b4050",
   "metadata": {},
   "source": [
    "* There are three different Treadmill products available to the customers and they are TM195, TM498 and TM798."
   ]
  },
  {
   "cell_type": "code",
   "execution_count": 441,
   "id": "2f385348",
   "metadata": {},
   "outputs": [
    {
     "data": {
      "text/plain": [
       "TM195   0.444\n",
       "TM498   0.333\n",
       "TM798   0.222\n",
       "Name: Product, dtype: float64"
      ]
     },
     "execution_count": 441,
     "metadata": {},
     "output_type": "execute_result"
    }
   ],
   "source": [
    "# let's check the count of each product\n",
    "data['Product'].value_counts(normalize=True)"
   ]
  },
  {
   "cell_type": "markdown",
   "id": "ac4359c0",
   "metadata": {},
   "source": [
    "* We can observe that 44% of the customers using the product TM195.\n",
    "* 33% of the customers using the product TM498.\n",
    "* Only 22% of the customers using the product TM798."
   ]
  },
  {
   "cell_type": "markdown",
   "id": "b4a37757",
   "metadata": {},
   "source": [
    "**Observations on Gender**"
   ]
  },
  {
   "cell_type": "code",
   "execution_count": 442,
   "id": "6c93e873",
   "metadata": {},
   "outputs": [
    {
     "data": {
      "image/png": "[encoded data removed]",
      "text/plain": [
       "<Figure size 432x288 with 1 Axes>"
      ]
     },
     "metadata": {
      "needs_background": "light"
     },
     "output_type": "display_data"
    }
   ],
   "source": [
    "# bar grah of gender\n",
    "sns.countplot(data=data,x='Gender')\n",
    "plt.title('Bar graph of Gender')\n",
    "plt.show()"
   ]
  },
  {
   "cell_type": "markdown",
   "id": "e09daec2",
   "metadata": {},
   "source": [
    "* Female customers are less than male customers.\n",
    "* Male customers are buying more treadmill than female customers."
   ]
  },
  {
   "cell_type": "code",
   "execution_count": 443,
   "id": "2ac7b3cf",
   "metadata": {},
   "outputs": [
    {
     "data": {
      "text/plain": [
       "Male     0.578\n",
       "Female   0.422\n",
       "Name: Gender, dtype: float64"
      ]
     },
     "execution_count": 443,
     "metadata": {},
     "output_type": "execute_result"
    }
   ],
   "source": [
    "# let's check the count of male and female customers \n",
    "data['Gender'].value_counts(normalize=True)"
   ]
  },
  {
   "cell_type": "markdown",
   "id": "f5ef03e8",
   "metadata": {},
   "source": [
    "* 57.8% of customers are male and 42.2% are female customers."
   ]
  },
  {
   "cell_type": "markdown",
   "id": "ff78785c",
   "metadata": {},
   "source": [
    "**Observations on Marital Status**"
   ]
  },
  {
   "cell_type": "code",
   "execution_count": 514,
   "id": "71ffcf33",
   "metadata": {},
   "outputs": [
    {
     "data": {
      "text/plain": [
       "Partnered   0.594\n",
       "Single      0.406\n",
       "Name: MaritalStatus, dtype: float64"
      ]
     },
     "execution_count": 514,
     "metadata": {},
     "output_type": "execute_result"
    }
   ],
   "source": [
    "# let's check the count of Partnered and single customers\n",
    "data['MaritalStatus'].value_counts(normalize=True)"
   ]
  },
  {
   "cell_type": "code",
   "execution_count": 444,
   "id": "cab514ed",
   "metadata": {},
   "outputs": [
    {
     "data": {
      "image/png": "[encoded data removed]",
      "text/plain": [
       "<Figure size 432x288 with 1 Axes>"
      ]
     },
     "metadata": {
      "needs_background": "light"
     },
     "output_type": "display_data"
    }
   ],
   "source": [
    "# Bar graph of gender\n",
    "sns.countplot(data=data,x='MaritalStatus')\n",
    "plt.title('Bar graph of Gender')\n",
    "plt.show()"
   ]
  },
  {
   "cell_type": "markdown",
   "id": "f23d0544",
   "metadata": {},
   "source": [
    "* 59.4% of customers are partnered customers \n",
    "* Partnered customers buys more treadmill than single customers.\n"
   ]
  },
  {
   "cell_type": "markdown",
   "id": "9c79471e",
   "metadata": {},
   "source": [
    "###  Bivariate data analysis and analysing characeteristics of customers for each product"
   ]
  },
  {
   "cell_type": "markdown",
   "id": "8e8e0ab1",
   "metadata": {},
   "source": [
    "**Let's analyze the customer profile of the different products of Treadmill**"
   ]
  },
  {
   "cell_type": "markdown",
   "id": "5e3e5d8e",
   "metadata": {},
   "source": [
    "**Let's analyze and visualize the customers based on the product and gender column**"
   ]
  },
  {
   "cell_type": "code",
   "execution_count": 446,
   "id": "e605ef04",
   "metadata": {},
   "outputs": [
    {
     "data": {
      "text/plain": [
       "Male     0.500\n",
       "Female   0.500\n",
       "Name: Gender, dtype: float64"
      ]
     },
     "execution_count": 446,
     "metadata": {},
     "output_type": "execute_result"
    }
   ],
   "source": [
    "# using data.loc getting the value counts for the gender column of the product TM195\n",
    "data.loc[data['Product']=='TM195','Gender'].value_counts(normalize=True)"
   ]
  },
  {
   "cell_type": "code",
   "execution_count": 447,
   "id": "8382e7cc",
   "metadata": {},
   "outputs": [
    {
     "data": {
      "image/png": "[encoded data removed]",
      "text/plain": [
       "<Figure size 432x288 with 1 Axes>"
      ]
     },
     "metadata": {
      "needs_background": "light"
     },
     "output_type": "display_data"
    }
   ],
   "source": [
    "# Ploting the countplot for the gender of product TM195\n",
    "sns.countplot(data=data.loc[data['Product']=='TM195'], x='Gender');\n",
    "plt.title('Gender of Product TM195');"
   ]
  },
  {
   "cell_type": "markdown",
   "id": "b048d939",
   "metadata": {},
   "source": [
    "* The product TM195 is purchased by same number of male and female customers.\n",
    "* 50% of male and 50% of female customers."
   ]
  },
  {
   "cell_type": "code",
   "execution_count": 448,
   "id": "da9c19c4",
   "metadata": {},
   "outputs": [
    {
     "data": {
      "text/plain": [
       "Male     0.517\n",
       "Female   0.483\n",
       "Name: Gender, dtype: float64"
      ]
     },
     "execution_count": 448,
     "metadata": {},
     "output_type": "execute_result"
    }
   ],
   "source": [
    "# using data.loc getting the value counts for the gender column of the product TM498\n",
    "data.loc[data['Product']=='TM498','Gender'].value_counts(normalize=True)"
   ]
  },
  {
   "cell_type": "code",
   "execution_count": 449,
   "id": "fddf99da",
   "metadata": {},
   "outputs": [
    {
     "data": {
      "image/png": "[encoded data removed]",
      "text/plain": [
       "<Figure size 432x288 with 1 Axes>"
      ]
     },
     "metadata": {
      "needs_background": "light"
     },
     "output_type": "display_data"
    }
   ],
   "source": [
    "# Ploting the countplot for the gender of product TM498\n",
    "sns.countplot(data=data.loc[data['Product']=='TM498'], x='Gender');\n",
    "plt.title('Gender of Product TM498');"
   ]
  },
  {
   "cell_type": "markdown",
   "id": "c5c7190e",
   "metadata": {},
   "source": [
    "* The product TM498 purchased by more male customers than female customers.\n",
    "* 51.7% of male customers and 48.3% of female customers."
   ]
  },
  {
   "cell_type": "code",
   "execution_count": 450,
   "id": "c31c0527",
   "metadata": {},
   "outputs": [
    {
     "data": {
      "text/plain": [
       "Male     0.825\n",
       "Female   0.175\n",
       "Name: Gender, dtype: float64"
      ]
     },
     "execution_count": 450,
     "metadata": {},
     "output_type": "execute_result"
    }
   ],
   "source": [
    "# using data.loc getting the value counts for the gender column of the product TM798\n",
    "data.loc[data['Product']=='TM798','Gender'].value_counts(normalize=True)"
   ]
  },
  {
   "cell_type": "code",
   "execution_count": 451,
   "id": "9ec928a3",
   "metadata": {},
   "outputs": [
    {
     "data": {
      "image/png": "[encoded data removed]",
      "text/plain": [
       "<Figure size 432x288 with 1 Axes>"
      ]
     },
     "metadata": {
      "needs_background": "light"
     },
     "output_type": "display_data"
    }
   ],
   "source": [
    "# Ploting the countplot for the gender of product TM798\n",
    "sns.countplot(data=data.loc[data['Product']=='TM798'], x='Gender');\n",
    "plt.title('Gender of Product TM798');"
   ]
  },
  {
   "cell_type": "markdown",
   "id": "d7391835",
   "metadata": {},
   "source": [
    "* The product TM195 is highly purchased by male customers.\n",
    "* 82.5% of male customers and only 17.5% of female customers purchased this product."
   ]
  },
  {
   "cell_type": "code",
   "execution_count": 515,
   "id": "ec010be0",
   "metadata": {},
   "outputs": [
    {
     "data": {
      "text/plain": [
       "Product  Gender\n",
       "TM195    Female   0.500\n",
       "         Male     0.500\n",
       "TM498    Male     0.517\n",
       "         Female   0.483\n",
       "TM798    Male     0.825\n",
       "         Female   0.175\n",
       "Name: Gender, dtype: float64"
      ]
     },
     "execution_count": 515,
     "metadata": {},
     "output_type": "execute_result"
    }
   ],
   "source": [
    "# Getting the count of gender of customer for each products\n",
    "data.groupby(by='Product')['Gender'].value_counts(normalize=True)"
   ]
  },
  {
   "cell_type": "code",
   "execution_count": 453,
   "id": "1e596dc9",
   "metadata": {},
   "outputs": [
    {
     "data": {
      "image/png": "[encoded data removed]",
      "text/plain": [
       "<Figure size 432x288 with 1 Axes>"
      ]
     },
     "metadata": {
      "needs_background": "light"
     },
     "output_type": "display_data"
    }
   ],
   "source": [
    "# The plot of male and female customers of each product\n",
    "sns.countplot(data=data, x='Product', hue='Gender');"
   ]
  },
  {
   "cell_type": "markdown",
   "id": "901b9daa",
   "metadata": {},
   "source": [
    "**observations**\n",
    "* TM195 is purchased by equal number of male and female customers.\n",
    "* TM498 is purchased by more male customers when compared to female customers.\n",
    "* TM798 is highly purchased by male customers and less female customers purchased this product."
   ]
  },
  {
   "cell_type": "markdown",
   "id": "b3410a0f",
   "metadata": {},
   "source": [
    "**Let's analyze and visualize the customers based on the product and age column**"
   ]
  },
  {
   "cell_type": "code",
   "execution_count": 454,
   "id": "e9dec841",
   "metadata": {},
   "outputs": [],
   "source": [
    "# adding bins to the age column using pd.cut \n",
    "bins=[15,20,25,30,35,40,45,50]\n",
    "data['Age_bins'] = pd.cut(data['Age'], bins)"
   ]
  },
  {
   "cell_type": "code",
   "execution_count": 455,
   "id": "8faa9d00",
   "metadata": {},
   "outputs": [
    {
     "data": {
      "text/plain": [
       "(20, 25]   0.350\n",
       "(25, 30]   0.263\n",
       "(30, 35]   0.138\n",
       "(35, 40]   0.100\n",
       "(15, 20]   0.075\n",
       "(40, 45]   0.037\n",
       "(45, 50]   0.037\n",
       "Name: Age_bins, dtype: float64"
      ]
     },
     "execution_count": 455,
     "metadata": {},
     "output_type": "execute_result"
    }
   ],
   "source": [
    "# calculating the count for each range of Age_bins of the product TM195\n",
    "data.loc[data['Product']=='TM195','Age_bins'].value_counts(normalize=True)"
   ]
  },
  {
   "cell_type": "code",
   "execution_count": 456,
   "id": "61cba8b5",
   "metadata": {},
   "outputs": [
    {
     "data": {
      "text/plain": [
       "count           80\n",
       "unique           7\n",
       "top       (20, 25]\n",
       "freq            28\n",
       "Name: Age_bins, dtype: object"
      ]
     },
     "execution_count": 456,
     "metadata": {},
     "output_type": "execute_result"
    }
   ],
   "source": [
    "data.loc[data['Product']=='TM195','Age_bins'].describe()"
   ]
  },
  {
   "cell_type": "code",
   "execution_count": 458,
   "id": "80fcedfd",
   "metadata": {},
   "outputs": [
    {
     "data": {
      "image/png": "[encoded data removed]",
      "text/plain": [
       "<Figure size 432x288 with 1 Axes>"
      ]
     },
     "metadata": {
      "needs_background": "light"
     },
     "output_type": "display_data"
    }
   ],
   "source": [
    "# ploting countplot for the Age_bins of the product TM195\n",
    "sns.countplot(data=data.loc[data['Product']=='TM195'], x='Age_bins');\n",
    "plt.title('Age_bins of Product TM195');"
   ]
  },
  {
   "cell_type": "markdown",
   "id": "363c20c8",
   "metadata": {},
   "source": [
    "* The age of customers who purchased TM195 most is in range of 20 to 30 years.\n",
    "* 35% of customers ranges from 20 to 25 years and 26.3% of customers ranges from 25 to 30 years.\n",
    "* Only few customers of age 40 years and above."
   ]
  },
  {
   "cell_type": "code",
   "execution_count": 459,
   "id": "b971023c",
   "metadata": {},
   "outputs": [
    {
     "data": {
      "text/plain": [
       "(20, 25]   0.400\n",
       "(30, 35]   0.283\n",
       "(25, 30]   0.117\n",
       "(35, 40]   0.100\n",
       "(15, 20]   0.067\n",
       "(40, 45]   0.017\n",
       "(45, 50]   0.017\n",
       "Name: Age_bins, dtype: float64"
      ]
     },
     "execution_count": 459,
     "metadata": {},
     "output_type": "execute_result"
    }
   ],
   "source": [
    "# calculating the count for each range of Age_bins of the product TM498\n",
    "data.loc[data['Product']=='TM498','Age_bins'].value_counts(normalize=True)"
   ]
  },
  {
   "cell_type": "code",
   "execution_count": 460,
   "id": "0746378b",
   "metadata": {},
   "outputs": [
    {
     "data": {
      "image/png": "[encoded data removed]",
      "text/plain": [
       "<Figure size 432x288 with 1 Axes>"
      ]
     },
     "metadata": {
      "needs_background": "light"
     },
     "output_type": "display_data"
    }
   ],
   "source": [
    "# ploting countplot for the Age_bins of the product TM498\n",
    "sns.countplot(data=data.loc[data['Product']=='TM498'], x='Age_bins');\n",
    "plt.title('Age_bins of Product TM498');"
   ]
  },
  {
   "cell_type": "markdown",
   "id": "e78a528d",
   "metadata": {},
   "source": [
    "* The age of most of the customer purchased TM498 is 20 to 25 years.\n",
    "* The customers with the age range of 30 to 35 years also purchased this product significantly."
   ]
  },
  {
   "cell_type": "code",
   "execution_count": 461,
   "id": "43b28bee",
   "metadata": {},
   "outputs": [
    {
     "data": {
      "text/plain": [
       "(20, 25]   0.425\n",
       "(25, 30]   0.325\n",
       "(30, 35]   0.100\n",
       "(35, 40]   0.050\n",
       "(40, 45]   0.050\n",
       "(45, 50]   0.050\n",
       "(15, 20]   0.000\n",
       "Name: Age_bins, dtype: float64"
      ]
     },
     "execution_count": 461,
     "metadata": {},
     "output_type": "execute_result"
    }
   ],
   "source": [
    "# calculating the count for each range of Age_bins of the product TM798\n",
    "data.loc[data['Product']=='TM798','Age_bins'].value_counts(normalize=True)"
   ]
  },
  {
   "cell_type": "code",
   "execution_count": 462,
   "id": "54db0449",
   "metadata": {},
   "outputs": [
    {
     "data": {
      "image/png": "[encoded data removed]",
      "text/plain": [
       "<Figure size 432x288 with 1 Axes>"
      ]
     },
     "metadata": {
      "needs_background": "light"
     },
     "output_type": "display_data"
    }
   ],
   "source": [
    "# ploting countplot for the Age_bins of the product TM798\n",
    "sns.countplot(data=data.loc[data['Product']=='TM798'], x='Age_bins');\n",
    "plt.title('Age_bins of Product TM798');"
   ]
  },
  {
   "cell_type": "markdown",
   "id": "a6c9bd8a",
   "metadata": {},
   "source": [
    "* The age of customers who purchased TM798 is similar to customer who purchased TM195.\n",
    "* Customer's age who purchased more is 20 to 25 years. "
   ]
  },
  {
   "cell_type": "code",
   "execution_count": 516,
   "id": "68ba0ce9",
   "metadata": {},
   "outputs": [
    {
     "data": {
      "image/png": "[encoded data removed]",
      "text/plain": [
       "<Figure size 432x288 with 1 Axes>"
      ]
     },
     "metadata": {
      "needs_background": "light"
     },
     "output_type": "display_data"
    }
   ],
   "source": [
    "# Bar graph of age bins for different product\n",
    "sns.countplot(data=data, hue='Product', x='Age_bins');"
   ]
  },
  {
   "cell_type": "code",
   "execution_count": 463,
   "id": "5fb3d21a",
   "metadata": {},
   "outputs": [
    {
     "data": {
      "text/plain": [
       "Product\n",
       "TM195   28.550\n",
       "TM498   28.900\n",
       "TM798   29.100\n",
       "Name: Age, dtype: float64"
      ]
     },
     "execution_count": 463,
     "metadata": {},
     "output_type": "execute_result"
    }
   ],
   "source": [
    "# The average age of the customer for each product\n",
    "data.groupby(by='Product')['Age'].mean()"
   ]
  },
  {
   "cell_type": "code",
   "execution_count": 464,
   "id": "c071ea2e",
   "metadata": {},
   "outputs": [
    {
     "data": {
      "image/png": "[encoded data removed]",
      "text/plain": [
       "<Figure size 432x288 with 1 Axes>"
      ]
     },
     "metadata": {
      "needs_background": "light"
     },
     "output_type": "display_data"
    }
   ],
   "source": [
    "# plotting boxplot for Product and age\n",
    "sns.boxplot(data=data, x='Product', y='Age', showmeans=True);\n",
    "plt.title('Boxplot of Product and Age');"
   ]
  },
  {
   "cell_type": "markdown",
   "id": "f62f7c42",
   "metadata": {},
   "source": [
    "**Observation**\n",
    "* The average age of the customer for all three products close to same 28 years.\n",
    "* We can observe that for all products of Treadmill, younger age group of people purchased more than older age group of people."
   ]
  },
  {
   "cell_type": "markdown",
   "id": "ae74057f",
   "metadata": {},
   "source": [
    "**Let's analyze and visualize the customers based on the product and Income column**"
   ]
  },
  {
   "cell_type": "code",
   "execution_count": 465,
   "id": "6444a464",
   "metadata": {},
   "outputs": [
    {
     "data": {
      "text/plain": [
       "Product\n",
       "TM195   46418.025\n",
       "TM498   48973.650\n",
       "TM798   75441.575\n",
       "Name: Income, dtype: float64"
      ]
     },
     "execution_count": 465,
     "metadata": {},
     "output_type": "execute_result"
    }
   ],
   "source": [
    "# The average Income of the customers of different product\n",
    "data.groupby('Product')['Income'].mean()"
   ]
  },
  {
   "cell_type": "code",
   "execution_count": 466,
   "id": "ca23ca31",
   "metadata": {},
   "outputs": [
    {
     "data": {
      "text/html": [
       "<div>\n",
       "<style scoped>\n",
       "    .dataframe tbody tr th:only-of-type {\n",
       "        vertical-align: middle;\n",
       "    }\n",
       "\n",
       "    .dataframe tbody tr th {\n",
       "        vertical-align: top;\n",
       "    }\n",
       "\n",
       "    .dataframe thead th {\n",
       "        text-align: right;\n",
       "    }\n",
       "</style>\n",
       "<table border=\"1\" class=\"dataframe\">\n",
       "  <thead>\n",
       "    <tr style=\"text-align: right;\">\n",
       "      <th></th>\n",
       "      <th>count</th>\n",
       "      <th>mean</th>\n",
       "      <th>std</th>\n",
       "      <th>min</th>\n",
       "      <th>25%</th>\n",
       "      <th>50%</th>\n",
       "      <th>75%</th>\n",
       "      <th>max</th>\n",
       "    </tr>\n",
       "    <tr>\n",
       "      <th>Product</th>\n",
       "      <th></th>\n",
       "      <th></th>\n",
       "      <th></th>\n",
       "      <th></th>\n",
       "      <th></th>\n",
       "      <th></th>\n",
       "      <th></th>\n",
       "      <th></th>\n",
       "    </tr>\n",
       "  </thead>\n",
       "  <tbody>\n",
       "    <tr>\n",
       "      <th>TM195</th>\n",
       "      <td>80.000</td>\n",
       "      <td>46418.025</td>\n",
       "      <td>9075.783</td>\n",
       "      <td>29562.000</td>\n",
       "      <td>38658.000</td>\n",
       "      <td>46617.000</td>\n",
       "      <td>53439.000</td>\n",
       "      <td>68220.000</td>\n",
       "    </tr>\n",
       "    <tr>\n",
       "      <th>TM498</th>\n",
       "      <td>60.000</td>\n",
       "      <td>48973.650</td>\n",
       "      <td>8653.989</td>\n",
       "      <td>31836.000</td>\n",
       "      <td>44911.500</td>\n",
       "      <td>49459.500</td>\n",
       "      <td>53439.000</td>\n",
       "      <td>67083.000</td>\n",
       "    </tr>\n",
       "    <tr>\n",
       "      <th>TM798</th>\n",
       "      <td>40.000</td>\n",
       "      <td>75441.575</td>\n",
       "      <td>18505.837</td>\n",
       "      <td>48556.000</td>\n",
       "      <td>58204.750</td>\n",
       "      <td>76568.500</td>\n",
       "      <td>90886.000</td>\n",
       "      <td>104581.000</td>\n",
       "    </tr>\n",
       "  </tbody>\n",
       "</table>\n",
       "</div>"
      ],
      "text/plain": [
       "         count      mean       std       min       25%       50%       75%  \\\n",
       "Product                                                                      \n",
       "TM195   80.000 46418.025  9075.783 29562.000 38658.000 46617.000 53439.000   \n",
       "TM498   60.000 48973.650  8653.989 31836.000 44911.500 49459.500 53439.000   \n",
       "TM798   40.000 75441.575 18505.837 48556.000 58204.750 76568.500 90886.000   \n",
       "\n",
       "               max  \n",
       "Product             \n",
       "TM195    68220.000  \n",
       "TM498    67083.000  \n",
       "TM798   104581.000  "
      ]
     },
     "execution_count": 466,
     "metadata": {},
     "output_type": "execute_result"
    }
   ],
   "source": [
    "# The statistical summary of customer's Income for each product\n",
    "data.groupby('Product')['Income'].describe()"
   ]
  },
  {
   "cell_type": "code",
   "execution_count": 467,
   "id": "916fb655",
   "metadata": {},
   "outputs": [
    {
     "data": {
      "image/png": "[encoded data removed]",
      "text/plain": [
       "<Figure size 432x288 with 1 Axes>"
      ]
     },
     "metadata": {
      "needs_background": "light"
     },
     "output_type": "display_data"
    }
   ],
   "source": [
    "# Plotting the Income for each product\n",
    "sns.boxplot(data=data,x='Product', y='Income', showmeans=True);\n",
    "plt.title('Boxplot for Product and Income');"
   ]
  },
  {
   "cell_type": "markdown",
   "id": "1417c087",
   "metadata": {},
   "source": [
    "**Observations**\n",
    "* The average income of customers who purchased TM195 and TM498 is close to each other with 46K and 48K.\n",
    "* The average income of customers who purchased TM798 is 75k.\n",
    "* The customers with income range of 29K to 68K purchased the products TM195 and TM498.\n",
    "* The customers with income range of 48k to 100k purchased the product TM798."
   ]
  },
  {
   "cell_type": "markdown",
   "id": "626eede6",
   "metadata": {},
   "source": [
    "**Let's analyze and visualize the customers based on the product and usage columns.**"
   ]
  },
  {
   "cell_type": "code",
   "execution_count": 468,
   "id": "4e3473d8",
   "metadata": {},
   "outputs": [
    {
     "data": {
      "text/plain": [
       "Product\n",
       "TM195   3.087\n",
       "TM498   3.067\n",
       "TM798   4.775\n",
       "Name: Usage, dtype: float64"
      ]
     },
     "execution_count": 468,
     "metadata": {},
     "output_type": "execute_result"
    }
   ],
   "source": [
    "# The average usage of product per week\n",
    "data.groupby('Product')['Usage'].mean()"
   ]
  },
  {
   "cell_type": "code",
   "execution_count": 469,
   "id": "60cde1ff",
   "metadata": {},
   "outputs": [
    {
     "data": {
      "text/html": [
       "<div>\n",
       "<style scoped>\n",
       "    .dataframe tbody tr th:only-of-type {\n",
       "        vertical-align: middle;\n",
       "    }\n",
       "\n",
       "    .dataframe tbody tr th {\n",
       "        vertical-align: top;\n",
       "    }\n",
       "\n",
       "    .dataframe thead th {\n",
       "        text-align: right;\n",
       "    }\n",
       "</style>\n",
       "<table border=\"1\" class=\"dataframe\">\n",
       "  <thead>\n",
       "    <tr style=\"text-align: right;\">\n",
       "      <th></th>\n",
       "      <th>count</th>\n",
       "      <th>mean</th>\n",
       "      <th>std</th>\n",
       "      <th>min</th>\n",
       "      <th>25%</th>\n",
       "      <th>50%</th>\n",
       "      <th>75%</th>\n",
       "      <th>max</th>\n",
       "    </tr>\n",
       "    <tr>\n",
       "      <th>Product</th>\n",
       "      <th></th>\n",
       "      <th></th>\n",
       "      <th></th>\n",
       "      <th></th>\n",
       "      <th></th>\n",
       "      <th></th>\n",
       "      <th></th>\n",
       "      <th></th>\n",
       "    </tr>\n",
       "  </thead>\n",
       "  <tbody>\n",
       "    <tr>\n",
       "      <th>TM195</th>\n",
       "      <td>80.000</td>\n",
       "      <td>3.087</td>\n",
       "      <td>0.783</td>\n",
       "      <td>2.000</td>\n",
       "      <td>3.000</td>\n",
       "      <td>3.000</td>\n",
       "      <td>4.000</td>\n",
       "      <td>5.000</td>\n",
       "    </tr>\n",
       "    <tr>\n",
       "      <th>TM498</th>\n",
       "      <td>60.000</td>\n",
       "      <td>3.067</td>\n",
       "      <td>0.800</td>\n",
       "      <td>2.000</td>\n",
       "      <td>3.000</td>\n",
       "      <td>3.000</td>\n",
       "      <td>3.250</td>\n",
       "      <td>5.000</td>\n",
       "    </tr>\n",
       "    <tr>\n",
       "      <th>TM798</th>\n",
       "      <td>40.000</td>\n",
       "      <td>4.775</td>\n",
       "      <td>0.947</td>\n",
       "      <td>3.000</td>\n",
       "      <td>4.000</td>\n",
       "      <td>5.000</td>\n",
       "      <td>5.000</td>\n",
       "      <td>7.000</td>\n",
       "    </tr>\n",
       "  </tbody>\n",
       "</table>\n",
       "</div>"
      ],
      "text/plain": [
       "         count  mean   std   min   25%   50%   75%   max\n",
       "Product                                                 \n",
       "TM195   80.000 3.087 0.783 2.000 3.000 3.000 4.000 5.000\n",
       "TM498   60.000 3.067 0.800 2.000 3.000 3.000 3.250 5.000\n",
       "TM798   40.000 4.775 0.947 3.000 4.000 5.000 5.000 7.000"
      ]
     },
     "execution_count": 469,
     "metadata": {},
     "output_type": "execute_result"
    }
   ],
   "source": [
    "# The statistical summary of usage of customer for each product\n",
    "data.groupby('Product')['Usage'].describe()"
   ]
  },
  {
   "cell_type": "code",
   "execution_count": 470,
   "id": "73ab901d",
   "metadata": {},
   "outputs": [
    {
     "data": {
      "image/png": "[encoded data removed]",
      "text/plain": [
       "<Figure size 432x288 with 1 Axes>"
      ]
     },
     "metadata": {
      "needs_background": "light"
     },
     "output_type": "display_data"
    }
   ],
   "source": [
    "# plotting boxplot of product and usage of customer per week\n",
    "sns.boxplot(data=data, x='Product', y='Usage', showmeans=True);\n",
    "plt.title('Boxplot of Product and Usage');"
   ]
  },
  {
   "cell_type": "markdown",
   "id": "725a9689",
   "metadata": {},
   "source": [
    "**Observations**\n",
    "* The average use of product TM195 and TM498 is close to 3 times per week.\n",
    "* The average use of product TM798 is close to 5 times per week.\n",
    "* Customers of the product TM798 uses more when compared to customers of other products.\n",
    "* The product TM498 is less used by the customers."
   ]
  },
  {
   "cell_type": "markdown",
   "id": "cf20d65c",
   "metadata": {},
   "source": [
    "**Let's analyze and visualize the customers based on the product and MaritalStatus column**"
   ]
  },
  {
   "cell_type": "code",
   "execution_count": 471,
   "id": "f1ee0528",
   "metadata": {},
   "outputs": [
    {
     "name": "stdout",
     "output_type": "stream",
     "text": [
      "Product  MaritalStatus\n",
      "TM195    Partnered       0.600\n",
      "         Single          0.400\n",
      "TM498    Partnered       0.600\n",
      "         Single          0.400\n",
      "TM798    Partnered       0.575\n",
      "         Single          0.425\n",
      "Name: MaritalStatus, dtype: float64\n",
      "\n",
      "        count unique        top freq\n",
      "Product                             \n",
      "TM195      80      2  Partnered   48\n",
      "TM498      60      2  Partnered   36\n",
      "TM798      40      2  Partnered   23\n"
     ]
    },
    {
     "data": {
      "image/png": "[encoded data removed]",
      "text/plain": [
       "<Figure size 432x288 with 1 Axes>"
      ]
     },
     "metadata": {
      "needs_background": "light"
     },
     "output_type": "display_data"
    }
   ],
   "source": [
    "# The customer's maritalstatus for each product\n",
    "print(data.groupby('Product')['MaritalStatus'].value_counts(normalize=True))\n",
    "print()\n",
    "\n",
    "# The statistical summary of each product for customer's marital status\n",
    "print(data.groupby('Product')['MaritalStatus'].describe())\n",
    "\n",
    "# The plotting for product and marital status of customers\n",
    "sns.countplot(data=data, x='Product', hue='MaritalStatus');\n",
    "plt.title('Bargraph of Product and MaritalStatus');"
   ]
  },
  {
   "cell_type": "markdown",
   "id": "debd42de",
   "metadata": {},
   "source": [
    "**Obsevations**\n",
    "* For all three products, the customers who partnered purchased more than single customers.\n"
   ]
  },
  {
   "cell_type": "markdown",
   "id": "08517417",
   "metadata": {},
   "source": [
    "**Let's analyze and visualize the customers based on the product and fitness score column**"
   ]
  },
  {
   "cell_type": "code",
   "execution_count": 520,
   "id": "48a6564c",
   "metadata": {},
   "outputs": [
    {
     "data": {
      "text/html": [
       "<div>\n",
       "<style scoped>\n",
       "    .dataframe tbody tr th:only-of-type {\n",
       "        vertical-align: middle;\n",
       "    }\n",
       "\n",
       "    .dataframe tbody tr th {\n",
       "        vertical-align: top;\n",
       "    }\n",
       "\n",
       "    .dataframe thead th {\n",
       "        text-align: right;\n",
       "    }\n",
       "</style>\n",
       "<table border=\"1\" class=\"dataframe\">\n",
       "  <thead>\n",
       "    <tr style=\"text-align: right;\">\n",
       "      <th></th>\n",
       "      <th>count</th>\n",
       "      <th>mean</th>\n",
       "      <th>std</th>\n",
       "      <th>min</th>\n",
       "      <th>25%</th>\n",
       "      <th>50%</th>\n",
       "      <th>75%</th>\n",
       "      <th>max</th>\n",
       "    </tr>\n",
       "    <tr>\n",
       "      <th>Product</th>\n",
       "      <th></th>\n",
       "      <th></th>\n",
       "      <th></th>\n",
       "      <th></th>\n",
       "      <th></th>\n",
       "      <th></th>\n",
       "      <th></th>\n",
       "      <th></th>\n",
       "    </tr>\n",
       "  </thead>\n",
       "  <tbody>\n",
       "    <tr>\n",
       "      <th>TM195</th>\n",
       "      <td>80.000</td>\n",
       "      <td>2.962</td>\n",
       "      <td>0.665</td>\n",
       "      <td>1.000</td>\n",
       "      <td>3.000</td>\n",
       "      <td>3.000</td>\n",
       "      <td>3.000</td>\n",
       "      <td>5.000</td>\n",
       "    </tr>\n",
       "    <tr>\n",
       "      <th>TM498</th>\n",
       "      <td>60.000</td>\n",
       "      <td>2.900</td>\n",
       "      <td>0.630</td>\n",
       "      <td>1.000</td>\n",
       "      <td>3.000</td>\n",
       "      <td>3.000</td>\n",
       "      <td>3.000</td>\n",
       "      <td>4.000</td>\n",
       "    </tr>\n",
       "    <tr>\n",
       "      <th>TM798</th>\n",
       "      <td>40.000</td>\n",
       "      <td>4.625</td>\n",
       "      <td>0.667</td>\n",
       "      <td>3.000</td>\n",
       "      <td>4.000</td>\n",
       "      <td>5.000</td>\n",
       "      <td>5.000</td>\n",
       "      <td>5.000</td>\n",
       "    </tr>\n",
       "  </tbody>\n",
       "</table>\n",
       "</div>"
      ],
      "text/plain": [
       "         count  mean   std   min   25%   50%   75%   max\n",
       "Product                                                 \n",
       "TM195   80.000 2.962 0.665 1.000 3.000 3.000 3.000 5.000\n",
       "TM498   60.000 2.900 0.630 1.000 3.000 3.000 3.000 4.000\n",
       "TM798   40.000 4.625 0.667 3.000 4.000 5.000 5.000 5.000"
      ]
     },
     "execution_count": 520,
     "metadata": {},
     "output_type": "execute_result"
    }
   ],
   "source": [
    "# statistical summary of fitness score of the customers for different products.\n",
    "data.groupby('Product')['Fitness'].describe()"
   ]
  },
  {
   "cell_type": "code",
   "execution_count": 521,
   "id": "671de49e",
   "metadata": {},
   "outputs": [
    {
     "data": {
      "image/png": "[encoded data removed]",
      "text/plain": [
       "<Figure size 432x288 with 1 Axes>"
      ]
     },
     "metadata": {
      "needs_background": "light"
     },
     "output_type": "display_data"
    }
   ],
   "source": [
    "# barplot of Product and Fitness\n",
    "sns.barplot(data=data, x='Product', y='Fitness');\n",
    "plt.title('Barplot of Product and Fitness');"
   ]
  },
  {
   "cell_type": "markdown",
   "id": "646cde64",
   "metadata": {},
   "source": [
    "**Observation**\n",
    "* Fitness score of customers using TM798 is high when compared to customers using other products.\n",
    "* The average fitness score for TM798 is 4.6.\n",
    "* The average fitness score for TM195 and TM498 is 2.9."
   ]
  },
  {
   "cell_type": "markdown",
   "id": "cf6d54b0",
   "metadata": {},
   "source": [
    "**Let's analyze and visualize the customers based on the product and Miles column**"
   ]
  },
  {
   "cell_type": "code",
   "execution_count": 474,
   "id": "c0b32406",
   "metadata": {},
   "outputs": [
    {
     "data": {
      "text/html": [
       "<div>\n",
       "<style scoped>\n",
       "    .dataframe tbody tr th:only-of-type {\n",
       "        vertical-align: middle;\n",
       "    }\n",
       "\n",
       "    .dataframe tbody tr th {\n",
       "        vertical-align: top;\n",
       "    }\n",
       "\n",
       "    .dataframe thead th {\n",
       "        text-align: right;\n",
       "    }\n",
       "</style>\n",
       "<table border=\"1\" class=\"dataframe\">\n",
       "  <thead>\n",
       "    <tr style=\"text-align: right;\">\n",
       "      <th></th>\n",
       "      <th>count</th>\n",
       "      <th>mean</th>\n",
       "      <th>std</th>\n",
       "      <th>min</th>\n",
       "      <th>25%</th>\n",
       "      <th>50%</th>\n",
       "      <th>75%</th>\n",
       "      <th>max</th>\n",
       "    </tr>\n",
       "    <tr>\n",
       "      <th>Product</th>\n",
       "      <th></th>\n",
       "      <th></th>\n",
       "      <th></th>\n",
       "      <th></th>\n",
       "      <th></th>\n",
       "      <th></th>\n",
       "      <th></th>\n",
       "      <th></th>\n",
       "    </tr>\n",
       "  </thead>\n",
       "  <tbody>\n",
       "    <tr>\n",
       "      <th>TM195</th>\n",
       "      <td>80.000</td>\n",
       "      <td>82.787</td>\n",
       "      <td>28.874</td>\n",
       "      <td>38.000</td>\n",
       "      <td>66.000</td>\n",
       "      <td>85.000</td>\n",
       "      <td>94.000</td>\n",
       "      <td>188.000</td>\n",
       "    </tr>\n",
       "    <tr>\n",
       "      <th>TM498</th>\n",
       "      <td>60.000</td>\n",
       "      <td>87.933</td>\n",
       "      <td>33.263</td>\n",
       "      <td>21.000</td>\n",
       "      <td>64.000</td>\n",
       "      <td>85.000</td>\n",
       "      <td>106.000</td>\n",
       "      <td>212.000</td>\n",
       "    </tr>\n",
       "    <tr>\n",
       "      <th>TM798</th>\n",
       "      <td>40.000</td>\n",
       "      <td>166.900</td>\n",
       "      <td>60.067</td>\n",
       "      <td>80.000</td>\n",
       "      <td>120.000</td>\n",
       "      <td>160.000</td>\n",
       "      <td>200.000</td>\n",
       "      <td>360.000</td>\n",
       "    </tr>\n",
       "  </tbody>\n",
       "</table>\n",
       "</div>"
      ],
      "text/plain": [
       "         count    mean    std    min     25%     50%     75%     max\n",
       "Product                                                             \n",
       "TM195   80.000  82.787 28.874 38.000  66.000  85.000  94.000 188.000\n",
       "TM498   60.000  87.933 33.263 21.000  64.000  85.000 106.000 212.000\n",
       "TM798   40.000 166.900 60.067 80.000 120.000 160.000 200.000 360.000"
      ]
     },
     "execution_count": 474,
     "metadata": {},
     "output_type": "execute_result"
    }
   ],
   "source": [
    "# statistical summary of miles expect to run by customers for each product\n",
    "data.groupby('Product')['Miles'].describe()"
   ]
  },
  {
   "cell_type": "code",
   "execution_count": 475,
   "id": "f56936fd",
   "metadata": {},
   "outputs": [
    {
     "data": {
      "image/png": "[encoded data removed]",
      "text/plain": [
       "<Figure size 432x288 with 1 Axes>"
      ]
     },
     "metadata": {
      "needs_background": "light"
     },
     "output_type": "display_data"
    }
   ],
   "source": [
    "# boxplot of product and miles expect to run by the customers\n",
    "sns.boxplot(data=data, x='Product', y='Miles');\n",
    "plt.title('Boxplot of Product and Miles');"
   ]
  },
  {
   "cell_type": "markdown",
   "id": "e2f28a6b",
   "metadata": {},
   "source": [
    "**Observation**\n",
    "* The customers using product TM798 are expected to run more miles when compared to other products with average of 166 miles.\n",
    "* The customers using products TM195 and TM498 are expected to run in average is 82 and 87 miles."
   ]
  },
  {
   "cell_type": "markdown",
   "id": "3b1f3350",
   "metadata": {},
   "source": [
    "**Let's analyze and visualize the customers based on the product and education column**"
   ]
  },
  {
   "cell_type": "code",
   "execution_count": 476,
   "id": "00ca5597",
   "metadata": {
    "scrolled": true
   },
   "outputs": [
    {
     "data": {
      "text/html": [
       "<div>\n",
       "<style scoped>\n",
       "    .dataframe tbody tr th:only-of-type {\n",
       "        vertical-align: middle;\n",
       "    }\n",
       "\n",
       "    .dataframe tbody tr th {\n",
       "        vertical-align: top;\n",
       "    }\n",
       "\n",
       "    .dataframe thead th {\n",
       "        text-align: right;\n",
       "    }\n",
       "</style>\n",
       "<table border=\"1\" class=\"dataframe\">\n",
       "  <thead>\n",
       "    <tr style=\"text-align: right;\">\n",
       "      <th></th>\n",
       "      <th>count</th>\n",
       "      <th>mean</th>\n",
       "      <th>std</th>\n",
       "      <th>min</th>\n",
       "      <th>25%</th>\n",
       "      <th>50%</th>\n",
       "      <th>75%</th>\n",
       "      <th>max</th>\n",
       "    </tr>\n",
       "    <tr>\n",
       "      <th>Product</th>\n",
       "      <th></th>\n",
       "      <th></th>\n",
       "      <th></th>\n",
       "      <th></th>\n",
       "      <th></th>\n",
       "      <th></th>\n",
       "      <th></th>\n",
       "      <th></th>\n",
       "    </tr>\n",
       "  </thead>\n",
       "  <tbody>\n",
       "    <tr>\n",
       "      <th>TM195</th>\n",
       "      <td>80.000</td>\n",
       "      <td>15.037</td>\n",
       "      <td>1.216</td>\n",
       "      <td>12.000</td>\n",
       "      <td>14.000</td>\n",
       "      <td>16.000</td>\n",
       "      <td>16.000</td>\n",
       "      <td>18.000</td>\n",
       "    </tr>\n",
       "    <tr>\n",
       "      <th>TM498</th>\n",
       "      <td>60.000</td>\n",
       "      <td>15.117</td>\n",
       "      <td>1.223</td>\n",
       "      <td>12.000</td>\n",
       "      <td>14.000</td>\n",
       "      <td>16.000</td>\n",
       "      <td>16.000</td>\n",
       "      <td>18.000</td>\n",
       "    </tr>\n",
       "    <tr>\n",
       "      <th>TM798</th>\n",
       "      <td>40.000</td>\n",
       "      <td>17.325</td>\n",
       "      <td>1.639</td>\n",
       "      <td>14.000</td>\n",
       "      <td>16.000</td>\n",
       "      <td>18.000</td>\n",
       "      <td>18.000</td>\n",
       "      <td>21.000</td>\n",
       "    </tr>\n",
       "  </tbody>\n",
       "</table>\n",
       "</div>"
      ],
      "text/plain": [
       "         count   mean   std    min    25%    50%    75%    max\n",
       "Product                                                       \n",
       "TM195   80.000 15.037 1.216 12.000 14.000 16.000 16.000 18.000\n",
       "TM498   60.000 15.117 1.223 12.000 14.000 16.000 16.000 18.000\n",
       "TM798   40.000 17.325 1.639 14.000 16.000 18.000 18.000 21.000"
      ]
     },
     "execution_count": 476,
     "metadata": {},
     "output_type": "execute_result"
    }
   ],
   "source": [
    "# statistical summary of Product and no.of.years of education\n",
    "data.groupby('Product')['Education'].describe()"
   ]
  },
  {
   "cell_type": "code",
   "execution_count": 477,
   "id": "3c74a184",
   "metadata": {
    "scrolled": true
   },
   "outputs": [
    {
     "data": {
      "image/png": "[encoded data removed]",
      "text/plain": [
       "<Figure size 432x288 with 1 Axes>"
      ]
     },
     "metadata": {
      "needs_background": "light"
     },
     "output_type": "display_data"
    }
   ],
   "source": [
    "# box plot of Product and Education\n",
    "sns.boxplot(data=data, x='Product', y='Education');\n",
    "plt.title('Boxplot of Product and Education');"
   ]
  },
  {
   "cell_type": "markdown",
   "id": "fec9b6ff",
   "metadata": {},
   "source": [
    "**Observations**\n",
    "* Education level of customers using TM798 is high when compared to others, ranging from 14 years to 21 years with the average of 17 years.\n",
    "* Education level of customers using both TM195 and TM498 looks same, ranging from 12 years to 18 years with the average of 15 years."
   ]
  },
  {
   "cell_type": "markdown",
   "id": "6d768569",
   "metadata": {},
   "source": [
    "## 4. Multivariate Analysis and visualization"
   ]
  },
  {
   "cell_type": "code",
   "execution_count": 478,
   "id": "873850ed",
   "metadata": {},
   "outputs": [
    {
     "data": {
      "image/png": "[encoded data removed]",
      "text/plain": [
       "<Figure size 720x360 with 2 Axes>"
      ]
     },
     "metadata": {
      "needs_background": "light"
     },
     "output_type": "display_data"
    }
   ],
   "source": [
    "plt.figure(figsize=(10,5))\n",
    "sns.heatmap(data.corr(),annot=True,cmap='Spectral',vmin=-1,vmax=1)\n",
    "plt.title('Correlation matrix of data')\n",
    "plt.show()"
   ]
  },
  {
   "cell_type": "markdown",
   "id": "3a781d05",
   "metadata": {},
   "source": [
    "**Observations**\n",
    "* Correlation matrix shows only positive correlation and there are no negative correlation between the columns.\n",
    "* Miles column show high correlation with fitness and usage. This indicates that if the customer increases the miles of running then the fitness score and usage of product increases.\n",
    "* Usage and Fitness shows a positive correlation which makes sense as if the usage of the product is more the fitness score will also be more.\n",
    "* Age column show a positive correlation with income.\n",
    "* Age column show less correlation with usage, fitness and miles.\n",
    "* Education column shows a positive correlation with income, fitness, usage and miles. It shows less correlation with age.\n",
    "* Income column shows a positive correlation with education, fitness, miles, usage and age.\n"
   ]
  },
  {
   "cell_type": "markdown",
   "id": "0dceec42",
   "metadata": {},
   "source": [
    "**Pairplot of Age, Income and Usage for different Product**"
   ]
  },
  {
   "cell_type": "code",
   "execution_count": 479,
   "id": "79022f87",
   "metadata": {},
   "outputs": [
    {
     "data": {
      "image/png": "[encoded data removed]",
      "text/plain": [
       "<Figure size 609.75x540 with 12 Axes>"
      ]
     },
     "metadata": {
      "needs_background": "light"
     },
     "output_type": "display_data"
    }
   ],
   "source": [
    "sns.pairplot(data=data, vars=['Age', 'Income', 'Usage'], hue='Product');"
   ]
  },
  {
   "cell_type": "markdown",
   "id": "b53210f3",
   "metadata": {},
   "source": [
    "**Observation**\n",
    "* Age and Income are highly correlated for all products."
   ]
  },
  {
   "cell_type": "markdown",
   "id": "cc82880a",
   "metadata": {},
   "source": [
    "**Multivariate analysis with two or more categorical columns**"
   ]
  },
  {
   "cell_type": "code",
   "execution_count": 480,
   "id": "35b76fdb",
   "metadata": {},
   "outputs": [
    {
     "data": {
      "image/png": "[encoded data removed]",
      "text/plain": [
       "<Figure size 432.125x360 with 1 Axes>"
      ]
     },
     "metadata": {
      "needs_background": "light"
     },
     "output_type": "display_data"
    }
   ],
   "source": [
    "# analysing income of customers for each product with gender\n",
    "sns.catplot(data=data, x='Product', y='Income', hue='Gender', kind='bar');\n",
    "plt.title('Income by Product and Gender');"
   ]
  },
  {
   "cell_type": "markdown",
   "id": "fa77a1fa",
   "metadata": {},
   "source": [
    "**Observations**\n",
    "* For each product, the income of male and female is almost same.\n",
    "* The customers with high income bought the product TM798.\n",
    "* The customer who bought TM195 and TM498 have similar income range."
   ]
  },
  {
   "cell_type": "code",
   "execution_count": 481,
   "id": "eb3c9094",
   "metadata": {},
   "outputs": [
    {
     "data": {
      "image/png": "[encoded data removed]",
      "text/plain": [
       "<Figure size 444.5x360 with 1 Axes>"
      ]
     },
     "metadata": {
      "needs_background": "light"
     },
     "output_type": "display_data"
    }
   ],
   "source": [
    "# The Income of customers for each product for single and partnered customers\n",
    "sns.catplot(data=data, x='Product', y='Income', hue='MaritalStatus', kind='bar');\n",
    "plt.title('Income by Product and MaritalStatus');"
   ]
  },
  {
   "cell_type": "markdown",
   "id": "736fcaae",
   "metadata": {},
   "source": [
    "**Observations**\n",
    "* For each product, the income of partnered customers are more than single customers. "
   ]
  },
  {
   "cell_type": "code",
   "execution_count": 482,
   "id": "ccd85956",
   "metadata": {},
   "outputs": [
    {
     "data": {
      "image/png": "[encoded data removed]",
      "text/plain": [
       "<Figure size 429.75x360 with 1 Axes>"
      ]
     },
     "metadata": {
      "needs_background": "light"
     },
     "output_type": "display_data"
    }
   ],
   "source": [
    "# The Income and usage of customers for each product\n",
    "sns.catplot(data=data, x='Usage', y='Income', hue='Product', kind='bar', orient='v');\n",
    "plt.title('Income and Usage by Product');"
   ]
  },
  {
   "cell_type": "markdown",
   "id": "cf7892b7",
   "metadata": {},
   "source": [
    "**Observations**\n",
    "* TM798 product has high income and usage of the customer is 4 times and above per week.\n",
    "* TM498 and TM798 product has same range of income and average usage of 3 times per week."
   ]
  },
  {
   "cell_type": "code",
   "execution_count": 487,
   "id": "ace04edf",
   "metadata": {},
   "outputs": [
    {
     "data": {
      "text/html": [
       "<div>\n",
       "<style scoped>\n",
       "    .dataframe tbody tr th:only-of-type {\n",
       "        vertical-align: middle;\n",
       "    }\n",
       "\n",
       "    .dataframe tbody tr th {\n",
       "        vertical-align: top;\n",
       "    }\n",
       "\n",
       "    .dataframe thead th {\n",
       "        text-align: right;\n",
       "    }\n",
       "</style>\n",
       "<table border=\"1\" class=\"dataframe\">\n",
       "  <thead>\n",
       "    <tr style=\"text-align: right;\">\n",
       "      <th></th>\n",
       "      <th></th>\n",
       "      <th>Age</th>\n",
       "      <th>Income</th>\n",
       "    </tr>\n",
       "    <tr>\n",
       "      <th>Product</th>\n",
       "      <th>Gender</th>\n",
       "      <th></th>\n",
       "      <th></th>\n",
       "    </tr>\n",
       "  </thead>\n",
       "  <tbody>\n",
       "    <tr>\n",
       "      <th rowspan=\"2\" valign=\"top\">TM195</th>\n",
       "      <th>Female</th>\n",
       "      <td>28.450</td>\n",
       "      <td>46020.075</td>\n",
       "    </tr>\n",
       "    <tr>\n",
       "      <th>Male</th>\n",
       "      <td>28.650</td>\n",
       "      <td>46815.975</td>\n",
       "    </tr>\n",
       "    <tr>\n",
       "      <th rowspan=\"2\" valign=\"top\">TM498</th>\n",
       "      <th>Female</th>\n",
       "      <td>29.103</td>\n",
       "      <td>49336.448</td>\n",
       "    </tr>\n",
       "    <tr>\n",
       "      <th>Male</th>\n",
       "      <td>28.710</td>\n",
       "      <td>48634.258</td>\n",
       "    </tr>\n",
       "    <tr>\n",
       "      <th rowspan=\"2\" valign=\"top\">TM798</th>\n",
       "      <th>Female</th>\n",
       "      <td>27.000</td>\n",
       "      <td>73633.857</td>\n",
       "    </tr>\n",
       "    <tr>\n",
       "      <th>Male</th>\n",
       "      <td>29.545</td>\n",
       "      <td>75825.030</td>\n",
       "    </tr>\n",
       "  </tbody>\n",
       "</table>\n",
       "</div>"
      ],
      "text/plain": [
       "                  Age    Income\n",
       "Product Gender                 \n",
       "TM195   Female 28.450 46020.075\n",
       "        Male   28.650 46815.975\n",
       "TM498   Female 29.103 49336.448\n",
       "        Male   28.710 48634.258\n",
       "TM798   Female 27.000 73633.857\n",
       "        Male   29.545 75825.030"
      ]
     },
     "execution_count": 487,
     "metadata": {},
     "output_type": "execute_result"
    }
   ],
   "source": [
    "# Age and Income of each product for male and female customers\n",
    "data.groupby(['Product','Gender'])[['Age','Income']].mean()"
   ]
  },
  {
   "cell_type": "code",
   "execution_count": 483,
   "id": "755a6ba7",
   "metadata": {},
   "outputs": [
    {
     "data": {
      "image/png": "[encoded data removed]",
      "text/plain": [
       "<Figure size 789.75x360 with 2 Axes>"
      ]
     },
     "metadata": {
      "needs_background": "light"
     },
     "output_type": "display_data"
    }
   ],
   "source": [
    "# Linearmodel plot for Age and Income of each product for male and female customers\n",
    "sns.lmplot(data=data, x='Age', y='Income', hue='Product',col='Gender', ci=False);"
   ]
  },
  {
   "cell_type": "markdown",
   "id": "89744274",
   "metadata": {},
   "source": [
    "**Observations**\n",
    "* The customers having income more than 70K bought the proudct TM798 and the age of customer who bought mostly is 25 to 30 years.\n",
    "* The customers having income below 70K bought the products TM195 and TM498.\n",
    "* The age of customers who mainly bought TM195 and TM498 is in range of 22 to 35 years.\n",
    "* For TM195 and TM498, age and income of male and female customers are close to each other.\n",
    "* For TM798, there are more male customers than female customers.\n"
   ]
  },
  {
   "cell_type": "markdown",
   "id": "df8a4d94",
   "metadata": {},
   "source": [
    "### **Actionable Insights and Recommendations**"
   ]
  },
  {
   "cell_type": "markdown",
   "id": "1104349c",
   "metadata": {},
   "source": [
    "#### **Insights**\n",
    "\n",
    "We analysed the dataset of 180 customers who purchased three treadmill products available in Cardio Good Fitness store. The features used to categorize the customers based on products are Income, Age, Usage, Gender and MaritalStatus.\n",
    "\n",
    "The general insights are :\n",
    "* Most of the customers who purchased treadmill is in younger age group with the average age of 28 years.\n",
    "* 44% of the customers purchased the product TM195.\n",
    "* TM798 is purchased less by the customers.\n",
    "* Male customers are buying more treadmill than female customers. 57.8% of customers are male customer.\n",
    "* Partnered customers buys more treadmill than single customers. 59.4% of customers are partnered customers.\n",
    "* The customers with income below 70K purchased the products TM195 and TM498.\n",
    "* The customers with high income purchased the product TM798.\n",
    "\n",
    "**Customer Profile of the different products**\n",
    "\n",
    "**TM195**\n",
    "* TM195 is purchased by equal number of male and female customers.\n",
    "* 44% of the customers purchased the product TM195.\n",
    "* The age of customers who purchased TM195 most is in range of 20 to 30 years.\n",
    "* The average income of customers who purchased TM195 is 46K.\n",
    "* The average use of product TM195 is 3 times per week.\n",
    "* The customers who partnered purchased more than single customers.\n",
    "* The average fitness score for TM195 is 2.9.\n",
    "* Education level of customers using TM195 ranging from 12 years to 18 years with the average of 15 years.\n",
    "* The customers using products TM195 are expected to run in average is 82 miles.\n",
    "\n",
    "**TM498**\n",
    "* The product TM498 purchased by more male customers than female customers. 51.7% of male customers.\n",
    "* 33% of the customers using the product TM498.\n",
    "* The age of most of the customer purchased TM498 is in range of 20 to 25 years.\n",
    "* The average income of customers who purchased TM195 is 48K.\n",
    "* The average use of product TM498 is 3 times per week.\n",
    "* The customers who partnered purchased more than single customers.\n",
    "* The average fitness score for TM498 is 2.9.\n",
    "* Education level of customers using TM498 ranging from 12 years to 18 years with the average of 15 years.\n",
    "* The customers using products TM498 are expected to run in average is 87 miles.\n",
    "\n",
    "**TM798**\n",
    "* The product TM798 is highly purchased by male customers. 82.5% of male customers.\n",
    "* Only 22% of the customers using the product TM798.\n",
    "* The age of most of the customer purchased TM798 is in range of 20 to 25 years.\n",
    "* The average income of customers who purchased TM798 is 75K.\n",
    "* The average use of product TM798 is close to 5 times per week.\n",
    "* The customers who partnered purchased more than single customers.\n",
    "* The average fitness score for TM798 is 2.9.\n",
    "* Education level of customers using TM798 is high, ranging from 14 years to 21 years with the average of 17 years.\n",
    "* The customers using product TM798 are expected to run more miles when compared to other products with average of 166 miles.\n",
    "\n",
    "#### **Recommendations to business**\n",
    "\n",
    "* The customers with less income purchased the products TM195 and TM498, we should advertise these products as affordable treadmill and can target customers with less budget.\n",
    "* TM195 and TM498 have good number of sales but the usage and fitness score is less. \n",
    "* TM798 product is purchased by high income customers. This must be expensive and could be because of the upgraded features.\n",
    "* The usage of the products TM195 and TM498 is less compared to TM798. The Products TM195 and TM498 looks like basic treadmill used in normal houseold purposes whereas TM798 looks like advanced treadmill with more features used by professionals.\n",
    "* TM798 have less number of sale with high usage and fitness score. we should advertise this product based on the advanced features of the product.\n",
    "* Male customers are buying more treadmill than female. we should do sales events targeting female customers.\n",
    "* More data should be procured on price and features of each treadmill product to target new customers.\n",
    "\n",
    "####  **Further Analysis that can be done**\n",
    "\n",
    "* Need to analyze to increase the sales of customers who are 30 years and above.\n",
    "* Need to analyze to increase the sales in single customers."
   ]
  }
 ],
 "metadata": {
  "kernelspec": {
   "display_name": "Python 3 (ipykernel)",
   "language": "python",
   "name": "python3"
  },
  "language_info": {
   "codemirror_mode": {
    "name": "ipython",
    "version": 3
   },
   "file_extension": ".py",
   "mimetype": "text/x-python",
   "name": "python",
   "nbconvert_exporter": "python",
   "pygments_lexer": "ipython3",
   "version": "3.9.7"
  }
 },
 "nbformat": 4,
 "nbformat_minor": 5
}

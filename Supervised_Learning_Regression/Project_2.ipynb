{
 "cells": [
  {
   "cell_type": "markdown",
   "id": "f4efe225",
   "metadata": {},
   "source": [
    "<b><h2><center>Supervised Learning Project for predicting car price</center></h2></b>\n",
    "<center><img src=\"https://www.pngitem.com/pimgs/m/224-2244535_used-car-center-used-cars-hd-png-download.png\" width=\"800\" height=\"400\"></center>"
   ]
  },
  {
   "cell_type": "markdown",
   "id": "6318f034",
   "metadata": {},
   "source": [
    "# Cars4u - Project"
   ]
  },
  {
   "cell_type": "markdown",
   "id": "297ba454",
   "metadata": {},
   "source": [
    "## Context\n",
    "There is a huge demand for used cars in the Indian Market today. As sales of new cars have slowed down in the recent past, the pre-owned car market has continued to grow over the past years and is larger than the new car market now. Cars4U is a budding tech start-up that aims to find footholes in this market.\n",
    "\n",
    "In 2018-19, while new car sales were recorded at 3.6 million units, around 4 million second-hand cars were bought and sold. There is a slowdown in new car sales and that could mean that the demand is shifting towards the pre-owned market. In fact, some car sellers replace their old cars with pre-owned cars instead of buying new ones. Unlike new cars, where price and supply are fairly deterministic and managed by OEMs (Original Equipment Manufacturer / except for dealership level discounts which come into play only in the last stage of the customer journey), used cars are very different beasts with huge uncertainty in both pricing and supply. Keeping this in mind, the pricing scheme of these used cars becomes important in order to grow in the market.\n",
    "\n",
    "As a senior data scientist at Cars4U, you have to come up with a pricing model that can effectively predict the price of used cars and can help the business in devising profitable strategies using differential pricing. For example, if the business knows the market price, it will never sell anything below it."
   ]
  },
  {
   "cell_type": "markdown",
   "id": "fa2ec24f",
   "metadata": {},
   "source": [
    "## Objective\n",
    "\n",
    "To explore and visualize the dataset, build a linear regression model to predict the prices of used cars, and generate a set of insights and recommendations that will help the business."
   ]
  },
  {
   "cell_type": "markdown",
   "id": "50c4fb4e",
   "metadata": {},
   "source": [
    "## Key questions to be answered:\n",
    "\n",
    "* What are the factors influence the price of the cars?\n",
    "* Is there is good pricing model that can effectively predict the price of used cars?\n",
    "* Is there any strategies to make the business profitable?"
   ]
  },
  {
   "cell_type": "markdown",
   "id": "2b912ff6",
   "metadata": {},
   "source": [
    "## Data Description\n",
    "The data contains the different attributes of used cars sold in different locations. The detailed data dictionary is given below.\n",
    "\n",
    "**Data Dictionary**\n",
    "\n",
    "* S.No.: Serial number\n",
    "* Name: Name of the car which includes brand name and model name\n",
    "* Location: Location in which the car is being sold or is available for purchase (cities)\n",
    "* Year: Manufacturing year of the car\n",
    "* Kilometers_driven: The total kilometers driven in the car by the previous owner(s) in km\n",
    "* Fuel_Type: The type of fuel used by the car (Petrol, Diesel, Electric, CNG, LPG)\n",
    "* Transmission: The type of transmission used by the car (Automatic/Manual)\n",
    "* Owner: Type of ownership\n",
    "* Mileage: The standard mileage offered by the car company in kmpl or km/kg\n",
    "* Engine: The displacement volume of the engine in CC\n",
    "* Power: The maximum power of the engine in bhp\n",
    "* Seats: The number of seats in the car\n",
    "* New_Price: The price of a new car of the same model in INR Lakhs (1 Lakh INR = 100,000 INR)\n",
    "* Price: The price of the used car in INR Lakhs"
   ]
  },
  {
   "cell_type": "markdown",
   "id": "2d723f5b",
   "metadata": {},
   "source": [
    "### Import required libraries"
   ]
  },
  {
   "cell_type": "code",
   "execution_count": 50,
   "id": "26d193d0",
   "metadata": {},
   "outputs": [
    {
     "name": "stdout",
     "output_type": "stream",
     "text": [
      "The nb_black extension is already loaded. To reload it, use:\n",
      "  %reload_ext nb_black\n"
     ]
    },
    {
     "data": {
      "application/javascript": [
       "\n",
       "            setTimeout(function() {\n",
       "                var nbb_cell_id = 50;\n",
       "                var nbb_unformatted_code = \"# this will help in making the Python code more structured automatically (good coding practice)\\n%load_ext nb_black\\n\\n# Libraries to help with reading and manipulating data\\nimport numpy as np\\nimport pandas as pd\\n\\n# Libraries to help with data visualization\\nimport matplotlib.pyplot as plt\\n\\n%matplotlib inline\\nimport seaborn as sns\\n\\nsns.set()\\n\\n# Removes the limit for the number of displayed columns\\npd.set_option(\\\"display.max_columns\\\", None)\\n# Sets the limit for the number of displayed rows\\npd.set_option(\\\"display.max_rows\\\", 200)\\n\\n# Scikit Libraries used for LinearRegression\\nfrom sklearn.linear_model import LinearRegression\\n\\n# Sklearn package's randomized data splitting function\\nfrom sklearn.model_selection import train_test_split\\n\\n# To check model performance\\nfrom sklearn.metrics import mean_squared_error, r2_score, mean_absolute_error\";\n",
       "                var nbb_formatted_code = \"# this will help in making the Python code more structured automatically (good coding practice)\\n%load_ext nb_black\\n\\n# Libraries to help with reading and manipulating data\\nimport numpy as np\\nimport pandas as pd\\n\\n# Libraries to help with data visualization\\nimport matplotlib.pyplot as plt\\n\\n%matplotlib inline\\nimport seaborn as sns\\n\\nsns.set()\\n\\n# Removes the limit for the number of displayed columns\\npd.set_option(\\\"display.max_columns\\\", None)\\n# Sets the limit for the number of displayed rows\\npd.set_option(\\\"display.max_rows\\\", 200)\\n\\n# Scikit Libraries used for LinearRegression\\nfrom sklearn.linear_model import LinearRegression\\n\\n# Sklearn package's randomized data splitting function\\nfrom sklearn.model_selection import train_test_split\\n\\n# To check model performance\\nfrom sklearn.metrics import mean_squared_error, r2_score, mean_absolute_error\";\n",
       "                var nbb_cells = Jupyter.notebook.get_cells();\n",
       "                for (var i = 0; i < nbb_cells.length; ++i) {\n",
       "                    if (nbb_cells[i].input_prompt_number == nbb_cell_id) {\n",
       "                        if (nbb_cells[i].get_text() == nbb_unformatted_code) {\n",
       "                             nbb_cells[i].set_text(nbb_formatted_code);\n",
       "                        }\n",
       "                        break;\n",
       "                    }\n",
       "                }\n",
       "            }, 500);\n",
       "            "
      ],
      "text/plain": [
       "<IPython.core.display.Javascript object>"
      ]
     },
     "metadata": {},
     "output_type": "display_data"
    }
   ],
   "source": [
    "# this will help in making the Python code more structured automatically (good coding practice)\n",
    "%load_ext nb_black\n",
    "\n",
    "# Libraries to help with reading and manipulating data\n",
    "import numpy as np\n",
    "import pandas as pd\n",
    "\n",
    "# Libraries to help with data visualization\n",
    "import matplotlib.pyplot as plt\n",
    "\n",
    "%matplotlib inline\n",
    "import seaborn as sns\n",
    "\n",
    "sns.set()\n",
    "\n",
    "# Removes the limit for the number of displayed columns\n",
    "pd.set_option(\"display.max_columns\", None)\n",
    "# Sets the limit for the number of displayed rows\n",
    "pd.set_option(\"display.max_rows\", 200)\n",
    "\n",
    "# Scikit Libraries used for LinearRegression\n",
    "from sklearn.linear_model import LinearRegression\n",
    "\n",
    "# Sklearn package's randomized data splitting function\n",
    "from sklearn.model_selection import train_test_split\n",
    "\n",
    "# To check model performance\n",
    "from sklearn.metrics import mean_squared_error, r2_score, mean_absolute_error"
   ]
  },
  {
   "cell_type": "markdown",
   "id": "ba270ca5",
   "metadata": {},
   "source": [
    "## Loading and exploring the data\n",
    "\n",
    "In this section the goals are to load the data into python and then to check its basic properties. This will include the dimension, column types and names, and missingness counts."
   ]
  },
  {
   "cell_type": "code",
   "execution_count": 51,
   "id": "6cb48b11",
   "metadata": {},
   "outputs": [
    {
     "data": {
      "application/javascript": [
       "\n",
       "            setTimeout(function() {\n",
       "                var nbb_cell_id = 51;\n",
       "                var nbb_unformatted_code = \"# Loading the data\\ndata = pd.read_csv(\\\"used_cars_data.csv\\\")\\n# making a copy for data processing\\ndf = data.copy()\";\n",
       "                var nbb_formatted_code = \"# Loading the data\\ndata = pd.read_csv(\\\"used_cars_data.csv\\\")\\n# making a copy for data processing\\ndf = data.copy()\";\n",
       "                var nbb_cells = Jupyter.notebook.get_cells();\n",
       "                for (var i = 0; i < nbb_cells.length; ++i) {\n",
       "                    if (nbb_cells[i].input_prompt_number == nbb_cell_id) {\n",
       "                        if (nbb_cells[i].get_text() == nbb_unformatted_code) {\n",
       "                             nbb_cells[i].set_text(nbb_formatted_code);\n",
       "                        }\n",
       "                        break;\n",
       "                    }\n",
       "                }\n",
       "            }, 500);\n",
       "            "
      ],
      "text/plain": [
       "<IPython.core.display.Javascript object>"
      ]
     },
     "metadata": {},
     "output_type": "display_data"
    }
   ],
   "source": [
    "# Loading the data\n",
    "data = pd.read_csv(\"used_cars_data.csv\")\n",
    "# making a copy for data processing\n",
    "df = data.copy()"
   ]
  },
  {
   "cell_type": "code",
   "execution_count": 52,
   "id": "e0d1f35c",
   "metadata": {},
   "outputs": [
    {
     "name": "stdout",
     "output_type": "stream",
     "text": [
      "There are 7253 rows and 14 columns.\n"
     ]
    },
    {
     "data": {
      "application/javascript": [
       "\n",
       "            setTimeout(function() {\n",
       "                var nbb_cell_id = 52;\n",
       "                var nbb_unformatted_code = \"# checking the shape of the data\\nprint(f\\\"There are {df.shape[0]} rows and {df.shape[1]} columns.\\\")\";\n",
       "                var nbb_formatted_code = \"# checking the shape of the data\\nprint(f\\\"There are {df.shape[0]} rows and {df.shape[1]} columns.\\\")\";\n",
       "                var nbb_cells = Jupyter.notebook.get_cells();\n",
       "                for (var i = 0; i < nbb_cells.length; ++i) {\n",
       "                    if (nbb_cells[i].input_prompt_number == nbb_cell_id) {\n",
       "                        if (nbb_cells[i].get_text() == nbb_unformatted_code) {\n",
       "                             nbb_cells[i].set_text(nbb_formatted_code);\n",
       "                        }\n",
       "                        break;\n",
       "                    }\n",
       "                }\n",
       "            }, 500);\n",
       "            "
      ],
      "text/plain": [
       "<IPython.core.display.Javascript object>"
      ]
     },
     "metadata": {},
     "output_type": "display_data"
    }
   ],
   "source": [
    "# checking the shape of the data\n",
    "print(f\"There are {df.shape[0]} rows and {df.shape[1]} columns.\")"
   ]
  },
  {
   "cell_type": "code",
   "execution_count": 53,
   "id": "b92d3718",
   "metadata": {},
   "outputs": [
    {
     "name": "stdout",
     "output_type": "stream",
     "text": [
      "<class 'pandas.core.frame.DataFrame'>\n",
      "RangeIndex: 7253 entries, 0 to 7252\n",
      "Data columns (total 14 columns):\n",
      " #   Column             Non-Null Count  Dtype  \n",
      "---  ------             --------------  -----  \n",
      " 0   S.No.              7253 non-null   int64  \n",
      " 1   Name               7253 non-null   object \n",
      " 2   Location           7253 non-null   object \n",
      " 3   Year               7253 non-null   int64  \n",
      " 4   Kilometers_Driven  7253 non-null   int64  \n",
      " 5   Fuel_Type          7253 non-null   object \n",
      " 6   Transmission       7253 non-null   object \n",
      " 7   Owner_Type         7253 non-null   object \n",
      " 8   Mileage            7251 non-null   object \n",
      " 9   Engine             7207 non-null   object \n",
      " 10  Power              7078 non-null   object \n",
      " 11  Seats              7200 non-null   float64\n",
      " 12  New_Price          1006 non-null   object \n",
      " 13  Price              6019 non-null   float64\n",
      "dtypes: float64(2), int64(3), object(9)\n",
      "memory usage: 793.4+ KB\n"
     ]
    },
    {
     "data": {
      "application/javascript": [
       "\n",
       "            setTimeout(function() {\n",
       "                var nbb_cell_id = 53;\n",
       "                var nbb_unformatted_code = \"# checking column datatypes and number of non-null values\\ndf.info()\";\n",
       "                var nbb_formatted_code = \"# checking column datatypes and number of non-null values\\ndf.info()\";\n",
       "                var nbb_cells = Jupyter.notebook.get_cells();\n",
       "                for (var i = 0; i < nbb_cells.length; ++i) {\n",
       "                    if (nbb_cells[i].input_prompt_number == nbb_cell_id) {\n",
       "                        if (nbb_cells[i].get_text() == nbb_unformatted_code) {\n",
       "                             nbb_cells[i].set_text(nbb_formatted_code);\n",
       "                        }\n",
       "                        break;\n",
       "                    }\n",
       "                }\n",
       "            }, 500);\n",
       "            "
      ],
      "text/plain": [
       "<IPython.core.display.Javascript object>"
      ]
     },
     "metadata": {},
     "output_type": "display_data"
    }
   ],
   "source": [
    "# checking column datatypes and number of non-null values\n",
    "df.info()"
   ]
  },
  {
   "cell_type": "markdown",
   "id": "65559960",
   "metadata": {},
   "source": [
    "**Observations**\n",
    "* There are 5 Numerical columns and 9 object columns.\n",
    "* Null values are found in 6 columns and they are Mileage, Engine, Power, Seats, New_Price and Price.\n",
    "* Mileage, Engine, Power and New_Price should be converted to numerical columns."
   ]
  },
  {
   "cell_type": "code",
   "execution_count": 54,
   "id": "79a9c028",
   "metadata": {},
   "outputs": [
    {
     "data": {
      "text/plain": [
       "Index(['S.No.', 'Name', 'Location', 'Year', 'Kilometers_Driven', 'Fuel_Type',\n",
       "       'Transmission', 'Owner_Type', 'Mileage', 'Engine', 'Power', 'Seats',\n",
       "       'New_Price', 'Price'],\n",
       "      dtype='object')"
      ]
     },
     "execution_count": 54,
     "metadata": {},
     "output_type": "execute_result"
    },
    {
     "data": {
      "application/javascript": [
       "\n",
       "            setTimeout(function() {\n",
       "                var nbb_cell_id = 54;\n",
       "                var nbb_unformatted_code = \"df.columns\";\n",
       "                var nbb_formatted_code = \"df.columns\";\n",
       "                var nbb_cells = Jupyter.notebook.get_cells();\n",
       "                for (var i = 0; i < nbb_cells.length; ++i) {\n",
       "                    if (nbb_cells[i].input_prompt_number == nbb_cell_id) {\n",
       "                        if (nbb_cells[i].get_text() == nbb_unformatted_code) {\n",
       "                             nbb_cells[i].set_text(nbb_formatted_code);\n",
       "                        }\n",
       "                        break;\n",
       "                    }\n",
       "                }\n",
       "            }, 500);\n",
       "            "
      ],
      "text/plain": [
       "<IPython.core.display.Javascript object>"
      ]
     },
     "metadata": {},
     "output_type": "display_data"
    }
   ],
   "source": [
    "df.columns"
   ]
  },
  {
   "cell_type": "code",
   "execution_count": 55,
   "id": "3299d093",
   "metadata": {},
   "outputs": [
    {
     "data": {
      "text/plain": [
       "S.No.                   0\n",
       "Name                    0\n",
       "Location                0\n",
       "Year                    0\n",
       "Kilometers_Driven       0\n",
       "Fuel_Type               0\n",
       "Transmission            0\n",
       "Owner_Type              0\n",
       "Mileage                 2\n",
       "Engine                 46\n",
       "Power                 175\n",
       "Seats                  53\n",
       "New_Price            6247\n",
       "Price                1234\n",
       "dtype: int64"
      ]
     },
     "execution_count": 55,
     "metadata": {},
     "output_type": "execute_result"
    },
    {
     "data": {
      "application/javascript": [
       "\n",
       "            setTimeout(function() {\n",
       "                var nbb_cell_id = 55;\n",
       "                var nbb_unformatted_code = \"# checking for missing values in each column\\ndf.isnull().sum()\";\n",
       "                var nbb_formatted_code = \"# checking for missing values in each column\\ndf.isnull().sum()\";\n",
       "                var nbb_cells = Jupyter.notebook.get_cells();\n",
       "                for (var i = 0; i < nbb_cells.length; ++i) {\n",
       "                    if (nbb_cells[i].input_prompt_number == nbb_cell_id) {\n",
       "                        if (nbb_cells[i].get_text() == nbb_unformatted_code) {\n",
       "                             nbb_cells[i].set_text(nbb_formatted_code);\n",
       "                        }\n",
       "                        break;\n",
       "                    }\n",
       "                }\n",
       "            }, 500);\n",
       "            "
      ],
      "text/plain": [
       "<IPython.core.display.Javascript object>"
      ]
     },
     "metadata": {},
     "output_type": "display_data"
    }
   ],
   "source": [
    "# checking for missing values in each column\n",
    "df.isnull().sum()"
   ]
  },
  {
   "cell_type": "markdown",
   "id": "b2ec805b",
   "metadata": {},
   "source": [
    "**Observations**\n",
    "* Missing values are found in 6 columns.\n",
    "* New_Price column has huge missing values whereas Mileage column has only 2 missing values."
   ]
  },
  {
   "cell_type": "code",
   "execution_count": 56,
   "id": "846b3f87",
   "metadata": {},
   "outputs": [
    {
     "data": {
      "text/plain": [
       "0"
      ]
     },
     "execution_count": 56,
     "metadata": {},
     "output_type": "execute_result"
    },
    {
     "data": {
      "application/javascript": [
       "\n",
       "            setTimeout(function() {\n",
       "                var nbb_cell_id = 56;\n",
       "                var nbb_unformatted_code = \"# let's check the duplicate entries in the data\\ndf.duplicated().sum()\";\n",
       "                var nbb_formatted_code = \"# let's check the duplicate entries in the data\\ndf.duplicated().sum()\";\n",
       "                var nbb_cells = Jupyter.notebook.get_cells();\n",
       "                for (var i = 0; i < nbb_cells.length; ++i) {\n",
       "                    if (nbb_cells[i].input_prompt_number == nbb_cell_id) {\n",
       "                        if (nbb_cells[i].get_text() == nbb_unformatted_code) {\n",
       "                             nbb_cells[i].set_text(nbb_formatted_code);\n",
       "                        }\n",
       "                        break;\n",
       "                    }\n",
       "                }\n",
       "            }, 500);\n",
       "            "
      ],
      "text/plain": [
       "<IPython.core.display.Javascript object>"
      ]
     },
     "metadata": {},
     "output_type": "display_data"
    }
   ],
   "source": [
    "# let's check the duplicate entries in the data\n",
    "df.duplicated().sum()"
   ]
  },
  {
   "cell_type": "markdown",
   "id": "6f6539e9",
   "metadata": {},
   "source": [
    "* There are no duplicates in this data."
   ]
  },
  {
   "cell_type": "markdown",
   "id": "3b8125d2",
   "metadata": {},
   "source": [
    "### Statistical Summary of data"
   ]
  },
  {
   "cell_type": "code",
   "execution_count": 57,
   "id": "2b0852eb",
   "metadata": {},
   "outputs": [
    {
     "data": {
      "text/html": [
       "<div>\n",
       "<style scoped>\n",
       "    .dataframe tbody tr th:only-of-type {\n",
       "        vertical-align: middle;\n",
       "    }\n",
       "\n",
       "    .dataframe tbody tr th {\n",
       "        vertical-align: top;\n",
       "    }\n",
       "\n",
       "    .dataframe thead th {\n",
       "        text-align: right;\n",
       "    }\n",
       "</style>\n",
       "<table border=\"1\" class=\"dataframe\">\n",
       "  <thead>\n",
       "    <tr style=\"text-align: right;\">\n",
       "      <th></th>\n",
       "      <th>count</th>\n",
       "      <th>unique</th>\n",
       "      <th>top</th>\n",
       "      <th>freq</th>\n",
       "      <th>mean</th>\n",
       "      <th>std</th>\n",
       "      <th>min</th>\n",
       "      <th>25%</th>\n",
       "      <th>50%</th>\n",
       "      <th>75%</th>\n",
       "      <th>max</th>\n",
       "    </tr>\n",
       "  </thead>\n",
       "  <tbody>\n",
       "    <tr>\n",
       "      <th>S.No.</th>\n",
       "      <td>7253.0</td>\n",
       "      <td>NaN</td>\n",
       "      <td>NaN</td>\n",
       "      <td>NaN</td>\n",
       "      <td>3626.0</td>\n",
       "      <td>2093.905084</td>\n",
       "      <td>0.0</td>\n",
       "      <td>1813.0</td>\n",
       "      <td>3626.0</td>\n",
       "      <td>5439.0</td>\n",
       "      <td>7252.0</td>\n",
       "    </tr>\n",
       "    <tr>\n",
       "      <th>Name</th>\n",
       "      <td>7253</td>\n",
       "      <td>2041</td>\n",
       "      <td>Mahindra XUV500 W8 2WD</td>\n",
       "      <td>55</td>\n",
       "      <td>NaN</td>\n",
       "      <td>NaN</td>\n",
       "      <td>NaN</td>\n",
       "      <td>NaN</td>\n",
       "      <td>NaN</td>\n",
       "      <td>NaN</td>\n",
       "      <td>NaN</td>\n",
       "    </tr>\n",
       "    <tr>\n",
       "      <th>Location</th>\n",
       "      <td>7253</td>\n",
       "      <td>11</td>\n",
       "      <td>Mumbai</td>\n",
       "      <td>949</td>\n",
       "      <td>NaN</td>\n",
       "      <td>NaN</td>\n",
       "      <td>NaN</td>\n",
       "      <td>NaN</td>\n",
       "      <td>NaN</td>\n",
       "      <td>NaN</td>\n",
       "      <td>NaN</td>\n",
       "    </tr>\n",
       "    <tr>\n",
       "      <th>Year</th>\n",
       "      <td>7253.0</td>\n",
       "      <td>NaN</td>\n",
       "      <td>NaN</td>\n",
       "      <td>NaN</td>\n",
       "      <td>2013.365366</td>\n",
       "      <td>3.254421</td>\n",
       "      <td>1996.0</td>\n",
       "      <td>2011.0</td>\n",
       "      <td>2014.0</td>\n",
       "      <td>2016.0</td>\n",
       "      <td>2019.0</td>\n",
       "    </tr>\n",
       "    <tr>\n",
       "      <th>Kilometers_Driven</th>\n",
       "      <td>7253.0</td>\n",
       "      <td>NaN</td>\n",
       "      <td>NaN</td>\n",
       "      <td>NaN</td>\n",
       "      <td>58699.063146</td>\n",
       "      <td>84427.720583</td>\n",
       "      <td>171.0</td>\n",
       "      <td>34000.0</td>\n",
       "      <td>53416.0</td>\n",
       "      <td>73000.0</td>\n",
       "      <td>6500000.0</td>\n",
       "    </tr>\n",
       "    <tr>\n",
       "      <th>Fuel_Type</th>\n",
       "      <td>7253</td>\n",
       "      <td>5</td>\n",
       "      <td>Diesel</td>\n",
       "      <td>3852</td>\n",
       "      <td>NaN</td>\n",
       "      <td>NaN</td>\n",
       "      <td>NaN</td>\n",
       "      <td>NaN</td>\n",
       "      <td>NaN</td>\n",
       "      <td>NaN</td>\n",
       "      <td>NaN</td>\n",
       "    </tr>\n",
       "    <tr>\n",
       "      <th>Transmission</th>\n",
       "      <td>7253</td>\n",
       "      <td>2</td>\n",
       "      <td>Manual</td>\n",
       "      <td>5204</td>\n",
       "      <td>NaN</td>\n",
       "      <td>NaN</td>\n",
       "      <td>NaN</td>\n",
       "      <td>NaN</td>\n",
       "      <td>NaN</td>\n",
       "      <td>NaN</td>\n",
       "      <td>NaN</td>\n",
       "    </tr>\n",
       "    <tr>\n",
       "      <th>Owner_Type</th>\n",
       "      <td>7253</td>\n",
       "      <td>4</td>\n",
       "      <td>First</td>\n",
       "      <td>5952</td>\n",
       "      <td>NaN</td>\n",
       "      <td>NaN</td>\n",
       "      <td>NaN</td>\n",
       "      <td>NaN</td>\n",
       "      <td>NaN</td>\n",
       "      <td>NaN</td>\n",
       "      <td>NaN</td>\n",
       "    </tr>\n",
       "    <tr>\n",
       "      <th>Mileage</th>\n",
       "      <td>7251</td>\n",
       "      <td>450</td>\n",
       "      <td>17.0 kmpl</td>\n",
       "      <td>207</td>\n",
       "      <td>NaN</td>\n",
       "      <td>NaN</td>\n",
       "      <td>NaN</td>\n",
       "      <td>NaN</td>\n",
       "      <td>NaN</td>\n",
       "      <td>NaN</td>\n",
       "      <td>NaN</td>\n",
       "    </tr>\n",
       "    <tr>\n",
       "      <th>Engine</th>\n",
       "      <td>7207</td>\n",
       "      <td>150</td>\n",
       "      <td>1197 CC</td>\n",
       "      <td>732</td>\n",
       "      <td>NaN</td>\n",
       "      <td>NaN</td>\n",
       "      <td>NaN</td>\n",
       "      <td>NaN</td>\n",
       "      <td>NaN</td>\n",
       "      <td>NaN</td>\n",
       "      <td>NaN</td>\n",
       "    </tr>\n",
       "    <tr>\n",
       "      <th>Power</th>\n",
       "      <td>7078</td>\n",
       "      <td>385</td>\n",
       "      <td>74 bhp</td>\n",
       "      <td>280</td>\n",
       "      <td>NaN</td>\n",
       "      <td>NaN</td>\n",
       "      <td>NaN</td>\n",
       "      <td>NaN</td>\n",
       "      <td>NaN</td>\n",
       "      <td>NaN</td>\n",
       "      <td>NaN</td>\n",
       "    </tr>\n",
       "    <tr>\n",
       "      <th>Seats</th>\n",
       "      <td>7200.0</td>\n",
       "      <td>NaN</td>\n",
       "      <td>NaN</td>\n",
       "      <td>NaN</td>\n",
       "      <td>5.279722</td>\n",
       "      <td>0.81166</td>\n",
       "      <td>0.0</td>\n",
       "      <td>5.0</td>\n",
       "      <td>5.0</td>\n",
       "      <td>5.0</td>\n",
       "      <td>10.0</td>\n",
       "    </tr>\n",
       "    <tr>\n",
       "      <th>New_Price</th>\n",
       "      <td>1006</td>\n",
       "      <td>625</td>\n",
       "      <td>63.71 Lakh</td>\n",
       "      <td>6</td>\n",
       "      <td>NaN</td>\n",
       "      <td>NaN</td>\n",
       "      <td>NaN</td>\n",
       "      <td>NaN</td>\n",
       "      <td>NaN</td>\n",
       "      <td>NaN</td>\n",
       "      <td>NaN</td>\n",
       "    </tr>\n",
       "    <tr>\n",
       "      <th>Price</th>\n",
       "      <td>6019.0</td>\n",
       "      <td>NaN</td>\n",
       "      <td>NaN</td>\n",
       "      <td>NaN</td>\n",
       "      <td>9.479468</td>\n",
       "      <td>11.187917</td>\n",
       "      <td>0.44</td>\n",
       "      <td>3.5</td>\n",
       "      <td>5.64</td>\n",
       "      <td>9.95</td>\n",
       "      <td>160.0</td>\n",
       "    </tr>\n",
       "  </tbody>\n",
       "</table>\n",
       "</div>"
      ],
      "text/plain": [
       "                    count unique                     top  freq          mean  \\\n",
       "S.No.              7253.0    NaN                     NaN   NaN        3626.0   \n",
       "Name                 7253   2041  Mahindra XUV500 W8 2WD    55           NaN   \n",
       "Location             7253     11                  Mumbai   949           NaN   \n",
       "Year               7253.0    NaN                     NaN   NaN   2013.365366   \n",
       "Kilometers_Driven  7253.0    NaN                     NaN   NaN  58699.063146   \n",
       "Fuel_Type            7253      5                  Diesel  3852           NaN   \n",
       "Transmission         7253      2                  Manual  5204           NaN   \n",
       "Owner_Type           7253      4                   First  5952           NaN   \n",
       "Mileage              7251    450               17.0 kmpl   207           NaN   \n",
       "Engine               7207    150                 1197 CC   732           NaN   \n",
       "Power                7078    385                  74 bhp   280           NaN   \n",
       "Seats              7200.0    NaN                     NaN   NaN      5.279722   \n",
       "New_Price            1006    625              63.71 Lakh     6           NaN   \n",
       "Price              6019.0    NaN                     NaN   NaN      9.479468   \n",
       "\n",
       "                            std     min      25%      50%      75%        max  \n",
       "S.No.               2093.905084     0.0   1813.0   3626.0   5439.0     7252.0  \n",
       "Name                        NaN     NaN      NaN      NaN      NaN        NaN  \n",
       "Location                    NaN     NaN      NaN      NaN      NaN        NaN  \n",
       "Year                   3.254421  1996.0   2011.0   2014.0   2016.0     2019.0  \n",
       "Kilometers_Driven  84427.720583   171.0  34000.0  53416.0  73000.0  6500000.0  \n",
       "Fuel_Type                   NaN     NaN      NaN      NaN      NaN        NaN  \n",
       "Transmission                NaN     NaN      NaN      NaN      NaN        NaN  \n",
       "Owner_Type                  NaN     NaN      NaN      NaN      NaN        NaN  \n",
       "Mileage                     NaN     NaN      NaN      NaN      NaN        NaN  \n",
       "Engine                      NaN     NaN      NaN      NaN      NaN        NaN  \n",
       "Power                       NaN     NaN      NaN      NaN      NaN        NaN  \n",
       "Seats                   0.81166     0.0      5.0      5.0      5.0       10.0  \n",
       "New_Price                   NaN     NaN      NaN      NaN      NaN        NaN  \n",
       "Price                 11.187917    0.44      3.5     5.64     9.95      160.0  "
      ]
     },
     "execution_count": 57,
     "metadata": {},
     "output_type": "execute_result"
    },
    {
     "data": {
      "application/javascript": [
       "\n",
       "            setTimeout(function() {\n",
       "                var nbb_cell_id = 57;\n",
       "                var nbb_unformatted_code = \"df.describe(include=\\\"all\\\").T\";\n",
       "                var nbb_formatted_code = \"df.describe(include=\\\"all\\\").T\";\n",
       "                var nbb_cells = Jupyter.notebook.get_cells();\n",
       "                for (var i = 0; i < nbb_cells.length; ++i) {\n",
       "                    if (nbb_cells[i].input_prompt_number == nbb_cell_id) {\n",
       "                        if (nbb_cells[i].get_text() == nbb_unformatted_code) {\n",
       "                             nbb_cells[i].set_text(nbb_formatted_code);\n",
       "                        }\n",
       "                        break;\n",
       "                    }\n",
       "                }\n",
       "            }, 500);\n",
       "            "
      ],
      "text/plain": [
       "<IPython.core.display.Javascript object>"
      ]
     },
     "metadata": {},
     "output_type": "display_data"
    }
   ],
   "source": [
    "df.describe(include=\"all\").T"
   ]
  },
  {
   "cell_type": "markdown",
   "id": "15734450",
   "metadata": {},
   "source": [
    "**Observations**\n",
    "* Name: The popular car model sold is Mahindra XUV500 W8 model.\n",
    "* Location: There are 11 locations where the cars are sold/purchased from. Most of the cars sold from Mumbai.\n",
    "* Year: Cars sold are manufactured between 1996 and 2019. Most of the cars manufactured from 2011 to 2016.\n",
    "* Kilometers_Driven : The average kilometers the car driven is 58K with minimum of 171 km and max of 65 lakhs km.\n",
    "* Fuel_Type : There are 5 fuel types used by the cars. The popular feul type of the car is Diesel type.\n",
    "* Transmission : There are 2 transmission types available and popular transmission type is Manual.\n",
    "* Owner_Type : There are 4 Owner types available and popular one is First owner type.\n",
    "* Seats : The average number of seats in the car is 5 seats with maximum of 10 seats. car with 0 seat is seen, we should check for this which might be error.\n",
    "* Price: The average price of used car is 9 lakhs with minimum of 44 thousand and maximum of 160 lakhs.\n",
    "* Mileage, Engine, Power and New_Price are quantitative columns but it is of object type because of the text inside it. These columns should be converted to numerical columns."
   ]
  },
  {
   "cell_type": "markdown",
   "id": "4a98dfe6",
   "metadata": {},
   "source": [
    "### Check for sample data"
   ]
  },
  {
   "cell_type": "code",
   "execution_count": 58,
   "id": "701cb1cc",
   "metadata": {},
   "outputs": [
    {
     "data": {
      "text/html": [
       "<div>\n",
       "<style scoped>\n",
       "    .dataframe tbody tr th:only-of-type {\n",
       "        vertical-align: middle;\n",
       "    }\n",
       "\n",
       "    .dataframe tbody tr th {\n",
       "        vertical-align: top;\n",
       "    }\n",
       "\n",
       "    .dataframe thead th {\n",
       "        text-align: right;\n",
       "    }\n",
       "</style>\n",
       "<table border=\"1\" class=\"dataframe\">\n",
       "  <thead>\n",
       "    <tr style=\"text-align: right;\">\n",
       "      <th></th>\n",
       "      <th>S.No.</th>\n",
       "      <th>Name</th>\n",
       "      <th>Location</th>\n",
       "      <th>Year</th>\n",
       "      <th>Kilometers_Driven</th>\n",
       "      <th>Fuel_Type</th>\n",
       "      <th>Transmission</th>\n",
       "      <th>Owner_Type</th>\n",
       "      <th>Mileage</th>\n",
       "      <th>Engine</th>\n",
       "      <th>Power</th>\n",
       "      <th>Seats</th>\n",
       "      <th>New_Price</th>\n",
       "      <th>Price</th>\n",
       "    </tr>\n",
       "  </thead>\n",
       "  <tbody>\n",
       "    <tr>\n",
       "      <th>2397</th>\n",
       "      <td>2397</td>\n",
       "      <td>Ford EcoSport 1.5 Petrol Trend</td>\n",
       "      <td>Kolkata</td>\n",
       "      <td>2016</td>\n",
       "      <td>21460</td>\n",
       "      <td>Petrol</td>\n",
       "      <td>Manual</td>\n",
       "      <td>First</td>\n",
       "      <td>17.0 kmpl</td>\n",
       "      <td>1497 CC</td>\n",
       "      <td>121.36 bhp</td>\n",
       "      <td>5.0</td>\n",
       "      <td>9.47 Lakh</td>\n",
       "      <td>6.00</td>\n",
       "    </tr>\n",
       "    <tr>\n",
       "      <th>3777</th>\n",
       "      <td>3777</td>\n",
       "      <td>Maruti Wagon R VXI 1.2</td>\n",
       "      <td>Kochi</td>\n",
       "      <td>2015</td>\n",
       "      <td>49818</td>\n",
       "      <td>Petrol</td>\n",
       "      <td>Manual</td>\n",
       "      <td>First</td>\n",
       "      <td>21.5 kmpl</td>\n",
       "      <td>1197 CC</td>\n",
       "      <td>81.80 bhp</td>\n",
       "      <td>5.0</td>\n",
       "      <td>5.44 Lakh</td>\n",
       "      <td>4.11</td>\n",
       "    </tr>\n",
       "    <tr>\n",
       "      <th>4425</th>\n",
       "      <td>4425</td>\n",
       "      <td>Ford Endeavour 4x2 XLT</td>\n",
       "      <td>Hyderabad</td>\n",
       "      <td>2007</td>\n",
       "      <td>130000</td>\n",
       "      <td>Diesel</td>\n",
       "      <td>Manual</td>\n",
       "      <td>First</td>\n",
       "      <td>13.1 kmpl</td>\n",
       "      <td>2499 CC</td>\n",
       "      <td>141 bhp</td>\n",
       "      <td>7.0</td>\n",
       "      <td>NaN</td>\n",
       "      <td>6.00</td>\n",
       "    </tr>\n",
       "    <tr>\n",
       "      <th>3661</th>\n",
       "      <td>3661</td>\n",
       "      <td>Mercedes-Benz E-Class E250 CDI Avantgrade</td>\n",
       "      <td>Coimbatore</td>\n",
       "      <td>2016</td>\n",
       "      <td>39753</td>\n",
       "      <td>Diesel</td>\n",
       "      <td>Automatic</td>\n",
       "      <td>First</td>\n",
       "      <td>13.0 kmpl</td>\n",
       "      <td>2143 CC</td>\n",
       "      <td>201.1 bhp</td>\n",
       "      <td>5.0</td>\n",
       "      <td>NaN</td>\n",
       "      <td>35.28</td>\n",
       "    </tr>\n",
       "    <tr>\n",
       "      <th>4514</th>\n",
       "      <td>4514</td>\n",
       "      <td>Hyundai Xcent 1.2 Kappa AT SX Option</td>\n",
       "      <td>Kochi</td>\n",
       "      <td>2016</td>\n",
       "      <td>45560</td>\n",
       "      <td>Petrol</td>\n",
       "      <td>Automatic</td>\n",
       "      <td>First</td>\n",
       "      <td>16.9 kmpl</td>\n",
       "      <td>1197 CC</td>\n",
       "      <td>82 bhp</td>\n",
       "      <td>5.0</td>\n",
       "      <td>NaN</td>\n",
       "      <td>6.34</td>\n",
       "    </tr>\n",
       "    <tr>\n",
       "      <th>599</th>\n",
       "      <td>599</td>\n",
       "      <td>Toyota Innova Crysta 2.8 ZX AT</td>\n",
       "      <td>Coimbatore</td>\n",
       "      <td>2019</td>\n",
       "      <td>40674</td>\n",
       "      <td>Diesel</td>\n",
       "      <td>Automatic</td>\n",
       "      <td>First</td>\n",
       "      <td>11.36 kmpl</td>\n",
       "      <td>2755 CC</td>\n",
       "      <td>171.5 bhp</td>\n",
       "      <td>7.0</td>\n",
       "      <td>28.05 Lakh</td>\n",
       "      <td>24.82</td>\n",
       "    </tr>\n",
       "    <tr>\n",
       "      <th>186</th>\n",
       "      <td>186</td>\n",
       "      <td>Mercedes-Benz E-Class E250 CDI Avantgrade</td>\n",
       "      <td>Bangalore</td>\n",
       "      <td>2014</td>\n",
       "      <td>37382</td>\n",
       "      <td>Diesel</td>\n",
       "      <td>Automatic</td>\n",
       "      <td>First</td>\n",
       "      <td>13.0 kmpl</td>\n",
       "      <td>2143 CC</td>\n",
       "      <td>201.1 bhp</td>\n",
       "      <td>5.0</td>\n",
       "      <td>NaN</td>\n",
       "      <td>32.00</td>\n",
       "    </tr>\n",
       "    <tr>\n",
       "      <th>305</th>\n",
       "      <td>305</td>\n",
       "      <td>Audi A6 2011-2015 2.0 TDI Premium Plus</td>\n",
       "      <td>Kochi</td>\n",
       "      <td>2014</td>\n",
       "      <td>61726</td>\n",
       "      <td>Diesel</td>\n",
       "      <td>Automatic</td>\n",
       "      <td>First</td>\n",
       "      <td>17.68 kmpl</td>\n",
       "      <td>1968 CC</td>\n",
       "      <td>174.33 bhp</td>\n",
       "      <td>5.0</td>\n",
       "      <td>NaN</td>\n",
       "      <td>20.77</td>\n",
       "    </tr>\n",
       "    <tr>\n",
       "      <th>4582</th>\n",
       "      <td>4582</td>\n",
       "      <td>Hyundai i20 1.2 Magna</td>\n",
       "      <td>Kolkata</td>\n",
       "      <td>2011</td>\n",
       "      <td>36000</td>\n",
       "      <td>Petrol</td>\n",
       "      <td>Manual</td>\n",
       "      <td>First</td>\n",
       "      <td>18.5 kmpl</td>\n",
       "      <td>1197 CC</td>\n",
       "      <td>80 bhp</td>\n",
       "      <td>5.0</td>\n",
       "      <td>NaN</td>\n",
       "      <td>2.50</td>\n",
       "    </tr>\n",
       "    <tr>\n",
       "      <th>5434</th>\n",
       "      <td>5434</td>\n",
       "      <td>Honda WR-V Edge Edition i-VTEC S</td>\n",
       "      <td>Kochi</td>\n",
       "      <td>2019</td>\n",
       "      <td>13913</td>\n",
       "      <td>Petrol</td>\n",
       "      <td>Manual</td>\n",
       "      <td>First</td>\n",
       "      <td>17.5 kmpl</td>\n",
       "      <td>1199 CC</td>\n",
       "      <td>88.7 bhp</td>\n",
       "      <td>5.0</td>\n",
       "      <td>9.36 Lakh</td>\n",
       "      <td>8.20</td>\n",
       "    </tr>\n",
       "  </tbody>\n",
       "</table>\n",
       "</div>"
      ],
      "text/plain": [
       "      S.No.                                       Name    Location  Year  \\\n",
       "2397   2397             Ford EcoSport 1.5 Petrol Trend     Kolkata  2016   \n",
       "3777   3777                     Maruti Wagon R VXI 1.2       Kochi  2015   \n",
       "4425   4425                     Ford Endeavour 4x2 XLT   Hyderabad  2007   \n",
       "3661   3661  Mercedes-Benz E-Class E250 CDI Avantgrade  Coimbatore  2016   \n",
       "4514   4514       Hyundai Xcent 1.2 Kappa AT SX Option       Kochi  2016   \n",
       "599     599             Toyota Innova Crysta 2.8 ZX AT  Coimbatore  2019   \n",
       "186     186  Mercedes-Benz E-Class E250 CDI Avantgrade   Bangalore  2014   \n",
       "305     305     Audi A6 2011-2015 2.0 TDI Premium Plus       Kochi  2014   \n",
       "4582   4582                      Hyundai i20 1.2 Magna     Kolkata  2011   \n",
       "5434   5434           Honda WR-V Edge Edition i-VTEC S       Kochi  2019   \n",
       "\n",
       "      Kilometers_Driven Fuel_Type Transmission Owner_Type     Mileage  \\\n",
       "2397              21460    Petrol       Manual      First   17.0 kmpl   \n",
       "3777              49818    Petrol       Manual      First   21.5 kmpl   \n",
       "4425             130000    Diesel       Manual      First   13.1 kmpl   \n",
       "3661              39753    Diesel    Automatic      First   13.0 kmpl   \n",
       "4514              45560    Petrol    Automatic      First   16.9 kmpl   \n",
       "599               40674    Diesel    Automatic      First  11.36 kmpl   \n",
       "186               37382    Diesel    Automatic      First   13.0 kmpl   \n",
       "305               61726    Diesel    Automatic      First  17.68 kmpl   \n",
       "4582              36000    Petrol       Manual      First   18.5 kmpl   \n",
       "5434              13913    Petrol       Manual      First   17.5 kmpl   \n",
       "\n",
       "       Engine       Power  Seats   New_Price  Price  \n",
       "2397  1497 CC  121.36 bhp    5.0   9.47 Lakh   6.00  \n",
       "3777  1197 CC   81.80 bhp    5.0   5.44 Lakh   4.11  \n",
       "4425  2499 CC     141 bhp    7.0         NaN   6.00  \n",
       "3661  2143 CC   201.1 bhp    5.0         NaN  35.28  \n",
       "4514  1197 CC      82 bhp    5.0         NaN   6.34  \n",
       "599   2755 CC   171.5 bhp    7.0  28.05 Lakh  24.82  \n",
       "186   2143 CC   201.1 bhp    5.0         NaN  32.00  \n",
       "305   1968 CC  174.33 bhp    5.0         NaN  20.77  \n",
       "4582  1197 CC      80 bhp    5.0         NaN   2.50  \n",
       "5434  1199 CC    88.7 bhp    5.0   9.36 Lakh   8.20  "
      ]
     },
     "execution_count": 58,
     "metadata": {},
     "output_type": "execute_result"
    },
    {
     "data": {
      "application/javascript": [
       "\n",
       "            setTimeout(function() {\n",
       "                var nbb_cell_id = 58;\n",
       "                var nbb_unformatted_code = \"# setting the random seed via np.random.seed to get the same random results every time\\nnp.random.seed(1)\\n\\n# also look at random 10 sample rows\\ndf.sample(n=10)\";\n",
       "                var nbb_formatted_code = \"# setting the random seed via np.random.seed to get the same random results every time\\nnp.random.seed(1)\\n\\n# also look at random 10 sample rows\\ndf.sample(n=10)\";\n",
       "                var nbb_cells = Jupyter.notebook.get_cells();\n",
       "                for (var i = 0; i < nbb_cells.length; ++i) {\n",
       "                    if (nbb_cells[i].input_prompt_number == nbb_cell_id) {\n",
       "                        if (nbb_cells[i].get_text() == nbb_unformatted_code) {\n",
       "                             nbb_cells[i].set_text(nbb_formatted_code);\n",
       "                        }\n",
       "                        break;\n",
       "                    }\n",
       "                }\n",
       "            }, 500);\n",
       "            "
      ],
      "text/plain": [
       "<IPython.core.display.Javascript object>"
      ]
     },
     "metadata": {},
     "output_type": "display_data"
    }
   ],
   "source": [
    "# setting the random seed via np.random.seed to get the same random results every time\n",
    "np.random.seed(1)\n",
    "\n",
    "# also look at random 10 sample rows\n",
    "df.sample(n=10)"
   ]
  },
  {
   "cell_type": "markdown",
   "id": "99098de6",
   "metadata": {},
   "source": [
    "**Observations**\n",
    "* We can drop the S.No column instead we can use index column as reference.\n",
    "* Price column is our Target variable where as others are independent variables.\n",
    "* Missing values should be dropped for Price column and should be imputed for other columns.\n",
    "* Mileage, Engine, Power and New_Price are quantitative columns but it is of object type because of the text inside it. These text should be removed and converted to numerical value.\n",
    "* Name column has brand name with model name.\n",
    "* New_Price has lot of missing values."
   ]
  },
  {
   "cell_type": "markdown",
   "id": "7f9de20a",
   "metadata": {},
   "source": [
    "## Data Preprocessing\n",
    "\n",
    "In this section the goals are to prepare the data for analysis and modeling, Missing value Treatment, Outlier Treatment and Feature Engineering."
   ]
  },
  {
   "cell_type": "markdown",
   "id": "d72faaa1",
   "metadata": {},
   "source": [
    "**Dropping the S.No column**"
   ]
  },
  {
   "cell_type": "code",
   "execution_count": 59,
   "id": "f02ec466",
   "metadata": {},
   "outputs": [
    {
     "data": {
      "application/javascript": [
       "\n",
       "            setTimeout(function() {\n",
       "                var nbb_cell_id = 59;\n",
       "                var nbb_unformatted_code = \"# Let's go ahead and drop S.No column\\ndf.drop([\\\"S.No.\\\"], axis=1, inplace=True)\";\n",
       "                var nbb_formatted_code = \"# Let's go ahead and drop S.No column\\ndf.drop([\\\"S.No.\\\"], axis=1, inplace=True)\";\n",
       "                var nbb_cells = Jupyter.notebook.get_cells();\n",
       "                for (var i = 0; i < nbb_cells.length; ++i) {\n",
       "                    if (nbb_cells[i].input_prompt_number == nbb_cell_id) {\n",
       "                        if (nbb_cells[i].get_text() == nbb_unformatted_code) {\n",
       "                             nbb_cells[i].set_text(nbb_formatted_code);\n",
       "                        }\n",
       "                        break;\n",
       "                    }\n",
       "                }\n",
       "            }, 500);\n",
       "            "
      ],
      "text/plain": [
       "<IPython.core.display.Javascript object>"
      ]
     },
     "metadata": {},
     "output_type": "display_data"
    }
   ],
   "source": [
    "# Let's go ahead and drop S.No column\n",
    "df.drop([\"S.No.\"], axis=1, inplace=True)"
   ]
  },
  {
   "cell_type": "markdown",
   "id": "ff969922",
   "metadata": {},
   "source": [
    "**Converting object columns into numerical columns**\n",
    "\n",
    "**Mileage, Engine, Power, New_Price columns**"
   ]
  },
  {
   "cell_type": "code",
   "execution_count": 60,
   "id": "6a4fb8ac",
   "metadata": {},
   "outputs": [
    {
     "data": {
      "text/html": [
       "<div>\n",
       "<style scoped>\n",
       "    .dataframe tbody tr th:only-of-type {\n",
       "        vertical-align: middle;\n",
       "    }\n",
       "\n",
       "    .dataframe tbody tr th {\n",
       "        vertical-align: top;\n",
       "    }\n",
       "\n",
       "    .dataframe thead th {\n",
       "        text-align: right;\n",
       "    }\n",
       "</style>\n",
       "<table border=\"1\" class=\"dataframe\">\n",
       "  <thead>\n",
       "    <tr style=\"text-align: right;\">\n",
       "      <th></th>\n",
       "      <th>Name</th>\n",
       "      <th>Location</th>\n",
       "      <th>Year</th>\n",
       "      <th>Kilometers_Driven</th>\n",
       "      <th>Fuel_Type</th>\n",
       "      <th>Transmission</th>\n",
       "      <th>Owner_Type</th>\n",
       "      <th>Mileage</th>\n",
       "      <th>Engine</th>\n",
       "      <th>Power</th>\n",
       "      <th>Seats</th>\n",
       "      <th>New_Price</th>\n",
       "      <th>Price</th>\n",
       "    </tr>\n",
       "  </thead>\n",
       "  <tbody>\n",
       "    <tr>\n",
       "      <th>2397</th>\n",
       "      <td>Ford EcoSport 1.5 Petrol Trend</td>\n",
       "      <td>Kolkata</td>\n",
       "      <td>2016</td>\n",
       "      <td>21460</td>\n",
       "      <td>Petrol</td>\n",
       "      <td>Manual</td>\n",
       "      <td>First</td>\n",
       "      <td>17.0</td>\n",
       "      <td>1497 CC</td>\n",
       "      <td>121.36 bhp</td>\n",
       "      <td>5.0</td>\n",
       "      <td>9.47 Lakh</td>\n",
       "      <td>6.00</td>\n",
       "    </tr>\n",
       "    <tr>\n",
       "      <th>3777</th>\n",
       "      <td>Maruti Wagon R VXI 1.2</td>\n",
       "      <td>Kochi</td>\n",
       "      <td>2015</td>\n",
       "      <td>49818</td>\n",
       "      <td>Petrol</td>\n",
       "      <td>Manual</td>\n",
       "      <td>First</td>\n",
       "      <td>21.5</td>\n",
       "      <td>1197 CC</td>\n",
       "      <td>81.80 bhp</td>\n",
       "      <td>5.0</td>\n",
       "      <td>5.44 Lakh</td>\n",
       "      <td>4.11</td>\n",
       "    </tr>\n",
       "    <tr>\n",
       "      <th>4425</th>\n",
       "      <td>Ford Endeavour 4x2 XLT</td>\n",
       "      <td>Hyderabad</td>\n",
       "      <td>2007</td>\n",
       "      <td>130000</td>\n",
       "      <td>Diesel</td>\n",
       "      <td>Manual</td>\n",
       "      <td>First</td>\n",
       "      <td>13.1</td>\n",
       "      <td>2499 CC</td>\n",
       "      <td>141 bhp</td>\n",
       "      <td>7.0</td>\n",
       "      <td>NaN</td>\n",
       "      <td>6.00</td>\n",
       "    </tr>\n",
       "    <tr>\n",
       "      <th>3661</th>\n",
       "      <td>Mercedes-Benz E-Class E250 CDI Avantgrade</td>\n",
       "      <td>Coimbatore</td>\n",
       "      <td>2016</td>\n",
       "      <td>39753</td>\n",
       "      <td>Diesel</td>\n",
       "      <td>Automatic</td>\n",
       "      <td>First</td>\n",
       "      <td>13.0</td>\n",
       "      <td>2143 CC</td>\n",
       "      <td>201.1 bhp</td>\n",
       "      <td>5.0</td>\n",
       "      <td>NaN</td>\n",
       "      <td>35.28</td>\n",
       "    </tr>\n",
       "    <tr>\n",
       "      <th>4514</th>\n",
       "      <td>Hyundai Xcent 1.2 Kappa AT SX Option</td>\n",
       "      <td>Kochi</td>\n",
       "      <td>2016</td>\n",
       "      <td>45560</td>\n",
       "      <td>Petrol</td>\n",
       "      <td>Automatic</td>\n",
       "      <td>First</td>\n",
       "      <td>16.9</td>\n",
       "      <td>1197 CC</td>\n",
       "      <td>82 bhp</td>\n",
       "      <td>5.0</td>\n",
       "      <td>NaN</td>\n",
       "      <td>6.34</td>\n",
       "    </tr>\n",
       "  </tbody>\n",
       "</table>\n",
       "</div>"
      ],
      "text/plain": [
       "                                           Name    Location  Year  \\\n",
       "2397             Ford EcoSport 1.5 Petrol Trend     Kolkata  2016   \n",
       "3777                     Maruti Wagon R VXI 1.2       Kochi  2015   \n",
       "4425                     Ford Endeavour 4x2 XLT   Hyderabad  2007   \n",
       "3661  Mercedes-Benz E-Class E250 CDI Avantgrade  Coimbatore  2016   \n",
       "4514       Hyundai Xcent 1.2 Kappa AT SX Option       Kochi  2016   \n",
       "\n",
       "      Kilometers_Driven Fuel_Type Transmission Owner_Type  Mileage   Engine  \\\n",
       "2397              21460    Petrol       Manual      First     17.0  1497 CC   \n",
       "3777              49818    Petrol       Manual      First     21.5  1197 CC   \n",
       "4425             130000    Diesel       Manual      First     13.1  2499 CC   \n",
       "3661              39753    Diesel    Automatic      First     13.0  2143 CC   \n",
       "4514              45560    Petrol    Automatic      First     16.9  1197 CC   \n",
       "\n",
       "           Power  Seats  New_Price  Price  \n",
       "2397  121.36 bhp    5.0  9.47 Lakh   6.00  \n",
       "3777   81.80 bhp    5.0  5.44 Lakh   4.11  \n",
       "4425     141 bhp    7.0        NaN   6.00  \n",
       "3661   201.1 bhp    5.0        NaN  35.28  \n",
       "4514      82 bhp    5.0        NaN   6.34  "
      ]
     },
     "execution_count": 60,
     "metadata": {},
     "output_type": "execute_result"
    },
    {
     "data": {
      "application/javascript": [
       "\n",
       "            setTimeout(function() {\n",
       "                var nbb_cell_id = 60;\n",
       "                var nbb_unformatted_code = \"# removing the units and converting to float\\ndf[\\\"Mileage\\\"] = df[\\\"Mileage\\\"].str.split(\\\" \\\").str[0].astype(float)\\n\\n# let's view a sample of the data\\ndf.sample(n=5, random_state=1)\";\n",
       "                var nbb_formatted_code = \"# removing the units and converting to float\\ndf[\\\"Mileage\\\"] = df[\\\"Mileage\\\"].str.split(\\\" \\\").str[0].astype(float)\\n\\n# let's view a sample of the data\\ndf.sample(n=5, random_state=1)\";\n",
       "                var nbb_cells = Jupyter.notebook.get_cells();\n",
       "                for (var i = 0; i < nbb_cells.length; ++i) {\n",
       "                    if (nbb_cells[i].input_prompt_number == nbb_cell_id) {\n",
       "                        if (nbb_cells[i].get_text() == nbb_unformatted_code) {\n",
       "                             nbb_cells[i].set_text(nbb_formatted_code);\n",
       "                        }\n",
       "                        break;\n",
       "                    }\n",
       "                }\n",
       "            }, 500);\n",
       "            "
      ],
      "text/plain": [
       "<IPython.core.display.Javascript object>"
      ]
     },
     "metadata": {},
     "output_type": "display_data"
    }
   ],
   "source": [
    "# removing the units and converting to float\n",
    "df[\"Mileage\"] = df[\"Mileage\"].str.split(\" \").str[0].astype(float)\n",
    "\n",
    "# let's view a sample of the data\n",
    "df.sample(n=5, random_state=1)"
   ]
  },
  {
   "cell_type": "code",
   "execution_count": 61,
   "id": "a3e4f409",
   "metadata": {},
   "outputs": [
    {
     "data": {
      "text/html": [
       "<div>\n",
       "<style scoped>\n",
       "    .dataframe tbody tr th:only-of-type {\n",
       "        vertical-align: middle;\n",
       "    }\n",
       "\n",
       "    .dataframe tbody tr th {\n",
       "        vertical-align: top;\n",
       "    }\n",
       "\n",
       "    .dataframe thead th {\n",
       "        text-align: right;\n",
       "    }\n",
       "</style>\n",
       "<table border=\"1\" class=\"dataframe\">\n",
       "  <thead>\n",
       "    <tr style=\"text-align: right;\">\n",
       "      <th></th>\n",
       "      <th>Name</th>\n",
       "      <th>Location</th>\n",
       "      <th>Year</th>\n",
       "      <th>Kilometers_Driven</th>\n",
       "      <th>Fuel_Type</th>\n",
       "      <th>Transmission</th>\n",
       "      <th>Owner_Type</th>\n",
       "      <th>Mileage</th>\n",
       "      <th>Engine</th>\n",
       "      <th>Power</th>\n",
       "      <th>Seats</th>\n",
       "      <th>New_Price</th>\n",
       "      <th>Price</th>\n",
       "    </tr>\n",
       "  </thead>\n",
       "  <tbody>\n",
       "    <tr>\n",
       "      <th>2397</th>\n",
       "      <td>Ford EcoSport 1.5 Petrol Trend</td>\n",
       "      <td>Kolkata</td>\n",
       "      <td>2016</td>\n",
       "      <td>21460</td>\n",
       "      <td>Petrol</td>\n",
       "      <td>Manual</td>\n",
       "      <td>First</td>\n",
       "      <td>17.0</td>\n",
       "      <td>1497.0</td>\n",
       "      <td>121.36 bhp</td>\n",
       "      <td>5.0</td>\n",
       "      <td>9.47 Lakh</td>\n",
       "      <td>6.00</td>\n",
       "    </tr>\n",
       "    <tr>\n",
       "      <th>3777</th>\n",
       "      <td>Maruti Wagon R VXI 1.2</td>\n",
       "      <td>Kochi</td>\n",
       "      <td>2015</td>\n",
       "      <td>49818</td>\n",
       "      <td>Petrol</td>\n",
       "      <td>Manual</td>\n",
       "      <td>First</td>\n",
       "      <td>21.5</td>\n",
       "      <td>1197.0</td>\n",
       "      <td>81.80 bhp</td>\n",
       "      <td>5.0</td>\n",
       "      <td>5.44 Lakh</td>\n",
       "      <td>4.11</td>\n",
       "    </tr>\n",
       "    <tr>\n",
       "      <th>4425</th>\n",
       "      <td>Ford Endeavour 4x2 XLT</td>\n",
       "      <td>Hyderabad</td>\n",
       "      <td>2007</td>\n",
       "      <td>130000</td>\n",
       "      <td>Diesel</td>\n",
       "      <td>Manual</td>\n",
       "      <td>First</td>\n",
       "      <td>13.1</td>\n",
       "      <td>2499.0</td>\n",
       "      <td>141 bhp</td>\n",
       "      <td>7.0</td>\n",
       "      <td>NaN</td>\n",
       "      <td>6.00</td>\n",
       "    </tr>\n",
       "    <tr>\n",
       "      <th>3661</th>\n",
       "      <td>Mercedes-Benz E-Class E250 CDI Avantgrade</td>\n",
       "      <td>Coimbatore</td>\n",
       "      <td>2016</td>\n",
       "      <td>39753</td>\n",
       "      <td>Diesel</td>\n",
       "      <td>Automatic</td>\n",
       "      <td>First</td>\n",
       "      <td>13.0</td>\n",
       "      <td>2143.0</td>\n",
       "      <td>201.1 bhp</td>\n",
       "      <td>5.0</td>\n",
       "      <td>NaN</td>\n",
       "      <td>35.28</td>\n",
       "    </tr>\n",
       "    <tr>\n",
       "      <th>4514</th>\n",
       "      <td>Hyundai Xcent 1.2 Kappa AT SX Option</td>\n",
       "      <td>Kochi</td>\n",
       "      <td>2016</td>\n",
       "      <td>45560</td>\n",
       "      <td>Petrol</td>\n",
       "      <td>Automatic</td>\n",
       "      <td>First</td>\n",
       "      <td>16.9</td>\n",
       "      <td>1197.0</td>\n",
       "      <td>82 bhp</td>\n",
       "      <td>5.0</td>\n",
       "      <td>NaN</td>\n",
       "      <td>6.34</td>\n",
       "    </tr>\n",
       "  </tbody>\n",
       "</table>\n",
       "</div>"
      ],
      "text/plain": [
       "                                           Name    Location  Year  \\\n",
       "2397             Ford EcoSport 1.5 Petrol Trend     Kolkata  2016   \n",
       "3777                     Maruti Wagon R VXI 1.2       Kochi  2015   \n",
       "4425                     Ford Endeavour 4x2 XLT   Hyderabad  2007   \n",
       "3661  Mercedes-Benz E-Class E250 CDI Avantgrade  Coimbatore  2016   \n",
       "4514       Hyundai Xcent 1.2 Kappa AT SX Option       Kochi  2016   \n",
       "\n",
       "      Kilometers_Driven Fuel_Type Transmission Owner_Type  Mileage  Engine  \\\n",
       "2397              21460    Petrol       Manual      First     17.0  1497.0   \n",
       "3777              49818    Petrol       Manual      First     21.5  1197.0   \n",
       "4425             130000    Diesel       Manual      First     13.1  2499.0   \n",
       "3661              39753    Diesel    Automatic      First     13.0  2143.0   \n",
       "4514              45560    Petrol    Automatic      First     16.9  1197.0   \n",
       "\n",
       "           Power  Seats  New_Price  Price  \n",
       "2397  121.36 bhp    5.0  9.47 Lakh   6.00  \n",
       "3777   81.80 bhp    5.0  5.44 Lakh   4.11  \n",
       "4425     141 bhp    7.0        NaN   6.00  \n",
       "3661   201.1 bhp    5.0        NaN  35.28  \n",
       "4514      82 bhp    5.0        NaN   6.34  "
      ]
     },
     "execution_count": 61,
     "metadata": {},
     "output_type": "execute_result"
    },
    {
     "data": {
      "application/javascript": [
       "\n",
       "            setTimeout(function() {\n",
       "                var nbb_cell_id = 61;\n",
       "                var nbb_unformatted_code = \"# removing the units and converting to float\\ndf[\\\"Engine\\\"] = df[\\\"Engine\\\"].str.split(\\\" \\\").str[0].astype(float)\\n\\n# let's view a sample of the data\\ndf.sample(n=5, random_state=1)\";\n",
       "                var nbb_formatted_code = \"# removing the units and converting to float\\ndf[\\\"Engine\\\"] = df[\\\"Engine\\\"].str.split(\\\" \\\").str[0].astype(float)\\n\\n# let's view a sample of the data\\ndf.sample(n=5, random_state=1)\";\n",
       "                var nbb_cells = Jupyter.notebook.get_cells();\n",
       "                for (var i = 0; i < nbb_cells.length; ++i) {\n",
       "                    if (nbb_cells[i].input_prompt_number == nbb_cell_id) {\n",
       "                        if (nbb_cells[i].get_text() == nbb_unformatted_code) {\n",
       "                             nbb_cells[i].set_text(nbb_formatted_code);\n",
       "                        }\n",
       "                        break;\n",
       "                    }\n",
       "                }\n",
       "            }, 500);\n",
       "            "
      ],
      "text/plain": [
       "<IPython.core.display.Javascript object>"
      ]
     },
     "metadata": {},
     "output_type": "display_data"
    }
   ],
   "source": [
    "# removing the units and converting to float\n",
    "df[\"Engine\"] = df[\"Engine\"].str.split(\" \").str[0].astype(float)\n",
    "\n",
    "# let's view a sample of the data\n",
    "df.sample(n=5, random_state=1)"
   ]
  },
  {
   "cell_type": "code",
   "execution_count": 62,
   "id": "22896df1",
   "metadata": {},
   "outputs": [
    {
     "data": {
      "text/html": [
       "<div>\n",
       "<style scoped>\n",
       "    .dataframe tbody tr th:only-of-type {\n",
       "        vertical-align: middle;\n",
       "    }\n",
       "\n",
       "    .dataframe tbody tr th {\n",
       "        vertical-align: top;\n",
       "    }\n",
       "\n",
       "    .dataframe thead th {\n",
       "        text-align: right;\n",
       "    }\n",
       "</style>\n",
       "<table border=\"1\" class=\"dataframe\">\n",
       "  <thead>\n",
       "    <tr style=\"text-align: right;\">\n",
       "      <th></th>\n",
       "      <th>Name</th>\n",
       "      <th>Location</th>\n",
       "      <th>Year</th>\n",
       "      <th>Kilometers_Driven</th>\n",
       "      <th>Fuel_Type</th>\n",
       "      <th>Transmission</th>\n",
       "      <th>Owner_Type</th>\n",
       "      <th>Mileage</th>\n",
       "      <th>Engine</th>\n",
       "      <th>Power</th>\n",
       "      <th>Seats</th>\n",
       "      <th>New_Price</th>\n",
       "      <th>Price</th>\n",
       "    </tr>\n",
       "  </thead>\n",
       "  <tbody>\n",
       "    <tr>\n",
       "      <th>2397</th>\n",
       "      <td>Ford EcoSport 1.5 Petrol Trend</td>\n",
       "      <td>Kolkata</td>\n",
       "      <td>2016</td>\n",
       "      <td>21460</td>\n",
       "      <td>Petrol</td>\n",
       "      <td>Manual</td>\n",
       "      <td>First</td>\n",
       "      <td>17.0</td>\n",
       "      <td>1497.0</td>\n",
       "      <td>121.36</td>\n",
       "      <td>5.0</td>\n",
       "      <td>9.47 Lakh</td>\n",
       "      <td>6.00</td>\n",
       "    </tr>\n",
       "    <tr>\n",
       "      <th>3777</th>\n",
       "      <td>Maruti Wagon R VXI 1.2</td>\n",
       "      <td>Kochi</td>\n",
       "      <td>2015</td>\n",
       "      <td>49818</td>\n",
       "      <td>Petrol</td>\n",
       "      <td>Manual</td>\n",
       "      <td>First</td>\n",
       "      <td>21.5</td>\n",
       "      <td>1197.0</td>\n",
       "      <td>81.80</td>\n",
       "      <td>5.0</td>\n",
       "      <td>5.44 Lakh</td>\n",
       "      <td>4.11</td>\n",
       "    </tr>\n",
       "    <tr>\n",
       "      <th>4425</th>\n",
       "      <td>Ford Endeavour 4x2 XLT</td>\n",
       "      <td>Hyderabad</td>\n",
       "      <td>2007</td>\n",
       "      <td>130000</td>\n",
       "      <td>Diesel</td>\n",
       "      <td>Manual</td>\n",
       "      <td>First</td>\n",
       "      <td>13.1</td>\n",
       "      <td>2499.0</td>\n",
       "      <td>141.00</td>\n",
       "      <td>7.0</td>\n",
       "      <td>NaN</td>\n",
       "      <td>6.00</td>\n",
       "    </tr>\n",
       "    <tr>\n",
       "      <th>3661</th>\n",
       "      <td>Mercedes-Benz E-Class E250 CDI Avantgrade</td>\n",
       "      <td>Coimbatore</td>\n",
       "      <td>2016</td>\n",
       "      <td>39753</td>\n",
       "      <td>Diesel</td>\n",
       "      <td>Automatic</td>\n",
       "      <td>First</td>\n",
       "      <td>13.0</td>\n",
       "      <td>2143.0</td>\n",
       "      <td>201.10</td>\n",
       "      <td>5.0</td>\n",
       "      <td>NaN</td>\n",
       "      <td>35.28</td>\n",
       "    </tr>\n",
       "    <tr>\n",
       "      <th>4514</th>\n",
       "      <td>Hyundai Xcent 1.2 Kappa AT SX Option</td>\n",
       "      <td>Kochi</td>\n",
       "      <td>2016</td>\n",
       "      <td>45560</td>\n",
       "      <td>Petrol</td>\n",
       "      <td>Automatic</td>\n",
       "      <td>First</td>\n",
       "      <td>16.9</td>\n",
       "      <td>1197.0</td>\n",
       "      <td>82.00</td>\n",
       "      <td>5.0</td>\n",
       "      <td>NaN</td>\n",
       "      <td>6.34</td>\n",
       "    </tr>\n",
       "  </tbody>\n",
       "</table>\n",
       "</div>"
      ],
      "text/plain": [
       "                                           Name    Location  Year  \\\n",
       "2397             Ford EcoSport 1.5 Petrol Trend     Kolkata  2016   \n",
       "3777                     Maruti Wagon R VXI 1.2       Kochi  2015   \n",
       "4425                     Ford Endeavour 4x2 XLT   Hyderabad  2007   \n",
       "3661  Mercedes-Benz E-Class E250 CDI Avantgrade  Coimbatore  2016   \n",
       "4514       Hyundai Xcent 1.2 Kappa AT SX Option       Kochi  2016   \n",
       "\n",
       "      Kilometers_Driven Fuel_Type Transmission Owner_Type  Mileage  Engine  \\\n",
       "2397              21460    Petrol       Manual      First     17.0  1497.0   \n",
       "3777              49818    Petrol       Manual      First     21.5  1197.0   \n",
       "4425             130000    Diesel       Manual      First     13.1  2499.0   \n",
       "3661              39753    Diesel    Automatic      First     13.0  2143.0   \n",
       "4514              45560    Petrol    Automatic      First     16.9  1197.0   \n",
       "\n",
       "       Power  Seats  New_Price  Price  \n",
       "2397  121.36    5.0  9.47 Lakh   6.00  \n",
       "3777   81.80    5.0  5.44 Lakh   4.11  \n",
       "4425  141.00    7.0        NaN   6.00  \n",
       "3661  201.10    5.0        NaN  35.28  \n",
       "4514   82.00    5.0        NaN   6.34  "
      ]
     },
     "execution_count": 62,
     "metadata": {},
     "output_type": "execute_result"
    },
    {
     "data": {
      "application/javascript": [
       "\n",
       "            setTimeout(function() {\n",
       "                var nbb_cell_id = 62;\n",
       "                var nbb_unformatted_code = \"# removing the units and converting to float\\ndf[\\\"Power\\\"] = df[\\\"Power\\\"].str.split(\\\" \\\").str[0].astype(float)\\n\\n# let's view a sample of the data\\ndf.sample(n=5, random_state=1)\";\n",
       "                var nbb_formatted_code = \"# removing the units and converting to float\\ndf[\\\"Power\\\"] = df[\\\"Power\\\"].str.split(\\\" \\\").str[0].astype(float)\\n\\n# let's view a sample of the data\\ndf.sample(n=5, random_state=1)\";\n",
       "                var nbb_cells = Jupyter.notebook.get_cells();\n",
       "                for (var i = 0; i < nbb_cells.length; ++i) {\n",
       "                    if (nbb_cells[i].input_prompt_number == nbb_cell_id) {\n",
       "                        if (nbb_cells[i].get_text() == nbb_unformatted_code) {\n",
       "                             nbb_cells[i].set_text(nbb_formatted_code);\n",
       "                        }\n",
       "                        break;\n",
       "                    }\n",
       "                }\n",
       "            }, 500);\n",
       "            "
      ],
      "text/plain": [
       "<IPython.core.display.Javascript object>"
      ]
     },
     "metadata": {},
     "output_type": "display_data"
    }
   ],
   "source": [
    "# removing the units and converting to float\n",
    "df[\"Power\"] = df[\"Power\"].str.split(\" \").str[0].astype(float)\n",
    "\n",
    "# let's view a sample of the data\n",
    "df.sample(n=5, random_state=1)"
   ]
  },
  {
   "cell_type": "code",
   "execution_count": 63,
   "id": "b468123f",
   "metadata": {},
   "outputs": [
    {
     "data": {
      "text/html": [
       "<div>\n",
       "<style scoped>\n",
       "    .dataframe tbody tr th:only-of-type {\n",
       "        vertical-align: middle;\n",
       "    }\n",
       "\n",
       "    .dataframe tbody tr th {\n",
       "        vertical-align: top;\n",
       "    }\n",
       "\n",
       "    .dataframe thead th {\n",
       "        text-align: right;\n",
       "    }\n",
       "</style>\n",
       "<table border=\"1\" class=\"dataframe\">\n",
       "  <thead>\n",
       "    <tr style=\"text-align: right;\">\n",
       "      <th></th>\n",
       "      <th>Name</th>\n",
       "      <th>Location</th>\n",
       "      <th>Year</th>\n",
       "      <th>Kilometers_Driven</th>\n",
       "      <th>Fuel_Type</th>\n",
       "      <th>Transmission</th>\n",
       "      <th>Owner_Type</th>\n",
       "      <th>Mileage</th>\n",
       "      <th>Engine</th>\n",
       "      <th>Power</th>\n",
       "      <th>Seats</th>\n",
       "      <th>New_Price</th>\n",
       "      <th>Price</th>\n",
       "    </tr>\n",
       "  </thead>\n",
       "  <tbody>\n",
       "    <tr>\n",
       "      <th>148</th>\n",
       "      <td>Audi RS5 Coupe</td>\n",
       "      <td>Mumbai</td>\n",
       "      <td>2013</td>\n",
       "      <td>23000</td>\n",
       "      <td>Petrol</td>\n",
       "      <td>Automatic</td>\n",
       "      <td>First</td>\n",
       "      <td>11.05</td>\n",
       "      <td>2894.0</td>\n",
       "      <td>444.0</td>\n",
       "      <td>4.0</td>\n",
       "      <td>1.28 Cr</td>\n",
       "      <td>37.00</td>\n",
       "    </tr>\n",
       "    <tr>\n",
       "      <th>327</th>\n",
       "      <td>Audi Q7 45 TDI Quattro Technology</td>\n",
       "      <td>Coimbatore</td>\n",
       "      <td>2017</td>\n",
       "      <td>97430</td>\n",
       "      <td>Diesel</td>\n",
       "      <td>Automatic</td>\n",
       "      <td>First</td>\n",
       "      <td>14.75</td>\n",
       "      <td>2967.0</td>\n",
       "      <td>245.0</td>\n",
       "      <td>7.0</td>\n",
       "      <td>1.04 Cr</td>\n",
       "      <td>62.67</td>\n",
       "    </tr>\n",
       "  </tbody>\n",
       "</table>\n",
       "</div>"
      ],
      "text/plain": [
       "                                  Name    Location  Year  Kilometers_Driven  \\\n",
       "148                     Audi RS5 Coupe      Mumbai  2013              23000   \n",
       "327  Audi Q7 45 TDI Quattro Technology  Coimbatore  2017              97430   \n",
       "\n",
       "    Fuel_Type Transmission Owner_Type  Mileage  Engine  Power  Seats  \\\n",
       "148    Petrol    Automatic      First    11.05  2894.0  444.0    4.0   \n",
       "327    Diesel    Automatic      First    14.75  2967.0  245.0    7.0   \n",
       "\n",
       "    New_Price  Price  \n",
       "148   1.28 Cr  37.00  \n",
       "327   1.04 Cr  62.67  "
      ]
     },
     "execution_count": 63,
     "metadata": {},
     "output_type": "execute_result"
    },
    {
     "data": {
      "application/javascript": [
       "\n",
       "            setTimeout(function() {\n",
       "                var nbb_cell_id = 63;\n",
       "                var nbb_unformatted_code = \"# checking other units in New_Price column\\ndf[df[\\\"New_Price\\\"].str.endswith(\\\"Lakh\\\") == False].head(2)\";\n",
       "                var nbb_formatted_code = \"# checking other units in New_Price column\\ndf[df[\\\"New_Price\\\"].str.endswith(\\\"Lakh\\\") == False].head(2)\";\n",
       "                var nbb_cells = Jupyter.notebook.get_cells();\n",
       "                for (var i = 0; i < nbb_cells.length; ++i) {\n",
       "                    if (nbb_cells[i].input_prompt_number == nbb_cell_id) {\n",
       "                        if (nbb_cells[i].get_text() == nbb_unformatted_code) {\n",
       "                             nbb_cells[i].set_text(nbb_formatted_code);\n",
       "                        }\n",
       "                        break;\n",
       "                    }\n",
       "                }\n",
       "            }, 500);\n",
       "            "
      ],
      "text/plain": [
       "<IPython.core.display.Javascript object>"
      ]
     },
     "metadata": {},
     "output_type": "display_data"
    }
   ],
   "source": [
    "# checking other units in New_Price column\n",
    "df[df[\"New_Price\"].str.endswith(\"Lakh\") == False].head(2)"
   ]
  },
  {
   "cell_type": "code",
   "execution_count": 64,
   "id": "c4d7dfa5",
   "metadata": {},
   "outputs": [
    {
     "data": {
      "text/html": [
       "<div>\n",
       "<style scoped>\n",
       "    .dataframe tbody tr th:only-of-type {\n",
       "        vertical-align: middle;\n",
       "    }\n",
       "\n",
       "    .dataframe tbody tr th {\n",
       "        vertical-align: top;\n",
       "    }\n",
       "\n",
       "    .dataframe thead th {\n",
       "        text-align: right;\n",
       "    }\n",
       "</style>\n",
       "<table border=\"1\" class=\"dataframe\">\n",
       "  <thead>\n",
       "    <tr style=\"text-align: right;\">\n",
       "      <th></th>\n",
       "      <th>Name</th>\n",
       "      <th>Location</th>\n",
       "      <th>Year</th>\n",
       "      <th>Kilometers_Driven</th>\n",
       "      <th>Fuel_Type</th>\n",
       "      <th>Transmission</th>\n",
       "      <th>Owner_Type</th>\n",
       "      <th>Mileage</th>\n",
       "      <th>Engine</th>\n",
       "      <th>Power</th>\n",
       "      <th>Seats</th>\n",
       "      <th>New_Price</th>\n",
       "      <th>Price</th>\n",
       "    </tr>\n",
       "  </thead>\n",
       "  <tbody>\n",
       "    <tr>\n",
       "      <th>2397</th>\n",
       "      <td>Ford EcoSport 1.5 Petrol Trend</td>\n",
       "      <td>Kolkata</td>\n",
       "      <td>2016</td>\n",
       "      <td>21460</td>\n",
       "      <td>Petrol</td>\n",
       "      <td>Manual</td>\n",
       "      <td>First</td>\n",
       "      <td>17.0</td>\n",
       "      <td>1497.0</td>\n",
       "      <td>121.36</td>\n",
       "      <td>5.0</td>\n",
       "      <td>9.47</td>\n",
       "      <td>6.00</td>\n",
       "    </tr>\n",
       "    <tr>\n",
       "      <th>3777</th>\n",
       "      <td>Maruti Wagon R VXI 1.2</td>\n",
       "      <td>Kochi</td>\n",
       "      <td>2015</td>\n",
       "      <td>49818</td>\n",
       "      <td>Petrol</td>\n",
       "      <td>Manual</td>\n",
       "      <td>First</td>\n",
       "      <td>21.5</td>\n",
       "      <td>1197.0</td>\n",
       "      <td>81.80</td>\n",
       "      <td>5.0</td>\n",
       "      <td>5.44</td>\n",
       "      <td>4.11</td>\n",
       "    </tr>\n",
       "    <tr>\n",
       "      <th>4425</th>\n",
       "      <td>Ford Endeavour 4x2 XLT</td>\n",
       "      <td>Hyderabad</td>\n",
       "      <td>2007</td>\n",
       "      <td>130000</td>\n",
       "      <td>Diesel</td>\n",
       "      <td>Manual</td>\n",
       "      <td>First</td>\n",
       "      <td>13.1</td>\n",
       "      <td>2499.0</td>\n",
       "      <td>141.00</td>\n",
       "      <td>7.0</td>\n",
       "      <td>NaN</td>\n",
       "      <td>6.00</td>\n",
       "    </tr>\n",
       "    <tr>\n",
       "      <th>3661</th>\n",
       "      <td>Mercedes-Benz E-Class E250 CDI Avantgrade</td>\n",
       "      <td>Coimbatore</td>\n",
       "      <td>2016</td>\n",
       "      <td>39753</td>\n",
       "      <td>Diesel</td>\n",
       "      <td>Automatic</td>\n",
       "      <td>First</td>\n",
       "      <td>13.0</td>\n",
       "      <td>2143.0</td>\n",
       "      <td>201.10</td>\n",
       "      <td>5.0</td>\n",
       "      <td>NaN</td>\n",
       "      <td>35.28</td>\n",
       "    </tr>\n",
       "    <tr>\n",
       "      <th>4514</th>\n",
       "      <td>Hyundai Xcent 1.2 Kappa AT SX Option</td>\n",
       "      <td>Kochi</td>\n",
       "      <td>2016</td>\n",
       "      <td>45560</td>\n",
       "      <td>Petrol</td>\n",
       "      <td>Automatic</td>\n",
       "      <td>First</td>\n",
       "      <td>16.9</td>\n",
       "      <td>1197.0</td>\n",
       "      <td>82.00</td>\n",
       "      <td>5.0</td>\n",
       "      <td>NaN</td>\n",
       "      <td>6.34</td>\n",
       "    </tr>\n",
       "  </tbody>\n",
       "</table>\n",
       "</div>"
      ],
      "text/plain": [
       "                                           Name    Location  Year  \\\n",
       "2397             Ford EcoSport 1.5 Petrol Trend     Kolkata  2016   \n",
       "3777                     Maruti Wagon R VXI 1.2       Kochi  2015   \n",
       "4425                     Ford Endeavour 4x2 XLT   Hyderabad  2007   \n",
       "3661  Mercedes-Benz E-Class E250 CDI Avantgrade  Coimbatore  2016   \n",
       "4514       Hyundai Xcent 1.2 Kappa AT SX Option       Kochi  2016   \n",
       "\n",
       "      Kilometers_Driven Fuel_Type Transmission Owner_Type  Mileage  Engine  \\\n",
       "2397              21460    Petrol       Manual      First     17.0  1497.0   \n",
       "3777              49818    Petrol       Manual      First     21.5  1197.0   \n",
       "4425             130000    Diesel       Manual      First     13.1  2499.0   \n",
       "3661              39753    Diesel    Automatic      First     13.0  2143.0   \n",
       "4514              45560    Petrol    Automatic      First     16.9  1197.0   \n",
       "\n",
       "       Power  Seats  New_Price  Price  \n",
       "2397  121.36    5.0       9.47   6.00  \n",
       "3777   81.80    5.0       5.44   4.11  \n",
       "4425  141.00    7.0        NaN   6.00  \n",
       "3661  201.10    5.0        NaN  35.28  \n",
       "4514   82.00    5.0        NaN   6.34  "
      ]
     },
     "execution_count": 64,
     "metadata": {},
     "output_type": "execute_result"
    },
    {
     "data": {
      "application/javascript": [
       "\n",
       "            setTimeout(function() {\n",
       "                var nbb_cell_id = 64;\n",
       "                var nbb_unformatted_code = \"# Converting New_Price column to float\\n\\n# convert crore to lakh\\ndef cr_to_lakh(new_price_val):\\n    \\\"\\\"\\\"This function takes in a string representing the new price column\\n    and converts it to a number.\\n    For example, '8.61 Lakh' becomes 8.61.\\n    If the input is already numeric, which probably means it's NaN,\\n    this function just returns np.nan.\\\"\\\"\\\"\\n    if isinstance(new_price_val, str):  # checks if `new_price_val` is a string\\n        multiplier = 1  # handles GB vs TB\\n        if new_price_val.endswith(\\\"Cr\\\"):\\n            multiplier = 100\\n        return float(new_price_val.replace(\\\"Lakh\\\", \\\"\\\").replace(\\\"Cr\\\", \\\"\\\")) * multiplier\\n    else:  # this happens when the new_price_vol is np.nan\\n        return np.nan\\n\\n\\ndf[\\\"New_Price\\\"] = df[\\\"New_Price\\\"].apply(cr_to_lakh)\\n\\n# let's view a sample of the data\\ndf.sample(n=5, random_state=1)\";\n",
       "                var nbb_formatted_code = \"# Converting New_Price column to float\\n\\n# convert crore to lakh\\ndef cr_to_lakh(new_price_val):\\n    \\\"\\\"\\\"This function takes in a string representing the new price column\\n    and converts it to a number.\\n    For example, '8.61 Lakh' becomes 8.61.\\n    If the input is already numeric, which probably means it's NaN,\\n    this function just returns np.nan.\\\"\\\"\\\"\\n    if isinstance(new_price_val, str):  # checks if `new_price_val` is a string\\n        multiplier = 1  # handles GB vs TB\\n        if new_price_val.endswith(\\\"Cr\\\"):\\n            multiplier = 100\\n        return float(new_price_val.replace(\\\"Lakh\\\", \\\"\\\").replace(\\\"Cr\\\", \\\"\\\")) * multiplier\\n    else:  # this happens when the new_price_vol is np.nan\\n        return np.nan\\n\\n\\ndf[\\\"New_Price\\\"] = df[\\\"New_Price\\\"].apply(cr_to_lakh)\\n\\n# let's view a sample of the data\\ndf.sample(n=5, random_state=1)\";\n",
       "                var nbb_cells = Jupyter.notebook.get_cells();\n",
       "                for (var i = 0; i < nbb_cells.length; ++i) {\n",
       "                    if (nbb_cells[i].input_prompt_number == nbb_cell_id) {\n",
       "                        if (nbb_cells[i].get_text() == nbb_unformatted_code) {\n",
       "                             nbb_cells[i].set_text(nbb_formatted_code);\n",
       "                        }\n",
       "                        break;\n",
       "                    }\n",
       "                }\n",
       "            }, 500);\n",
       "            "
      ],
      "text/plain": [
       "<IPython.core.display.Javascript object>"
      ]
     },
     "metadata": {},
     "output_type": "display_data"
    }
   ],
   "source": [
    "# Converting New_Price column to float\n",
    "\n",
    "# convert crore to lakh\n",
    "def cr_to_lakh(new_price_val):\n",
    "    \"\"\"This function takes in a string representing the new price column\n",
    "    and converts it to a number.\n",
    "    For example, '8.61 Lakh' becomes 8.61.\n",
    "    If the input is already numeric, which probably means it's NaN,\n",
    "    this function just returns np.nan.\"\"\"\n",
    "    if isinstance(new_price_val, str):  # checks if `new_price_val` is a string\n",
    "        multiplier = 1  # handles GB vs TB\n",
    "        if new_price_val.endswith(\"Cr\"):\n",
    "            multiplier = 100\n",
    "        return float(new_price_val.replace(\"Lakh\", \"\").replace(\"Cr\", \"\")) * multiplier\n",
    "    else:  # this happens when the new_price_vol is np.nan\n",
    "        return np.nan\n",
    "\n",
    "\n",
    "df[\"New_Price\"] = df[\"New_Price\"].apply(cr_to_lakh)\n",
    "\n",
    "# let's view a sample of the data\n",
    "df.sample(n=5, random_state=1)"
   ]
  },
  {
   "cell_type": "code",
   "execution_count": 65,
   "id": "65e5d671",
   "metadata": {},
   "outputs": [
    {
     "name": "stdout",
     "output_type": "stream",
     "text": [
      "<class 'pandas.core.frame.DataFrame'>\n",
      "RangeIndex: 7253 entries, 0 to 7252\n",
      "Data columns (total 13 columns):\n",
      " #   Column             Non-Null Count  Dtype  \n",
      "---  ------             --------------  -----  \n",
      " 0   Name               7253 non-null   object \n",
      " 1   Location           7253 non-null   object \n",
      " 2   Year               7253 non-null   int64  \n",
      " 3   Kilometers_Driven  7253 non-null   int64  \n",
      " 4   Fuel_Type          7253 non-null   object \n",
      " 5   Transmission       7253 non-null   object \n",
      " 6   Owner_Type         7253 non-null   object \n",
      " 7   Mileage            7251 non-null   float64\n",
      " 8   Engine             7207 non-null   float64\n",
      " 9   Power              7078 non-null   float64\n",
      " 10  Seats              7200 non-null   float64\n",
      " 11  New_Price          1006 non-null   float64\n",
      " 12  Price              6019 non-null   float64\n",
      "dtypes: float64(6), int64(2), object(5)\n",
      "memory usage: 736.8+ KB\n"
     ]
    },
    {
     "data": {
      "application/javascript": [
       "\n",
       "            setTimeout(function() {\n",
       "                var nbb_cell_id = 65;\n",
       "                var nbb_unformatted_code = \"# check for datatypes\\ndf.info()\";\n",
       "                var nbb_formatted_code = \"# check for datatypes\\ndf.info()\";\n",
       "                var nbb_cells = Jupyter.notebook.get_cells();\n",
       "                for (var i = 0; i < nbb_cells.length; ++i) {\n",
       "                    if (nbb_cells[i].input_prompt_number == nbb_cell_id) {\n",
       "                        if (nbb_cells[i].get_text() == nbb_unformatted_code) {\n",
       "                             nbb_cells[i].set_text(nbb_formatted_code);\n",
       "                        }\n",
       "                        break;\n",
       "                    }\n",
       "                }\n",
       "            }, 500);\n",
       "            "
      ],
      "text/plain": [
       "<IPython.core.display.Javascript object>"
      ]
     },
     "metadata": {},
     "output_type": "display_data"
    }
   ],
   "source": [
    "# check for datatypes\n",
    "df.info()"
   ]
  },
  {
   "cell_type": "markdown",
   "id": "dd298605",
   "metadata": {},
   "source": [
    "* 4 columns are converted to float columns.\n",
    "* New_Price column has highest missing values, this indicates the information of price of new cars is not available for most of the cars. Imputing values for New_Price column with available information will be difficult. \n",
    "* We can drop the New_Price column for better data.\n",
    "* Missing values in Target column should be dropped, so can drop null values in Price column.\n",
    "* The dataset has 2041 unique values for Name column, for categorical column we do one-hot encoding for modelling it will add 2041 column to our data. we can drop the Name column for better analysis."
   ]
  },
  {
   "cell_type": "markdown",
   "id": "1f09ac9b",
   "metadata": {},
   "source": [
    "**Dropping New_Price column**"
   ]
  },
  {
   "cell_type": "code",
   "execution_count": 66,
   "id": "0e79109d",
   "metadata": {},
   "outputs": [
    {
     "data": {
      "application/javascript": [
       "\n",
       "            setTimeout(function() {\n",
       "                var nbb_cell_id = 66;\n",
       "                var nbb_unformatted_code = \"# Dropping New_Price_Lakh\\ndf.drop([\\\"New_Price\\\"], axis=1, inplace=True)\";\n",
       "                var nbb_formatted_code = \"# Dropping New_Price_Lakh\\ndf.drop([\\\"New_Price\\\"], axis=1, inplace=True)\";\n",
       "                var nbb_cells = Jupyter.notebook.get_cells();\n",
       "                for (var i = 0; i < nbb_cells.length; ++i) {\n",
       "                    if (nbb_cells[i].input_prompt_number == nbb_cell_id) {\n",
       "                        if (nbb_cells[i].get_text() == nbb_unformatted_code) {\n",
       "                             nbb_cells[i].set_text(nbb_formatted_code);\n",
       "                        }\n",
       "                        break;\n",
       "                    }\n",
       "                }\n",
       "            }, 500);\n",
       "            "
      ],
      "text/plain": [
       "<IPython.core.display.Javascript object>"
      ]
     },
     "metadata": {},
     "output_type": "display_data"
    }
   ],
   "source": [
    "# Dropping New_Price_Lakh\n",
    "df.drop([\"New_Price\"], axis=1, inplace=True)"
   ]
  },
  {
   "cell_type": "markdown",
   "id": "c909b940",
   "metadata": {},
   "source": [
    "**Dropping Null values in Price column**"
   ]
  },
  {
   "cell_type": "code",
   "execution_count": 67,
   "id": "f24e6f77",
   "metadata": {},
   "outputs": [
    {
     "data": {
      "application/javascript": [
       "\n",
       "            setTimeout(function() {\n",
       "                var nbb_cell_id = 67;\n",
       "                var nbb_unformatted_code = \"# Price is our Target column, Dropping missing entries\\ndf.dropna(subset=[\\\"Price\\\"], inplace=True)\";\n",
       "                var nbb_formatted_code = \"# Price is our Target column, Dropping missing entries\\ndf.dropna(subset=[\\\"Price\\\"], inplace=True)\";\n",
       "                var nbb_cells = Jupyter.notebook.get_cells();\n",
       "                for (var i = 0; i < nbb_cells.length; ++i) {\n",
       "                    if (nbb_cells[i].input_prompt_number == nbb_cell_id) {\n",
       "                        if (nbb_cells[i].get_text() == nbb_unformatted_code) {\n",
       "                             nbb_cells[i].set_text(nbb_formatted_code);\n",
       "                        }\n",
       "                        break;\n",
       "                    }\n",
       "                }\n",
       "            }, 500);\n",
       "            "
      ],
      "text/plain": [
       "<IPython.core.display.Javascript object>"
      ]
     },
     "metadata": {},
     "output_type": "display_data"
    }
   ],
   "source": [
    "# Price is our Target column, Dropping missing entries\n",
    "df.dropna(subset=[\"Price\"], inplace=True)"
   ]
  },
  {
   "cell_type": "markdown",
   "id": "04f68f54",
   "metadata": {},
   "source": [
    "**Dropping Name column**"
   ]
  },
  {
   "cell_type": "code",
   "execution_count": 68,
   "id": "3f7e95fa",
   "metadata": {},
   "outputs": [
    {
     "data": {
      "text/html": [
       "<div>\n",
       "<style scoped>\n",
       "    .dataframe tbody tr th:only-of-type {\n",
       "        vertical-align: middle;\n",
       "    }\n",
       "\n",
       "    .dataframe tbody tr th {\n",
       "        vertical-align: top;\n",
       "    }\n",
       "\n",
       "    .dataframe thead th {\n",
       "        text-align: right;\n",
       "    }\n",
       "</style>\n",
       "<table border=\"1\" class=\"dataframe\">\n",
       "  <thead>\n",
       "    <tr style=\"text-align: right;\">\n",
       "      <th></th>\n",
       "      <th>Location</th>\n",
       "      <th>Year</th>\n",
       "      <th>Kilometers_Driven</th>\n",
       "      <th>Fuel_Type</th>\n",
       "      <th>Transmission</th>\n",
       "      <th>Owner_Type</th>\n",
       "      <th>Mileage</th>\n",
       "      <th>Engine</th>\n",
       "      <th>Power</th>\n",
       "      <th>Seats</th>\n",
       "      <th>Price</th>\n",
       "    </tr>\n",
       "  </thead>\n",
       "  <tbody>\n",
       "    <tr>\n",
       "      <th>2319</th>\n",
       "      <td>Coimbatore</td>\n",
       "      <td>2019</td>\n",
       "      <td>9312</td>\n",
       "      <td>Diesel</td>\n",
       "      <td>Automatic</td>\n",
       "      <td>First</td>\n",
       "      <td>18.00</td>\n",
       "      <td>2987.0</td>\n",
       "      <td>258.00</td>\n",
       "      <td>5.0</td>\n",
       "      <td>78.80</td>\n",
       "    </tr>\n",
       "    <tr>\n",
       "      <th>3652</th>\n",
       "      <td>Coimbatore</td>\n",
       "      <td>2008</td>\n",
       "      <td>77325</td>\n",
       "      <td>Petrol</td>\n",
       "      <td>Manual</td>\n",
       "      <td>First</td>\n",
       "      <td>15.60</td>\n",
       "      <td>1586.0</td>\n",
       "      <td>104.68</td>\n",
       "      <td>5.0</td>\n",
       "      <td>3.51</td>\n",
       "    </tr>\n",
       "    <tr>\n",
       "      <th>2397</th>\n",
       "      <td>Kolkata</td>\n",
       "      <td>2016</td>\n",
       "      <td>21460</td>\n",
       "      <td>Petrol</td>\n",
       "      <td>Manual</td>\n",
       "      <td>First</td>\n",
       "      <td>17.00</td>\n",
       "      <td>1497.0</td>\n",
       "      <td>121.36</td>\n",
       "      <td>5.0</td>\n",
       "      <td>6.00</td>\n",
       "    </tr>\n",
       "    <tr>\n",
       "      <th>3536</th>\n",
       "      <td>Kochi</td>\n",
       "      <td>2018</td>\n",
       "      <td>11966</td>\n",
       "      <td>Petrol</td>\n",
       "      <td>Manual</td>\n",
       "      <td>First</td>\n",
       "      <td>16.80</td>\n",
       "      <td>1497.0</td>\n",
       "      <td>116.30</td>\n",
       "      <td>5.0</td>\n",
       "      <td>10.28</td>\n",
       "    </tr>\n",
       "    <tr>\n",
       "      <th>4400</th>\n",
       "      <td>Kolkata</td>\n",
       "      <td>2011</td>\n",
       "      <td>46000</td>\n",
       "      <td>Petrol</td>\n",
       "      <td>Manual</td>\n",
       "      <td>First</td>\n",
       "      <td>15.26</td>\n",
       "      <td>1598.0</td>\n",
       "      <td>103.50</td>\n",
       "      <td>5.0</td>\n",
       "      <td>2.35</td>\n",
       "    </tr>\n",
       "  </tbody>\n",
       "</table>\n",
       "</div>"
      ],
      "text/plain": [
       "        Location  Year  Kilometers_Driven Fuel_Type Transmission Owner_Type  \\\n",
       "2319  Coimbatore  2019               9312    Diesel    Automatic      First   \n",
       "3652  Coimbatore  2008              77325    Petrol       Manual      First   \n",
       "2397     Kolkata  2016              21460    Petrol       Manual      First   \n",
       "3536       Kochi  2018              11966    Petrol       Manual      First   \n",
       "4400     Kolkata  2011              46000    Petrol       Manual      First   \n",
       "\n",
       "      Mileage  Engine   Power  Seats  Price  \n",
       "2319    18.00  2987.0  258.00    5.0  78.80  \n",
       "3652    15.60  1586.0  104.68    5.0   3.51  \n",
       "2397    17.00  1497.0  121.36    5.0   6.00  \n",
       "3536    16.80  1497.0  116.30    5.0  10.28  \n",
       "4400    15.26  1598.0  103.50    5.0   2.35  "
      ]
     },
     "execution_count": 68,
     "metadata": {},
     "output_type": "execute_result"
    },
    {
     "data": {
      "application/javascript": [
       "\n",
       "            setTimeout(function() {\n",
       "                var nbb_cell_id = 68;\n",
       "                var nbb_unformatted_code = \"# Dropping Name column\\ndf.drop([\\\"Name\\\"], axis=1, inplace=True)\\n\\n# let's view a sample of the data\\ndf.sample(n=5, random_state=1)\";\n",
       "                var nbb_formatted_code = \"# Dropping Name column\\ndf.drop([\\\"Name\\\"], axis=1, inplace=True)\\n\\n# let's view a sample of the data\\ndf.sample(n=5, random_state=1)\";\n",
       "                var nbb_cells = Jupyter.notebook.get_cells();\n",
       "                for (var i = 0; i < nbb_cells.length; ++i) {\n",
       "                    if (nbb_cells[i].input_prompt_number == nbb_cell_id) {\n",
       "                        if (nbb_cells[i].get_text() == nbb_unformatted_code) {\n",
       "                             nbb_cells[i].set_text(nbb_formatted_code);\n",
       "                        }\n",
       "                        break;\n",
       "                    }\n",
       "                }\n",
       "            }, 500);\n",
       "            "
      ],
      "text/plain": [
       "<IPython.core.display.Javascript object>"
      ]
     },
     "metadata": {},
     "output_type": "display_data"
    }
   ],
   "source": [
    "# Dropping Name column\n",
    "df.drop([\"Name\"], axis=1, inplace=True)\n",
    "\n",
    "# let's view a sample of the data\n",
    "df.sample(n=5, random_state=1)"
   ]
  },
  {
   "cell_type": "markdown",
   "id": "63d0b83a",
   "metadata": {},
   "source": [
    "* The data looks much better now."
   ]
  },
  {
   "cell_type": "code",
   "execution_count": 69,
   "id": "c84fef5c",
   "metadata": {},
   "outputs": [
    {
     "name": "stdout",
     "output_type": "stream",
     "text": [
      "<class 'pandas.core.frame.DataFrame'>\n",
      "Int64Index: 6019 entries, 0 to 6018\n",
      "Data columns (total 11 columns):\n",
      " #   Column             Non-Null Count  Dtype  \n",
      "---  ------             --------------  -----  \n",
      " 0   Location           6019 non-null   object \n",
      " 1   Year               6019 non-null   int64  \n",
      " 2   Kilometers_Driven  6019 non-null   int64  \n",
      " 3   Fuel_Type          6019 non-null   object \n",
      " 4   Transmission       6019 non-null   object \n",
      " 5   Owner_Type         6019 non-null   object \n",
      " 6   Mileage            6017 non-null   float64\n",
      " 7   Engine             5983 non-null   float64\n",
      " 8   Power              5876 non-null   float64\n",
      " 9   Seats              5977 non-null   float64\n",
      " 10  Price              6019 non-null   float64\n",
      "dtypes: float64(5), int64(2), object(4)\n",
      "memory usage: 564.3+ KB\n"
     ]
    },
    {
     "data": {
      "application/javascript": [
       "\n",
       "            setTimeout(function() {\n",
       "                var nbb_cell_id = 69;\n",
       "                var nbb_unformatted_code = \"# check for columns reduction\\ndf.info()\";\n",
       "                var nbb_formatted_code = \"# check for columns reduction\\ndf.info()\";\n",
       "                var nbb_cells = Jupyter.notebook.get_cells();\n",
       "                for (var i = 0; i < nbb_cells.length; ++i) {\n",
       "                    if (nbb_cells[i].input_prompt_number == nbb_cell_id) {\n",
       "                        if (nbb_cells[i].get_text() == nbb_unformatted_code) {\n",
       "                             nbb_cells[i].set_text(nbb_formatted_code);\n",
       "                        }\n",
       "                        break;\n",
       "                    }\n",
       "                }\n",
       "            }, 500);\n",
       "            "
      ],
      "text/plain": [
       "<IPython.core.display.Javascript object>"
      ]
     },
     "metadata": {},
     "output_type": "display_data"
    }
   ],
   "source": [
    "# check for columns reduction\n",
    "df.info()"
   ]
  },
  {
   "cell_type": "code",
   "execution_count": 70,
   "id": "d91a2f04",
   "metadata": {},
   "outputs": [
    {
     "name": "stdout",
     "output_type": "stream",
     "text": [
      "There are 6019 rows and 11 columns.\n"
     ]
    },
    {
     "data": {
      "application/javascript": [
       "\n",
       "            setTimeout(function() {\n",
       "                var nbb_cell_id = 70;\n",
       "                var nbb_unformatted_code = \"# checking the shape of the data after dropping datas\\nprint(f\\\"There are {df.shape[0]} rows and {df.shape[1]} columns.\\\")\";\n",
       "                var nbb_formatted_code = \"# checking the shape of the data after dropping datas\\nprint(f\\\"There are {df.shape[0]} rows and {df.shape[1]} columns.\\\")\";\n",
       "                var nbb_cells = Jupyter.notebook.get_cells();\n",
       "                for (var i = 0; i < nbb_cells.length; ++i) {\n",
       "                    if (nbb_cells[i].input_prompt_number == nbb_cell_id) {\n",
       "                        if (nbb_cells[i].get_text() == nbb_unformatted_code) {\n",
       "                             nbb_cells[i].set_text(nbb_formatted_code);\n",
       "                        }\n",
       "                        break;\n",
       "                    }\n",
       "                }\n",
       "            }, 500);\n",
       "            "
      ],
      "text/plain": [
       "<IPython.core.display.Javascript object>"
      ]
     },
     "metadata": {},
     "output_type": "display_data"
    }
   ],
   "source": [
    "# checking the shape of the data after dropping datas\n",
    "print(f\"There are {df.shape[0]} rows and {df.shape[1]} columns.\")"
   ]
  },
  {
   "cell_type": "markdown",
   "id": "8befb02a",
   "metadata": {},
   "source": [
    "## Missing values Treatment\n",
    "\n",
    "There are multiple ways of dealing with missing values.\n",
    "\n",
    "* It is generally preferred to drop the missing values in the target variable.\n",
    "* It is generally preferred to impute the missing values in the independent variables using a suitable strategy.\n",
    "     * For an unskewed numerical variable, the mean of the variable can be used to impute missing values.\n",
    "     * For a skewed numerical variable, the median of the variable can be used to impute missing values.\n",
    "     * For a categorical variable, the most frequent value can be used to impute missing values."
   ]
  },
  {
   "cell_type": "markdown",
   "id": "95f38034",
   "metadata": {},
   "source": [
    "* We dropped the missing values in the target variable(Price column).\n",
    "* For Imputing values for independent variables, distribution of those variables are needed.\n",
    "* We will treat missing values after visualizing the data."
   ]
  },
  {
   "cell_type": "markdown",
   "id": "59071225",
   "metadata": {},
   "source": [
    "## Exploratory Data Analysis"
   ]
  },
  {
   "cell_type": "markdown",
   "id": "3582ba43",
   "metadata": {},
   "source": [
    "### Univariate Data Analysis"
   ]
  },
  {
   "cell_type": "code",
   "execution_count": 71,
   "id": "bcfc5d04",
   "metadata": {},
   "outputs": [
    {
     "data": {
      "application/javascript": [
       "\n",
       "            setTimeout(function() {\n",
       "                var nbb_cell_id = 71;\n",
       "                var nbb_unformatted_code = \"# defining function for explorate numerical variables.\\n\\n\\ndef histogram_boxplot(data, feature, figsize=(12, 7), kde=False, bins=None):\\n    \\\"\\\"\\\"\\n    Boxplot and histogram combined\\n\\n    data: dataframe\\n    feature: dataframe column\\n    figsize: size of figure (default (12,7))\\n    kde: whether to show the density curve (default False)\\n    bins: number of bins for histogram (default None)\\n    \\\"\\\"\\\"\\n    f2, (ax_box2, ax_hist2) = plt.subplots(\\n        nrows=2,  # Number of rows of the subplot grid= 2\\n        sharex=True,  # x-axis will be shared among all subplots\\n        gridspec_kw={\\\"height_ratios\\\": (0.25, 0.75)},\\n        figsize=figsize,\\n    )  # creating the 2 subplots\\n\\n    sns.boxplot(\\n        data=data, x=feature, ax=ax_box2, showmeans=True, color=\\\"violet\\\"\\n    )  # boxplot will be created and a star will indicate the mean value of the column\\n\\n    if bins:\\n        sns.histplot(\\n            data=data, x=feature, kde=kde, ax=ax_hist2, bins=bins, palette=\\\"winter\\\"\\n        )\\n    else:\\n        sns.histplot(data=data, x=feature, kde=kde, ax=ax_hist2)  # For histogram\\n\\n    ax_hist2.axvline(\\n        data[feature].mean(), color=\\\"green\\\", linestyle=\\\"--\\\"\\n    )  # Add mean to the histogram\\n\\n    ax_hist2.axvline(\\n        data[feature].median(), color=\\\"black\\\", linestyle=\\\"-\\\"\\n    )  # Add median to the histogram\";\n",
       "                var nbb_formatted_code = \"# defining function for explorate numerical variables.\\n\\n\\ndef histogram_boxplot(data, feature, figsize=(12, 7), kde=False, bins=None):\\n    \\\"\\\"\\\"\\n    Boxplot and histogram combined\\n\\n    data: dataframe\\n    feature: dataframe column\\n    figsize: size of figure (default (12,7))\\n    kde: whether to show the density curve (default False)\\n    bins: number of bins for histogram (default None)\\n    \\\"\\\"\\\"\\n    f2, (ax_box2, ax_hist2) = plt.subplots(\\n        nrows=2,  # Number of rows of the subplot grid= 2\\n        sharex=True,  # x-axis will be shared among all subplots\\n        gridspec_kw={\\\"height_ratios\\\": (0.25, 0.75)},\\n        figsize=figsize,\\n    )  # creating the 2 subplots\\n\\n    sns.boxplot(\\n        data=data, x=feature, ax=ax_box2, showmeans=True, color=\\\"violet\\\"\\n    )  # boxplot will be created and a star will indicate the mean value of the column\\n\\n    if bins:\\n        sns.histplot(\\n            data=data, x=feature, kde=kde, ax=ax_hist2, bins=bins, palette=\\\"winter\\\"\\n        )\\n    else:\\n        sns.histplot(data=data, x=feature, kde=kde, ax=ax_hist2)  # For histogram\\n\\n    ax_hist2.axvline(\\n        data[feature].mean(), color=\\\"green\\\", linestyle=\\\"--\\\"\\n    )  # Add mean to the histogram\\n\\n    ax_hist2.axvline(\\n        data[feature].median(), color=\\\"black\\\", linestyle=\\\"-\\\"\\n    )  # Add median to the histogram\";\n",
       "                var nbb_cells = Jupyter.notebook.get_cells();\n",
       "                for (var i = 0; i < nbb_cells.length; ++i) {\n",
       "                    if (nbb_cells[i].input_prompt_number == nbb_cell_id) {\n",
       "                        if (nbb_cells[i].get_text() == nbb_unformatted_code) {\n",
       "                             nbb_cells[i].set_text(nbb_formatted_code);\n",
       "                        }\n",
       "                        break;\n",
       "                    }\n",
       "                }\n",
       "            }, 500);\n",
       "            "
      ],
      "text/plain": [
       "<IPython.core.display.Javascript object>"
      ]
     },
     "metadata": {},
     "output_type": "display_data"
    }
   ],
   "source": [
    "# defining function for explorate numerical variables.\n",
    "\n",
    "\n",
    "def histogram_boxplot(data, feature, figsize=(12, 7), kde=False, bins=None):\n",
    "    \"\"\"\n",
    "    Boxplot and histogram combined\n",
    "\n",
    "    data: dataframe\n",
    "    feature: dataframe column\n",
    "    figsize: size of figure (default (12,7))\n",
    "    kde: whether to show the density curve (default False)\n",
    "    bins: number of bins for histogram (default None)\n",
    "    \"\"\"\n",
    "    f2, (ax_box2, ax_hist2) = plt.subplots(\n",
    "        nrows=2,  # Number of rows of the subplot grid= 2\n",
    "        sharex=True,  # x-axis will be shared among all subplots\n",
    "        gridspec_kw={\"height_ratios\": (0.25, 0.75)},\n",
    "        figsize=figsize,\n",
    "    )  # creating the 2 subplots\n",
    "\n",
    "    sns.boxplot(\n",
    "        data=data, x=feature, ax=ax_box2, showmeans=True, color=\"violet\"\n",
    "    )  # boxplot will be created and a star will indicate the mean value of the column\n",
    "\n",
    "    if bins:\n",
    "        sns.histplot(\n",
    "            data=data, x=feature, kde=kde, ax=ax_hist2, bins=bins, palette=\"winter\"\n",
    "        )\n",
    "    else:\n",
    "        sns.histplot(data=data, x=feature, kde=kde, ax=ax_hist2)  # For histogram\n",
    "\n",
    "    ax_hist2.axvline(\n",
    "        data[feature].mean(), color=\"green\", linestyle=\"--\"\n",
    "    )  # Add mean to the histogram\n",
    "\n",
    "    ax_hist2.axvline(\n",
    "        data[feature].median(), color=\"black\", linestyle=\"-\"\n",
    "    )  # Add median to the histogram"
   ]
  },
  {
   "cell_type": "markdown",
   "id": "b1ececd5",
   "metadata": {},
   "source": [
    "**Let's look at the spread of Numerical columns**"
   ]
  },
  {
   "cell_type": "code",
   "execution_count": 72,
   "id": "a7c4bde7",
   "metadata": {},
   "outputs": [
    {
     "data": {
      "image/png": "[encoded data removed]",
      "text/plain": [
       "<Figure size 864x504 with 2 Axes>"
      ]
     },
     "metadata": {},
     "output_type": "display_data"
    },
    {
     "data": {
      "image/png": "[encoded data removed]",
      "text/plain": [
       "<Figure size 864x504 with 2 Axes>"
      ]
     },
     "metadata": {},
     "output_type": "display_data"
    },
    {
     "data": {
      "image/png": "[encoded data removed]",
      "text/plain": [
       "<Figure size 864x504 with 2 Axes>"
      ]
     },
     "metadata": {},
     "output_type": "display_data"
    },
    {
     "data": {
      "image/png": "[encoded data removed]",
      "text/plain": [
       "<Figure size 864x504 with 2 Axes>"
      ]
     },
     "metadata": {},
     "output_type": "display_data"
    },
    {
     "data": {
      "image/png": "[encoded data removed]",
      "text/plain": [
       "<Figure size 864x504 with 2 Axes>"
      ]
     },
     "metadata": {},
     "output_type": "display_data"
    },
    {
     "data": {
      "image/png": "[encoded data removed]",
      "text/plain": [
       "<Figure size 864x504 with 2 Axes>"
      ]
     },
     "metadata": {},
     "output_type": "display_data"
    },
    {
     "data": {
      "image/png": "[encoded data removed]",
      "text/plain": [
       "<Figure size 864x504 with 2 Axes>"
      ]
     },
     "metadata": {},
     "output_type": "display_data"
    },
    {
     "data": {
      "application/javascript": [
       "\n",
       "            setTimeout(function() {\n",
       "                var nbb_cell_id = 72;\n",
       "                var nbb_unformatted_code = \"# creating a list for numerical columns\\nnum_col = [\\\"Year\\\", \\\"Kilometers_Driven\\\", \\\"Mileage\\\", \\\"Engine\\\", \\\"Power\\\", \\\"Seats\\\", \\\"Price\\\"]\\n\\n# ploting histogram and boxplot for all numerical columns\\nfor col in num_col:\\n    histogram_boxplot(df, col)\";\n",
       "                var nbb_formatted_code = \"# creating a list for numerical columns\\nnum_col = [\\\"Year\\\", \\\"Kilometers_Driven\\\", \\\"Mileage\\\", \\\"Engine\\\", \\\"Power\\\", \\\"Seats\\\", \\\"Price\\\"]\\n\\n# ploting histogram and boxplot for all numerical columns\\nfor col in num_col:\\n    histogram_boxplot(df, col)\";\n",
       "                var nbb_cells = Jupyter.notebook.get_cells();\n",
       "                for (var i = 0; i < nbb_cells.length; ++i) {\n",
       "                    if (nbb_cells[i].input_prompt_number == nbb_cell_id) {\n",
       "                        if (nbb_cells[i].get_text() == nbb_unformatted_code) {\n",
       "                             nbb_cells[i].set_text(nbb_formatted_code);\n",
       "                        }\n",
       "                        break;\n",
       "                    }\n",
       "                }\n",
       "            }, 500);\n",
       "            "
      ],
      "text/plain": [
       "<IPython.core.display.Javascript object>"
      ]
     },
     "metadata": {},
     "output_type": "display_data"
    }
   ],
   "source": [
    "# creating a list for numerical columns\n",
    "num_col = [\"Year\", \"Kilometers_Driven\", \"Mileage\", \"Engine\", \"Power\", \"Seats\", \"Price\"]\n",
    "\n",
    "# ploting histogram and boxplot for all numerical columns\n",
    "for col in num_col:\n",
    "    histogram_boxplot(df, col)"
   ]
  },
  {
   "cell_type": "markdown",
   "id": "634b3c2e",
   "metadata": {},
   "source": [
    "**Observations on univariate analysis of numerical columns**\n",
    "* Year\n",
    "  * The distribution is skewed towards left with Outliers in left side.\n",
    "  * Mean is less than median value.\n",
    "* Kilometer_Driven\n",
    "  * The distribution is skewed towards right with outliers, extreme values are seen in outliers.\n",
    "  * Mean and median values are almost same.\n",
    "* Mileage\n",
    "  * The distribution is close to normal with few outliers.\n",
    "  * Mean and median values are same.\n",
    "* Engine\n",
    "  * The distribution is slightly skewed towards right with outliers.\n",
    "* Power\n",
    "  * The distribution is skewed towards right. Extreme Outliers are found.\n",
    "* Seats\n",
    "  * The distribution is skewed towards right with outliers. Most cars have 5 seats.\n",
    "* Price\n",
    "  * The distribution of Price is right skewed with lots of outliers. Extreme outliers are found.\n",
    "  * Mean is greater than median."
   ]
  },
  {
   "cell_type": "markdown",
   "id": "4f557618",
   "metadata": {},
   "source": [
    "**Let's plot for categorical columns**"
   ]
  },
  {
   "cell_type": "code",
   "execution_count": 73,
   "id": "149673d9",
   "metadata": {},
   "outputs": [
    {
     "data": {
      "application/javascript": [
       "\n",
       "            setTimeout(function() {\n",
       "                var nbb_cell_id = 73;\n",
       "                var nbb_unformatted_code = \"# defining function for labeled_barplot for categorical columns\\ndef labeled_barplot(data, feature, perc=False, n=None):\\n    \\\"\\\"\\\"\\n    Barplot with percentage at the top\\n\\n    data: dataframe\\n    feature: dataframe column\\n    perc: whether to display percentages instead of count (default is False)\\n    n: displays the top n category levels (default is None, i.e., display all levels)\\n    \\\"\\\"\\\"\\n\\n    total = len(data[feature])  # length of the column\\n    count = data[feature].nunique()\\n    if n is None:\\n        plt.figure(figsize=(count + 1, 5))\\n    else:\\n        plt.figure(figsize=(n + 1, 5))\\n\\n    plt.xticks(rotation=90, fontsize=15)\\n    ax = sns.countplot(\\n        data=data,\\n        x=feature,\\n        palette=\\\"Paired\\\",\\n        order=data[feature].value_counts().index[:n].sort_values(),\\n    )\\n\\n    for p in ax.patches:\\n        if perc == True:\\n            label = \\\"{:.1f}%\\\".format(\\n                100 * p.get_height() / total\\n            )  # percentage of each class of the category\\n        else:\\n            label = p.get_height()  # count of each level of the category\\n\\n        x = p.get_x() + p.get_width() / 2  # width of the plot\\n        y = p.get_height()  # height of the plot\\n\\n        ax.annotate(\\n            label,\\n            (x, y),\\n            ha=\\\"center\\\",\\n            va=\\\"center\\\",\\n            size=12,\\n            xytext=(0, 5),\\n            textcoords=\\\"offset points\\\",\\n        )  # annotate the percentage\\n\\n    plt.show()  # show the plot\";\n",
       "                var nbb_formatted_code = \"# defining function for labeled_barplot for categorical columns\\ndef labeled_barplot(data, feature, perc=False, n=None):\\n    \\\"\\\"\\\"\\n    Barplot with percentage at the top\\n\\n    data: dataframe\\n    feature: dataframe column\\n    perc: whether to display percentages instead of count (default is False)\\n    n: displays the top n category levels (default is None, i.e., display all levels)\\n    \\\"\\\"\\\"\\n\\n    total = len(data[feature])  # length of the column\\n    count = data[feature].nunique()\\n    if n is None:\\n        plt.figure(figsize=(count + 1, 5))\\n    else:\\n        plt.figure(figsize=(n + 1, 5))\\n\\n    plt.xticks(rotation=90, fontsize=15)\\n    ax = sns.countplot(\\n        data=data,\\n        x=feature,\\n        palette=\\\"Paired\\\",\\n        order=data[feature].value_counts().index[:n].sort_values(),\\n    )\\n\\n    for p in ax.patches:\\n        if perc == True:\\n            label = \\\"{:.1f}%\\\".format(\\n                100 * p.get_height() / total\\n            )  # percentage of each class of the category\\n        else:\\n            label = p.get_height()  # count of each level of the category\\n\\n        x = p.get_x() + p.get_width() / 2  # width of the plot\\n        y = p.get_height()  # height of the plot\\n\\n        ax.annotate(\\n            label,\\n            (x, y),\\n            ha=\\\"center\\\",\\n            va=\\\"center\\\",\\n            size=12,\\n            xytext=(0, 5),\\n            textcoords=\\\"offset points\\\",\\n        )  # annotate the percentage\\n\\n    plt.show()  # show the plot\";\n",
       "                var nbb_cells = Jupyter.notebook.get_cells();\n",
       "                for (var i = 0; i < nbb_cells.length; ++i) {\n",
       "                    if (nbb_cells[i].input_prompt_number == nbb_cell_id) {\n",
       "                        if (nbb_cells[i].get_text() == nbb_unformatted_code) {\n",
       "                             nbb_cells[i].set_text(nbb_formatted_code);\n",
       "                        }\n",
       "                        break;\n",
       "                    }\n",
       "                }\n",
       "            }, 500);\n",
       "            "
      ],
      "text/plain": [
       "<IPython.core.display.Javascript object>"
      ]
     },
     "metadata": {},
     "output_type": "display_data"
    }
   ],
   "source": [
    "# defining function for labeled_barplot for categorical columns\n",
    "def labeled_barplot(data, feature, perc=False, n=None):\n",
    "    \"\"\"\n",
    "    Barplot with percentage at the top\n",
    "\n",
    "    data: dataframe\n",
    "    feature: dataframe column\n",
    "    perc: whether to display percentages instead of count (default is False)\n",
    "    n: displays the top n category levels (default is None, i.e., display all levels)\n",
    "    \"\"\"\n",
    "\n",
    "    total = len(data[feature])  # length of the column\n",
    "    count = data[feature].nunique()\n",
    "    if n is None:\n",
    "        plt.figure(figsize=(count + 1, 5))\n",
    "    else:\n",
    "        plt.figure(figsize=(n + 1, 5))\n",
    "\n",
    "    plt.xticks(rotation=90, fontsize=15)\n",
    "    ax = sns.countplot(\n",
    "        data=data,\n",
    "        x=feature,\n",
    "        palette=\"Paired\",\n",
    "        order=data[feature].value_counts().index[:n].sort_values(),\n",
    "    )\n",
    "\n",
    "    for p in ax.patches:\n",
    "        if perc == True:\n",
    "            label = \"{:.1f}%\".format(\n",
    "                100 * p.get_height() / total\n",
    "            )  # percentage of each class of the category\n",
    "        else:\n",
    "            label = p.get_height()  # count of each level of the category\n",
    "\n",
    "        x = p.get_x() + p.get_width() / 2  # width of the plot\n",
    "        y = p.get_height()  # height of the plot\n",
    "\n",
    "        ax.annotate(\n",
    "            label,\n",
    "            (x, y),\n",
    "            ha=\"center\",\n",
    "            va=\"center\",\n",
    "            size=12,\n",
    "            xytext=(0, 5),\n",
    "            textcoords=\"offset points\",\n",
    "        )  # annotate the percentage\n",
    "\n",
    "    plt.show()  # show the plot"
   ]
  },
  {
   "cell_type": "code",
   "execution_count": 74,
   "id": "d56a430c",
   "metadata": {},
   "outputs": [
    {
     "data": {
      "image/png": "[encoded data removed]",
      "text/plain": [
       "<Figure size 864x360 with 1 Axes>"
      ]
     },
     "metadata": {},
     "output_type": "display_data"
    },
    {
     "data": {
      "image/png": "[encoded data removed]",
      "text/plain": [
       "<Figure size 432x360 with 1 Axes>"
      ]
     },
     "metadata": {},
     "output_type": "display_data"
    },
    {
     "data": {
      "image/png": "[encoded data removed]",
      "text/plain": [
       "<Figure size 216x360 with 1 Axes>"
      ]
     },
     "metadata": {},
     "output_type": "display_data"
    },
    {
     "data": {
      "image/png": "[encoded data removed]",
      "text/plain": [
       "<Figure size 360x360 with 1 Axes>"
      ]
     },
     "metadata": {},
     "output_type": "display_data"
    },
    {
     "data": {
      "application/javascript": [
       "\n",
       "            setTimeout(function() {\n",
       "                var nbb_cell_id = 74;\n",
       "                var nbb_unformatted_code = \"# creating list for categorical columns\\ncat_col = [\\\"Location\\\", \\\"Fuel_Type\\\", \\\"Transmission\\\", \\\"Owner_Type\\\"]\\n\\n# Ploting barplot for all categorical columns\\nfor col in cat_col:\\n    labeled_barplot(df, col, perc=True)\";\n",
       "                var nbb_formatted_code = \"# creating list for categorical columns\\ncat_col = [\\\"Location\\\", \\\"Fuel_Type\\\", \\\"Transmission\\\", \\\"Owner_Type\\\"]\\n\\n# Ploting barplot for all categorical columns\\nfor col in cat_col:\\n    labeled_barplot(df, col, perc=True)\";\n",
       "                var nbb_cells = Jupyter.notebook.get_cells();\n",
       "                for (var i = 0; i < nbb_cells.length; ++i) {\n",
       "                    if (nbb_cells[i].input_prompt_number == nbb_cell_id) {\n",
       "                        if (nbb_cells[i].get_text() == nbb_unformatted_code) {\n",
       "                             nbb_cells[i].set_text(nbb_formatted_code);\n",
       "                        }\n",
       "                        break;\n",
       "                    }\n",
       "                }\n",
       "            }, 500);\n",
       "            "
      ],
      "text/plain": [
       "<IPython.core.display.Javascript object>"
      ]
     },
     "metadata": {},
     "output_type": "display_data"
    }
   ],
   "source": [
    "# creating list for categorical columns\n",
    "cat_col = [\"Location\", \"Fuel_Type\", \"Transmission\", \"Owner_Type\"]\n",
    "\n",
    "# Ploting barplot for all categorical columns\n",
    "for col in cat_col:\n",
    "    labeled_barplot(df, col, perc=True)"
   ]
  },
  {
   "cell_type": "markdown",
   "id": "817ddacd",
   "metadata": {},
   "source": [
    "**Observations on categorical columns**\n",
    "* Location\n",
    "  * Mumbai and Hyderabad are the top cities where more cars sold/purchased whereas ahmedabad city where sold/purchased less.\n",
    "* Fuel_Type\n",
    "  * Most of the cars which are sold/purchased uses fuel type 'Diesel' and 'Petrol'.\n",
    "  * Petrol cars are sold less than Diesel cars.\n",
    "* Transmission\n",
    "  * Most of the cars sold/purchased having Manual transmission than Automatic transmission. \n",
    "  * 71% of the cars have manual transmission whereas only 28% of the cars have automatic transmission.\n",
    "* Owner_Type\n",
    "  * More than 80% of the cars sold/purchase has 'First' Owner type."
   ]
  },
  {
   "cell_type": "markdown",
   "id": "b0346fe0",
   "metadata": {},
   "source": [
    "### Bivariate Analysis"
   ]
  },
  {
   "cell_type": "markdown",
   "id": "f92b4284",
   "metadata": {},
   "source": [
    "**Correlation Matrix of numerical data**"
   ]
  },
  {
   "cell_type": "code",
   "execution_count": 75,
   "id": "35051355",
   "metadata": {},
   "outputs": [
    {
     "data": {
      "image/png": "[encoded data removed]",
      "text/plain": [
       "<Figure size 720x360 with 2 Axes>"
      ]
     },
     "metadata": {},
     "output_type": "display_data"
    },
    {
     "data": {
      "application/javascript": [
       "\n",
       "            setTimeout(function() {\n",
       "                var nbb_cell_id = 75;\n",
       "                var nbb_unformatted_code = \"# Heat map of numerical data\\nplt.figure(figsize=(10, 5))\\nsns.heatmap(df.corr(), annot=True, cmap=\\\"Spectral\\\", vmin=-1, vmax=1)\\nplt.title(\\\"Correlation matrix of data\\\")\\nplt.show()\";\n",
       "                var nbb_formatted_code = \"# Heat map of numerical data\\nplt.figure(figsize=(10, 5))\\nsns.heatmap(df.corr(), annot=True, cmap=\\\"Spectral\\\", vmin=-1, vmax=1)\\nplt.title(\\\"Correlation matrix of data\\\")\\nplt.show()\";\n",
       "                var nbb_cells = Jupyter.notebook.get_cells();\n",
       "                for (var i = 0; i < nbb_cells.length; ++i) {\n",
       "                    if (nbb_cells[i].input_prompt_number == nbb_cell_id) {\n",
       "                        if (nbb_cells[i].get_text() == nbb_unformatted_code) {\n",
       "                             nbb_cells[i].set_text(nbb_formatted_code);\n",
       "                        }\n",
       "                        break;\n",
       "                    }\n",
       "                }\n",
       "            }, 500);\n",
       "            "
      ],
      "text/plain": [
       "<IPython.core.display.Javascript object>"
      ]
     },
     "metadata": {},
     "output_type": "display_data"
    }
   ],
   "source": [
    "# Heat map of numerical data\n",
    "plt.figure(figsize=(10, 5))\n",
    "sns.heatmap(df.corr(), annot=True, cmap=\"Spectral\", vmin=-1, vmax=1)\n",
    "plt.title(\"Correlation matrix of data\")\n",
    "plt.show()"
   ]
  },
  {
   "cell_type": "markdown",
   "id": "561e8eea",
   "metadata": {},
   "source": [
    "**Observations**\n",
    "* Engine and Power are highly correlated to Price.\n",
    "* Engine and Power show considerable negative correlation with Mileage.\n",
    "* Engine shows high correlation with Power."
   ]
  },
  {
   "cell_type": "code",
   "execution_count": 76,
   "id": "d3190b89",
   "metadata": {},
   "outputs": [
    {
     "data": {
      "text/plain": [
       "<seaborn.axisgrid.PairGrid at 0x1512715fd90>"
      ]
     },
     "execution_count": 76,
     "metadata": {},
     "output_type": "execute_result"
    },
    {
     "data": {
      "image/png": "[encoded data removed]",
      "text/plain": [
       "<Figure size 597.975x540 with 12 Axes>"
      ]
     },
     "metadata": {},
     "output_type": "display_data"
    },
    {
     "data": {
      "application/javascript": [
       "\n",
       "            setTimeout(function() {\n",
       "                var nbb_cell_id = 76;\n",
       "                var nbb_unformatted_code = \"sns.pairplot(data=df, vars=[\\\"Power\\\", \\\"Engine\\\", \\\"Mileage\\\"], hue=\\\"Price\\\")\";\n",
       "                var nbb_formatted_code = \"sns.pairplot(data=df, vars=[\\\"Power\\\", \\\"Engine\\\", \\\"Mileage\\\"], hue=\\\"Price\\\")\";\n",
       "                var nbb_cells = Jupyter.notebook.get_cells();\n",
       "                for (var i = 0; i < nbb_cells.length; ++i) {\n",
       "                    if (nbb_cells[i].input_prompt_number == nbb_cell_id) {\n",
       "                        if (nbb_cells[i].get_text() == nbb_unformatted_code) {\n",
       "                             nbb_cells[i].set_text(nbb_formatted_code);\n",
       "                        }\n",
       "                        break;\n",
       "                    }\n",
       "                }\n",
       "            }, 500);\n",
       "            "
      ],
      "text/plain": [
       "<IPython.core.display.Javascript object>"
      ]
     },
     "metadata": {},
     "output_type": "display_data"
    }
   ],
   "source": [
    "sns.pairplot(data=df, vars=[\"Power\", \"Engine\", \"Mileage\"], hue=\"Price\")"
   ]
  },
  {
   "cell_type": "markdown",
   "id": "69e595d6",
   "metadata": {},
   "source": [
    "**Observation**\n",
    "* Price increases when Power and Engine increase.\n",
    "* Increase in Power and Engine reduces the Mileage with increasing Price.\n",
    "* Power, Engine and Mileage columns seems to be important for predicting Price."
   ]
  },
  {
   "cell_type": "markdown",
   "id": "7d6eace2",
   "metadata": {},
   "source": [
    "**Bivariate analysis for Year, Kilometers_Driven and Seats with Price**"
   ]
  },
  {
   "cell_type": "markdown",
   "id": "ac7a6144",
   "metadata": {},
   "source": [
    "**Year with Price column**"
   ]
  },
  {
   "cell_type": "code",
   "execution_count": 77,
   "id": "9105a467",
   "metadata": {},
   "outputs": [
    {
     "data": {
      "text/plain": [
       "<seaborn.axisgrid.FacetGrid at 0x1512ca96d00>"
      ]
     },
     "execution_count": 77,
     "metadata": {},
     "output_type": "execute_result"
    },
    {
     "data": {
      "image/png": "[encoded data removed]",
      "text/plain": [
       "<Figure size 360x360 with 1 Axes>"
      ]
     },
     "metadata": {},
     "output_type": "display_data"
    },
    {
     "data": {
      "application/javascript": [
       "\n",
       "            setTimeout(function() {\n",
       "                var nbb_cell_id = 77;\n",
       "                var nbb_unformatted_code = \"sns.lmplot(data=df, x=\\\"Year\\\", y=\\\"Price\\\", ci=False)\";\n",
       "                var nbb_formatted_code = \"sns.lmplot(data=df, x=\\\"Year\\\", y=\\\"Price\\\", ci=False)\";\n",
       "                var nbb_cells = Jupyter.notebook.get_cells();\n",
       "                for (var i = 0; i < nbb_cells.length; ++i) {\n",
       "                    if (nbb_cells[i].input_prompt_number == nbb_cell_id) {\n",
       "                        if (nbb_cells[i].get_text() == nbb_unformatted_code) {\n",
       "                             nbb_cells[i].set_text(nbb_formatted_code);\n",
       "                        }\n",
       "                        break;\n",
       "                    }\n",
       "                }\n",
       "            }, 500);\n",
       "            "
      ],
      "text/plain": [
       "<IPython.core.display.Javascript object>"
      ]
     },
     "metadata": {},
     "output_type": "display_data"
    }
   ],
   "source": [
    "sns.lmplot(data=df, x=\"Year\", y=\"Price\", ci=False)"
   ]
  },
  {
   "cell_type": "markdown",
   "id": "3dccc84e",
   "metadata": {},
   "source": [
    "**Observations**\n",
    "* Price of the car increases with year. Newer cars have higher price.\n",
    "* Most of the cars sold are manufactured in the year between 2011 and 2019."
   ]
  },
  {
   "cell_type": "markdown",
   "id": "3d577b78",
   "metadata": {},
   "source": [
    "**Kilometers_Driven with Price column**"
   ]
  },
  {
   "cell_type": "code",
   "execution_count": 78,
   "id": "ed002b75",
   "metadata": {},
   "outputs": [
    {
     "data": {
      "text/plain": [
       "<seaborn.axisgrid.FacetGrid at 0x1512c9f7f70>"
      ]
     },
     "execution_count": 78,
     "metadata": {},
     "output_type": "execute_result"
    },
    {
     "data": {
      "image/png": "[encoded data removed]",
      "text/plain": [
       "<Figure size 360x360 with 1 Axes>"
      ]
     },
     "metadata": {},
     "output_type": "display_data"
    },
    {
     "data": {
      "application/javascript": [
       "\n",
       "            setTimeout(function() {\n",
       "                var nbb_cell_id = 78;\n",
       "                var nbb_unformatted_code = \"sns.lmplot(data=df, x=\\\"Kilometers_Driven\\\", y=\\\"Price\\\", ci=False)\";\n",
       "                var nbb_formatted_code = \"sns.lmplot(data=df, x=\\\"Kilometers_Driven\\\", y=\\\"Price\\\", ci=False)\";\n",
       "                var nbb_cells = Jupyter.notebook.get_cells();\n",
       "                for (var i = 0; i < nbb_cells.length; ++i) {\n",
       "                    if (nbb_cells[i].input_prompt_number == nbb_cell_id) {\n",
       "                        if (nbb_cells[i].get_text() == nbb_unformatted_code) {\n",
       "                             nbb_cells[i].set_text(nbb_formatted_code);\n",
       "                        }\n",
       "                        break;\n",
       "                    }\n",
       "                }\n",
       "            }, 500);\n",
       "            "
      ],
      "text/plain": [
       "<IPython.core.display.Javascript object>"
      ]
     },
     "metadata": {},
     "output_type": "display_data"
    }
   ],
   "source": [
    "sns.lmplot(data=df, x=\"Kilometers_Driven\", y=\"Price\", ci=False)"
   ]
  },
  {
   "cell_type": "markdown",
   "id": "dbc3497f",
   "metadata": {},
   "source": [
    "**Observations**\n",
    "* Price decreases with increase in Kilometers driven.\n",
    "* It has extreme value as outlier."
   ]
  },
  {
   "cell_type": "markdown",
   "id": "698fcf50",
   "metadata": {},
   "source": [
    "**Seats with Price column**"
   ]
  },
  {
   "cell_type": "code",
   "execution_count": 79,
   "id": "6af62e22",
   "metadata": {},
   "outputs": [
    {
     "data": {
      "text/plain": [
       "<seaborn.axisgrid.FacetGrid at 0x15127356df0>"
      ]
     },
     "execution_count": 79,
     "metadata": {},
     "output_type": "execute_result"
    },
    {
     "data": {
      "image/png": "[encoded data removed]",
      "text/plain": [
       "<Figure size 360x360 with 1 Axes>"
      ]
     },
     "metadata": {},
     "output_type": "display_data"
    },
    {
     "data": {
      "application/javascript": [
       "\n",
       "            setTimeout(function() {\n",
       "                var nbb_cell_id = 79;\n",
       "                var nbb_unformatted_code = \"sns.lmplot(data=df, x=\\\"Seats\\\", y=\\\"Price\\\", ci=False)\";\n",
       "                var nbb_formatted_code = \"sns.lmplot(data=df, x=\\\"Seats\\\", y=\\\"Price\\\", ci=False)\";\n",
       "                var nbb_cells = Jupyter.notebook.get_cells();\n",
       "                for (var i = 0; i < nbb_cells.length; ++i) {\n",
       "                    if (nbb_cells[i].input_prompt_number == nbb_cell_id) {\n",
       "                        if (nbb_cells[i].get_text() == nbb_unformatted_code) {\n",
       "                             nbb_cells[i].set_text(nbb_formatted_code);\n",
       "                        }\n",
       "                        break;\n",
       "                    }\n",
       "                }\n",
       "            }, 500);\n",
       "            "
      ],
      "text/plain": [
       "<IPython.core.display.Javascript object>"
      ]
     },
     "metadata": {},
     "output_type": "display_data"
    }
   ],
   "source": [
    "sns.lmplot(data=df, x=\"Seats\", y=\"Price\", ci=False)"
   ]
  },
  {
   "cell_type": "markdown",
   "id": "88d3abf8",
   "metadata": {},
   "source": [
    "**Observations**\n",
    "* Price and Seats column shows no correlation.\n",
    "* Most of the cars with 5 seats, cars with more than 7 seats priced less comparitively.\n",
    "* Cars with 2 seats priced high.\n",
    "* Some cars with 5 seats are priced very high."
   ]
  },
  {
   "cell_type": "markdown",
   "id": "b25439c2",
   "metadata": {},
   "source": [
    "**Categorical columns with Price**"
   ]
  },
  {
   "cell_type": "code",
   "execution_count": 80,
   "id": "6c89b504",
   "metadata": {},
   "outputs": [
    {
     "data": {
      "image/png": "[encoded data removed]",
      "text/plain": [
       "<Figure size 720x360 with 1 Axes>"
      ]
     },
     "metadata": {},
     "output_type": "display_data"
    },
    {
     "data": {
      "image/png": "[encoded data removed]",
      "text/plain": [
       "<Figure size 720x360 with 1 Axes>"
      ]
     },
     "metadata": {},
     "output_type": "display_data"
    },
    {
     "data": {
      "image/png": "[encoded data removed]",
      "text/plain": [
       "<Figure size 720x360 with 1 Axes>"
      ]
     },
     "metadata": {},
     "output_type": "display_data"
    },
    {
     "data": {
      "image/png": "[encoded data removed]",
      "text/plain": [
       "<Figure size 720x360 with 1 Axes>"
      ]
     },
     "metadata": {},
     "output_type": "display_data"
    },
    {
     "data": {
      "application/javascript": [
       "\n",
       "            setTimeout(function() {\n",
       "                var nbb_cell_id = 80;\n",
       "                var nbb_unformatted_code = \"# Plotting boxplot all categorical column with Price\\nfor col in cat_col:\\n    plt.figure(figsize=(10, 5))\\n    sns.boxplot(data=df, x=col, y=\\\"Price\\\")\\n    plt.xticks(rotation=45)\\n    plt.show()\";\n",
       "                var nbb_formatted_code = \"# Plotting boxplot all categorical column with Price\\nfor col in cat_col:\\n    plt.figure(figsize=(10, 5))\\n    sns.boxplot(data=df, x=col, y=\\\"Price\\\")\\n    plt.xticks(rotation=45)\\n    plt.show()\";\n",
       "                var nbb_cells = Jupyter.notebook.get_cells();\n",
       "                for (var i = 0; i < nbb_cells.length; ++i) {\n",
       "                    if (nbb_cells[i].input_prompt_number == nbb_cell_id) {\n",
       "                        if (nbb_cells[i].get_text() == nbb_unformatted_code) {\n",
       "                             nbb_cells[i].set_text(nbb_formatted_code);\n",
       "                        }\n",
       "                        break;\n",
       "                    }\n",
       "                }\n",
       "            }, 500);\n",
       "            "
      ],
      "text/plain": [
       "<IPython.core.display.Javascript object>"
      ]
     },
     "metadata": {},
     "output_type": "display_data"
    }
   ],
   "source": [
    "# Plotting boxplot all categorical column with Price\n",
    "for col in cat_col:\n",
    "    plt.figure(figsize=(10, 5))\n",
    "    sns.boxplot(data=df, x=col, y=\"Price\")\n",
    "    plt.xticks(rotation=45)\n",
    "    plt.show()"
   ]
  },
  {
   "cell_type": "markdown",
   "id": "8b8689f5",
   "metadata": {},
   "source": [
    "**Observations on categorical columns with Price**\n",
    "* Location\n",
    "  * Cars sold in Coimbatore and Bangalore are expensive.\n",
    "  * Few cars sold in Hyderabad, kochi and Delhi are highly expensive.\n",
    "* Fuel_Type\n",
    "  * Diesel type cars are slightly expensive than petrol type.\n",
    "  * CNG and LPG type cars are sold at affordable price.\n",
    "* Transmission\n",
    "  * Automatic cars are priced high with few extremely priced cars.\n",
    "  * Cars with manual transmission priced less.\n",
    "* Owner_Type\n",
    "  * Cars with owner type first and second priced high."
   ]
  },
  {
   "cell_type": "markdown",
   "id": "1b05131a",
   "metadata": {},
   "source": [
    "## Missing Value Treatment\n"
   ]
  },
  {
   "cell_type": "code",
   "execution_count": 81,
   "id": "ad937d35",
   "metadata": {},
   "outputs": [
    {
     "data": {
      "text/plain": [
       "Power                143\n",
       "Seats                 42\n",
       "Engine                36\n",
       "Mileage                2\n",
       "Location               0\n",
       "Year                   0\n",
       "Kilometers_Driven      0\n",
       "Fuel_Type              0\n",
       "Transmission           0\n",
       "Owner_Type             0\n",
       "Price                  0\n",
       "dtype: int64"
      ]
     },
     "execution_count": 81,
     "metadata": {},
     "output_type": "execute_result"
    },
    {
     "data": {
      "application/javascript": [
       "\n",
       "            setTimeout(function() {\n",
       "                var nbb_cell_id = 81;\n",
       "                var nbb_unformatted_code = \"# Getting actual number of missing values per column\\ndf.isnull().sum().sort_values(ascending=False)\";\n",
       "                var nbb_formatted_code = \"# Getting actual number of missing values per column\\ndf.isnull().sum().sort_values(ascending=False)\";\n",
       "                var nbb_cells = Jupyter.notebook.get_cells();\n",
       "                for (var i = 0; i < nbb_cells.length; ++i) {\n",
       "                    if (nbb_cells[i].input_prompt_number == nbb_cell_id) {\n",
       "                        if (nbb_cells[i].get_text() == nbb_unformatted_code) {\n",
       "                             nbb_cells[i].set_text(nbb_formatted_code);\n",
       "                        }\n",
       "                        break;\n",
       "                    }\n",
       "                }\n",
       "            }, 500);\n",
       "            "
      ],
      "text/plain": [
       "<IPython.core.display.Javascript object>"
      ]
     },
     "metadata": {},
     "output_type": "display_data"
    }
   ],
   "source": [
    "# Getting actual number of missing values per column\n",
    "df.isnull().sum().sort_values(ascending=False)"
   ]
  },
  {
   "cell_type": "markdown",
   "id": "e1ffc0e2",
   "metadata": {},
   "source": [
    "**Treating missing values in Mileage column**"
   ]
  },
  {
   "cell_type": "code",
   "execution_count": 82,
   "id": "0afb1a74",
   "metadata": {},
   "outputs": [
    {
     "name": "stdout",
     "output_type": "stream",
     "text": [
      "2\n"
     ]
    },
    {
     "data": {
      "text/html": [
       "<div>\n",
       "<style scoped>\n",
       "    .dataframe tbody tr th:only-of-type {\n",
       "        vertical-align: middle;\n",
       "    }\n",
       "\n",
       "    .dataframe tbody tr th {\n",
       "        vertical-align: top;\n",
       "    }\n",
       "\n",
       "    .dataframe thead th {\n",
       "        text-align: right;\n",
       "    }\n",
       "</style>\n",
       "<table border=\"1\" class=\"dataframe\">\n",
       "  <thead>\n",
       "    <tr style=\"text-align: right;\">\n",
       "      <th></th>\n",
       "      <th>Location</th>\n",
       "      <th>Year</th>\n",
       "      <th>Kilometers_Driven</th>\n",
       "      <th>Fuel_Type</th>\n",
       "      <th>Transmission</th>\n",
       "      <th>Owner_Type</th>\n",
       "      <th>Mileage</th>\n",
       "      <th>Engine</th>\n",
       "      <th>Power</th>\n",
       "      <th>Seats</th>\n",
       "      <th>Price</th>\n",
       "    </tr>\n",
       "  </thead>\n",
       "  <tbody>\n",
       "    <tr>\n",
       "      <th>4446</th>\n",
       "      <td>Chennai</td>\n",
       "      <td>2016</td>\n",
       "      <td>50000</td>\n",
       "      <td>Electric</td>\n",
       "      <td>Automatic</td>\n",
       "      <td>First</td>\n",
       "      <td>NaN</td>\n",
       "      <td>72.0</td>\n",
       "      <td>41.0</td>\n",
       "      <td>5.0</td>\n",
       "      <td>13.00</td>\n",
       "    </tr>\n",
       "    <tr>\n",
       "      <th>4904</th>\n",
       "      <td>Mumbai</td>\n",
       "      <td>2011</td>\n",
       "      <td>44000</td>\n",
       "      <td>Electric</td>\n",
       "      <td>Automatic</td>\n",
       "      <td>First</td>\n",
       "      <td>NaN</td>\n",
       "      <td>1798.0</td>\n",
       "      <td>73.0</td>\n",
       "      <td>5.0</td>\n",
       "      <td>12.75</td>\n",
       "    </tr>\n",
       "  </tbody>\n",
       "</table>\n",
       "</div>"
      ],
      "text/plain": [
       "     Location  Year  Kilometers_Driven Fuel_Type Transmission Owner_Type  \\\n",
       "4446  Chennai  2016              50000  Electric    Automatic      First   \n",
       "4904   Mumbai  2011              44000  Electric    Automatic      First   \n",
       "\n",
       "      Mileage  Engine  Power  Seats  Price  \n",
       "4446      NaN    72.0   41.0    5.0  13.00  \n",
       "4904      NaN  1798.0   73.0    5.0  12.75  "
      ]
     },
     "execution_count": 82,
     "metadata": {},
     "output_type": "execute_result"
    },
    {
     "data": {
      "application/javascript": [
       "\n",
       "            setTimeout(function() {\n",
       "                var nbb_cell_id = 82;\n",
       "                var nbb_unformatted_code = \"# entries with missing mileage\\nprint(df.Mileage.isnull().sum())\\ndf[df.Mileage.isnull()]\";\n",
       "                var nbb_formatted_code = \"# entries with missing mileage\\nprint(df.Mileage.isnull().sum())\\ndf[df.Mileage.isnull()]\";\n",
       "                var nbb_cells = Jupyter.notebook.get_cells();\n",
       "                for (var i = 0; i < nbb_cells.length; ++i) {\n",
       "                    if (nbb_cells[i].input_prompt_number == nbb_cell_id) {\n",
       "                        if (nbb_cells[i].get_text() == nbb_unformatted_code) {\n",
       "                             nbb_cells[i].set_text(nbb_formatted_code);\n",
       "                        }\n",
       "                        break;\n",
       "                    }\n",
       "                }\n",
       "            }, 500);\n",
       "            "
      ],
      "text/plain": [
       "<IPython.core.display.Javascript object>"
      ]
     },
     "metadata": {},
     "output_type": "display_data"
    }
   ],
   "source": [
    "# entries with missing mileage\n",
    "print(df.Mileage.isnull().sum())\n",
    "df[df.Mileage.isnull()]"
   ]
  },
  {
   "cell_type": "markdown",
   "id": "d5ae182e",
   "metadata": {},
   "source": [
    "**Observations**\n",
    "* There are 2 rows with null values in Mileage column.\n",
    "* Fuel_Type for both these columns is \"Electric\"."
   ]
  },
  {
   "cell_type": "code",
   "execution_count": 83,
   "id": "5fdf623f",
   "metadata": {},
   "outputs": [
    {
     "data": {
      "text/html": [
       "<div>\n",
       "<style scoped>\n",
       "    .dataframe tbody tr th:only-of-type {\n",
       "        vertical-align: middle;\n",
       "    }\n",
       "\n",
       "    .dataframe tbody tr th {\n",
       "        vertical-align: top;\n",
       "    }\n",
       "\n",
       "    .dataframe thead th {\n",
       "        text-align: right;\n",
       "    }\n",
       "</style>\n",
       "<table border=\"1\" class=\"dataframe\">\n",
       "  <thead>\n",
       "    <tr style=\"text-align: right;\">\n",
       "      <th></th>\n",
       "      <th>Location</th>\n",
       "      <th>Year</th>\n",
       "      <th>Kilometers_Driven</th>\n",
       "      <th>Fuel_Type</th>\n",
       "      <th>Transmission</th>\n",
       "      <th>Owner_Type</th>\n",
       "      <th>Mileage</th>\n",
       "      <th>Engine</th>\n",
       "      <th>Power</th>\n",
       "      <th>Seats</th>\n",
       "      <th>Price</th>\n",
       "    </tr>\n",
       "  </thead>\n",
       "  <tbody>\n",
       "    <tr>\n",
       "      <th>4446</th>\n",
       "      <td>Chennai</td>\n",
       "      <td>2016</td>\n",
       "      <td>50000</td>\n",
       "      <td>Electric</td>\n",
       "      <td>Automatic</td>\n",
       "      <td>First</td>\n",
       "      <td>NaN</td>\n",
       "      <td>72.0</td>\n",
       "      <td>41.0</td>\n",
       "      <td>5.0</td>\n",
       "      <td>13.00</td>\n",
       "    </tr>\n",
       "    <tr>\n",
       "      <th>4904</th>\n",
       "      <td>Mumbai</td>\n",
       "      <td>2011</td>\n",
       "      <td>44000</td>\n",
       "      <td>Electric</td>\n",
       "      <td>Automatic</td>\n",
       "      <td>First</td>\n",
       "      <td>NaN</td>\n",
       "      <td>1798.0</td>\n",
       "      <td>73.0</td>\n",
       "      <td>5.0</td>\n",
       "      <td>12.75</td>\n",
       "    </tr>\n",
       "  </tbody>\n",
       "</table>\n",
       "</div>"
      ],
      "text/plain": [
       "     Location  Year  Kilometers_Driven Fuel_Type Transmission Owner_Type  \\\n",
       "4446  Chennai  2016              50000  Electric    Automatic      First   \n",
       "4904   Mumbai  2011              44000  Electric    Automatic      First   \n",
       "\n",
       "      Mileage  Engine  Power  Seats  Price  \n",
       "4446      NaN    72.0   41.0    5.0  13.00  \n",
       "4904      NaN  1798.0   73.0    5.0  12.75  "
      ]
     },
     "execution_count": 83,
     "metadata": {},
     "output_type": "execute_result"
    },
    {
     "data": {
      "application/javascript": [
       "\n",
       "            setTimeout(function() {\n",
       "                var nbb_cell_id = 83;\n",
       "                var nbb_unformatted_code = \"# fetching all records for Fuel_Type = 'Electric'\\ndf[df.Fuel_Type == \\\"Electric\\\"]\";\n",
       "                var nbb_formatted_code = \"# fetching all records for Fuel_Type = 'Electric'\\ndf[df.Fuel_Type == \\\"Electric\\\"]\";\n",
       "                var nbb_cells = Jupyter.notebook.get_cells();\n",
       "                for (var i = 0; i < nbb_cells.length; ++i) {\n",
       "                    if (nbb_cells[i].input_prompt_number == nbb_cell_id) {\n",
       "                        if (nbb_cells[i].get_text() == nbb_unformatted_code) {\n",
       "                             nbb_cells[i].set_text(nbb_formatted_code);\n",
       "                        }\n",
       "                        break;\n",
       "                    }\n",
       "                }\n",
       "            }, 500);\n",
       "            "
      ],
      "text/plain": [
       "<IPython.core.display.Javascript object>"
      ]
     },
     "metadata": {},
     "output_type": "display_data"
    }
   ],
   "source": [
    "# fetching all records for Fuel_Type = 'Electric'\n",
    "df[df.Fuel_Type == \"Electric\"]"
   ]
  },
  {
   "cell_type": "markdown",
   "id": "12d42124",
   "metadata": {},
   "source": [
    "**Observations**\n",
    "* Same records are returned, that means there are only two records with Fuel_Type = 'Electric' and Mielage values are missing for both the records.\n",
    "* Electic Vehicle mileage cannot be calculated per litre / kg of fuel.\n",
    "* We can drop these rows as the values are difficult to impute."
   ]
  },
  {
   "cell_type": "code",
   "execution_count": 84,
   "id": "3f90ab58",
   "metadata": {},
   "outputs": [
    {
     "data": {
      "application/javascript": [
       "\n",
       "            setTimeout(function() {\n",
       "                var nbb_cell_id = 84;\n",
       "                var nbb_unformatted_code = \"# droping rows for null values in Mileage column\\ndf.dropna(subset=[\\\"Mileage\\\"], inplace=True)\";\n",
       "                var nbb_formatted_code = \"# droping rows for null values in Mileage column\\ndf.dropna(subset=[\\\"Mileage\\\"], inplace=True)\";\n",
       "                var nbb_cells = Jupyter.notebook.get_cells();\n",
       "                for (var i = 0; i < nbb_cells.length; ++i) {\n",
       "                    if (nbb_cells[i].input_prompt_number == nbb_cell_id) {\n",
       "                        if (nbb_cells[i].get_text() == nbb_unformatted_code) {\n",
       "                             nbb_cells[i].set_text(nbb_formatted_code);\n",
       "                        }\n",
       "                        break;\n",
       "                    }\n",
       "                }\n",
       "            }, 500);\n",
       "            "
      ],
      "text/plain": [
       "<IPython.core.display.Javascript object>"
      ]
     },
     "metadata": {},
     "output_type": "display_data"
    }
   ],
   "source": [
    "# droping rows for null values in Mileage column\n",
    "df.dropna(subset=[\"Mileage\"], inplace=True)"
   ]
  },
  {
   "cell_type": "code",
   "execution_count": 85,
   "id": "60a4fd71",
   "metadata": {},
   "outputs": [
    {
     "name": "stdout",
     "output_type": "stream",
     "text": [
      "0\n"
     ]
    },
    {
     "data": {
      "text/html": [
       "<div>\n",
       "<style scoped>\n",
       "    .dataframe tbody tr th:only-of-type {\n",
       "        vertical-align: middle;\n",
       "    }\n",
       "\n",
       "    .dataframe tbody tr th {\n",
       "        vertical-align: top;\n",
       "    }\n",
       "\n",
       "    .dataframe thead th {\n",
       "        text-align: right;\n",
       "    }\n",
       "</style>\n",
       "<table border=\"1\" class=\"dataframe\">\n",
       "  <thead>\n",
       "    <tr style=\"text-align: right;\">\n",
       "      <th></th>\n",
       "      <th>Location</th>\n",
       "      <th>Year</th>\n",
       "      <th>Kilometers_Driven</th>\n",
       "      <th>Fuel_Type</th>\n",
       "      <th>Transmission</th>\n",
       "      <th>Owner_Type</th>\n",
       "      <th>Mileage</th>\n",
       "      <th>Engine</th>\n",
       "      <th>Power</th>\n",
       "      <th>Seats</th>\n",
       "      <th>Price</th>\n",
       "    </tr>\n",
       "  </thead>\n",
       "  <tbody>\n",
       "  </tbody>\n",
       "</table>\n",
       "</div>"
      ],
      "text/plain": [
       "Empty DataFrame\n",
       "Columns: [Location, Year, Kilometers_Driven, Fuel_Type, Transmission, Owner_Type, Mileage, Engine, Power, Seats, Price]\n",
       "Index: []"
      ]
     },
     "execution_count": 85,
     "metadata": {},
     "output_type": "execute_result"
    },
    {
     "data": {
      "application/javascript": [
       "\n",
       "            setTimeout(function() {\n",
       "                var nbb_cell_id = 85;\n",
       "                var nbb_unformatted_code = \"# checking for null values now\\nprint(df.Mileage.isnull().sum())\\ndf[df.Mileage.isnull()]\";\n",
       "                var nbb_formatted_code = \"# checking for null values now\\nprint(df.Mileage.isnull().sum())\\ndf[df.Mileage.isnull()]\";\n",
       "                var nbb_cells = Jupyter.notebook.get_cells();\n",
       "                for (var i = 0; i < nbb_cells.length; ++i) {\n",
       "                    if (nbb_cells[i].input_prompt_number == nbb_cell_id) {\n",
       "                        if (nbb_cells[i].get_text() == nbb_unformatted_code) {\n",
       "                             nbb_cells[i].set_text(nbb_formatted_code);\n",
       "                        }\n",
       "                        break;\n",
       "                    }\n",
       "                }\n",
       "            }, 500);\n",
       "            "
      ],
      "text/plain": [
       "<IPython.core.display.Javascript object>"
      ]
     },
     "metadata": {},
     "output_type": "display_data"
    }
   ],
   "source": [
    "# checking for null values now\n",
    "print(df.Mileage.isnull().sum())\n",
    "df[df.Mileage.isnull()]"
   ]
  },
  {
   "cell_type": "markdown",
   "id": "d0035462",
   "metadata": {},
   "source": [
    "* No missing values in Mileage column\n",
    "* Mileage column is clean."
   ]
  },
  {
   "cell_type": "code",
   "execution_count": 86,
   "id": "97753d93",
   "metadata": {},
   "outputs": [
    {
     "data": {
      "text/plain": [
       "Power                143\n",
       "Seats                 42\n",
       "Engine                36\n",
       "Location               0\n",
       "Year                   0\n",
       "Kilometers_Driven      0\n",
       "Fuel_Type              0\n",
       "Transmission           0\n",
       "Owner_Type             0\n",
       "Mileage                0\n",
       "Price                  0\n",
       "dtype: int64"
      ]
     },
     "execution_count": 86,
     "metadata": {},
     "output_type": "execute_result"
    },
    {
     "data": {
      "application/javascript": [
       "\n",
       "            setTimeout(function() {\n",
       "                var nbb_cell_id = 86;\n",
       "                var nbb_unformatted_code = \"# Getting actual number of missing values per column\\ndf.isnull().sum().sort_values(ascending=False)\";\n",
       "                var nbb_formatted_code = \"# Getting actual number of missing values per column\\ndf.isnull().sum().sort_values(ascending=False)\";\n",
       "                var nbb_cells = Jupyter.notebook.get_cells();\n",
       "                for (var i = 0; i < nbb_cells.length; ++i) {\n",
       "                    if (nbb_cells[i].input_prompt_number == nbb_cell_id) {\n",
       "                        if (nbb_cells[i].get_text() == nbb_unformatted_code) {\n",
       "                             nbb_cells[i].set_text(nbb_formatted_code);\n",
       "                        }\n",
       "                        break;\n",
       "                    }\n",
       "                }\n",
       "            }, 500);\n",
       "            "
      ],
      "text/plain": [
       "<IPython.core.display.Javascript object>"
      ]
     },
     "metadata": {},
     "output_type": "display_data"
    }
   ],
   "source": [
    "# Getting actual number of missing values per column\n",
    "df.isnull().sum().sort_values(ascending=False)"
   ]
  },
  {
   "cell_type": "markdown",
   "id": "c75c3889",
   "metadata": {},
   "source": [
    "**Imputing missing values for Power, Seats and Engine columns**\n",
    "* For a skewed numerical variable, the median of the variable can be used to impute missing values."
   ]
  },
  {
   "cell_type": "code",
   "execution_count": 87,
   "id": "6277a171",
   "metadata": {},
   "outputs": [
    {
     "name": "stdout",
     "output_type": "stream",
     "text": [
      "Power Missing values before imputing is  143\n",
      "Power Missing values after imputing is  0\n",
      "**************************************************\n",
      "Seats Missing values before imputing is  42\n",
      "Seats Missing values after imputing is  0\n",
      "**************************************************\n",
      "Engine Missing values before imputing is  36\n",
      "Engine Missing values after imputing is  0\n",
      "**************************************************\n"
     ]
    },
    {
     "data": {
      "application/javascript": [
       "\n",
       "            setTimeout(function() {\n",
       "                var nbb_cell_id = 87;\n",
       "                var nbb_unformatted_code = \"# creating list for imputing null values\\nnull_col = [\\\"Power\\\", \\\"Seats\\\", \\\"Engine\\\"]\\n\\n# Imputing missing values using median of the variable\\nfor col in null_col:\\n    print(col, \\\"Missing values before imputing is \\\", df[col].isnull().sum())\\n    df[col].fillna(df[col].median(), inplace=True)  # median imputation\\n    print(col, \\\"Missing values after imputing is \\\", df[col].isnull().sum())\\n    print(\\\"*\\\" * 50)\";\n",
       "                var nbb_formatted_code = \"# creating list for imputing null values\\nnull_col = [\\\"Power\\\", \\\"Seats\\\", \\\"Engine\\\"]\\n\\n# Imputing missing values using median of the variable\\nfor col in null_col:\\n    print(col, \\\"Missing values before imputing is \\\", df[col].isnull().sum())\\n    df[col].fillna(df[col].median(), inplace=True)  # median imputation\\n    print(col, \\\"Missing values after imputing is \\\", df[col].isnull().sum())\\n    print(\\\"*\\\" * 50)\";\n",
       "                var nbb_cells = Jupyter.notebook.get_cells();\n",
       "                for (var i = 0; i < nbb_cells.length; ++i) {\n",
       "                    if (nbb_cells[i].input_prompt_number == nbb_cell_id) {\n",
       "                        if (nbb_cells[i].get_text() == nbb_unformatted_code) {\n",
       "                             nbb_cells[i].set_text(nbb_formatted_code);\n",
       "                        }\n",
       "                        break;\n",
       "                    }\n",
       "                }\n",
       "            }, 500);\n",
       "            "
      ],
      "text/plain": [
       "<IPython.core.display.Javascript object>"
      ]
     },
     "metadata": {},
     "output_type": "display_data"
    }
   ],
   "source": [
    "# creating list for imputing null values\n",
    "null_col = [\"Power\", \"Seats\", \"Engine\"]\n",
    "\n",
    "# Imputing missing values using median of the variable\n",
    "for col in null_col:\n",
    "    print(col, \"Missing values before imputing is \", df[col].isnull().sum())\n",
    "    df[col].fillna(df[col].median(), inplace=True)  # median imputation\n",
    "    print(col, \"Missing values after imputing is \", df[col].isnull().sum())\n",
    "    print(\"*\" * 50)"
   ]
  },
  {
   "cell_type": "code",
   "execution_count": 88,
   "id": "90dd4e49",
   "metadata": {},
   "outputs": [
    {
     "data": {
      "text/plain": [
       "Location             0\n",
       "Year                 0\n",
       "Kilometers_Driven    0\n",
       "Fuel_Type            0\n",
       "Transmission         0\n",
       "Owner_Type           0\n",
       "Mileage              0\n",
       "Engine               0\n",
       "Power                0\n",
       "Seats                0\n",
       "Price                0\n",
       "dtype: int64"
      ]
     },
     "execution_count": 88,
     "metadata": {},
     "output_type": "execute_result"
    },
    {
     "data": {
      "application/javascript": [
       "\n",
       "            setTimeout(function() {\n",
       "                var nbb_cell_id = 88;\n",
       "                var nbb_unformatted_code = \"# check for the update in null values\\ndf.isnull().sum().sort_values(ascending=False)\";\n",
       "                var nbb_formatted_code = \"# check for the update in null values\\ndf.isnull().sum().sort_values(ascending=False)\";\n",
       "                var nbb_cells = Jupyter.notebook.get_cells();\n",
       "                for (var i = 0; i < nbb_cells.length; ++i) {\n",
       "                    if (nbb_cells[i].input_prompt_number == nbb_cell_id) {\n",
       "                        if (nbb_cells[i].get_text() == nbb_unformatted_code) {\n",
       "                             nbb_cells[i].set_text(nbb_formatted_code);\n",
       "                        }\n",
       "                        break;\n",
       "                    }\n",
       "                }\n",
       "            }, 500);\n",
       "            "
      ],
      "text/plain": [
       "<IPython.core.display.Javascript object>"
      ]
     },
     "metadata": {},
     "output_type": "display_data"
    }
   ],
   "source": [
    "# check for the update in null values\n",
    "df.isnull().sum().sort_values(ascending=False)"
   ]
  },
  {
   "cell_type": "markdown",
   "id": "8986cbf6",
   "metadata": {},
   "source": [
    "* Data is clean now."
   ]
  },
  {
   "cell_type": "markdown",
   "id": "cbb98928",
   "metadata": {},
   "source": [
    "## Outlier Detection and Treatment\n",
    "#### handling outliers\n",
    "\n",
    "If we decide that we do actually have some problematic outliers, we have a couple options.\n",
    "\n",
    "- if the point seems truly nonsensical it may be best to treat it as missing\n",
    "\n",
    "- alternatively, we could drop that observation or we could use statistics that are robust to outliers\n",
    "\n",
    "It's often a good idea to examine the sensitivity to outliers by running an analysis with and without them."
   ]
  },
  {
   "cell_type": "markdown",
   "id": "30bbe28e",
   "metadata": {},
   "source": [
    "**Outliers treatment for Power**\n"
   ]
  },
  {
   "cell_type": "code",
   "execution_count": 90,
   "id": "9a0888fd",
   "metadata": {},
   "outputs": [
    {
     "name": "stdout",
     "output_type": "stream",
     "text": [
      "Q1 = 78.0, Q3 = 138.03, 4*IQR = 240.12\n"
     ]
    },
    {
     "data": {
      "text/plain": [
       "70      500.00\n",
       "134     362.07\n",
       "148     444.00\n",
       "152     362.90\n",
       "418     367.00\n",
       "589     364.90\n",
       "1930    364.90\n",
       "2095    362.07\n",
       "2100    550.00\n",
       "2978    394.30\n",
       "3132    340.00\n",
       "3341    402.00\n",
       "4061    444.00\n",
       "4342    364.90\n",
       "4451    395.00\n",
       "4627    450.00\n",
       "4691    421.00\n",
       "4722    387.30\n",
       "4821    450.00\n",
       "5088    503.00\n",
       "5341    382.00\n",
       "5521    552.00\n",
       "5603    394.30\n",
       "5781    560.00\n",
       "5919    488.10\n",
       "Name: Power, dtype: float64"
      ]
     },
     "execution_count": 90,
     "metadata": {},
     "output_type": "execute_result"
    },
    {
     "data": {
      "application/javascript": [
       "\n",
       "            setTimeout(function() {\n",
       "                var nbb_cell_id = 90;\n",
       "                var nbb_unformatted_code = \"# calculating IQR and upper whisker 4iqr\\nquartiles = np.quantile(df['Power'][df['Power'].notnull()], [.25, .75])\\npower_4iqr = 4 * (quartiles[1] - quartiles[0])\\nprint(f'Q1 = {quartiles[0]}, Q3 = {quartiles[1]}, 4*IQR = {power_4iqr}')\\noutlier_powers = df.loc[np.abs(df['Power'] - df['Power'].median()) > power_4iqr, 'Power']\\noutlier_powers\";\n",
       "                var nbb_formatted_code = \"# calculating IQR and upper whisker 4iqr\\nquartiles = np.quantile(df[\\\"Power\\\"][df[\\\"Power\\\"].notnull()], [0.25, 0.75])\\npower_4iqr = 4 * (quartiles[1] - quartiles[0])\\nprint(f\\\"Q1 = {quartiles[0]}, Q3 = {quartiles[1]}, 4*IQR = {power_4iqr}\\\")\\noutlier_powers = df.loc[\\n    np.abs(df[\\\"Power\\\"] - df[\\\"Power\\\"].median()) > power_4iqr, \\\"Power\\\"\\n]\\noutlier_powers\";\n",
       "                var nbb_cells = Jupyter.notebook.get_cells();\n",
       "                for (var i = 0; i < nbb_cells.length; ++i) {\n",
       "                    if (nbb_cells[i].input_prompt_number == nbb_cell_id) {\n",
       "                        if (nbb_cells[i].get_text() == nbb_unformatted_code) {\n",
       "                             nbb_cells[i].set_text(nbb_formatted_code);\n",
       "                        }\n",
       "                        break;\n",
       "                    }\n",
       "                }\n",
       "            }, 500);\n",
       "            "
      ],
      "text/plain": [
       "<IPython.core.display.Javascript object>"
      ]
     },
     "metadata": {},
     "output_type": "display_data"
    }
   ],
   "source": [
    "# calculating IQR and upper whisker 4iqr for Power column\n",
    "quartiles = np.quantile(df[\"Power\"][df[\"Power\"].notnull()], [0.25, 0.75])\n",
    "power_4iqr = 4 * (quartiles[1] - quartiles[0])\n",
    "print(f\"Q1 = {quartiles[0]}, Q3 = {quartiles[1]}, 4*IQR = {power_4iqr}\")\n",
    "outlier_powers = df.loc[\n",
    "    np.abs(df[\"Power\"] - df[\"Power\"].median()) > power_4iqr, \"Power\"\n",
    "]\n",
    "outlier_powers"
   ]
  },
  {
   "cell_type": "code",
   "execution_count": 91,
   "id": "87621e26",
   "metadata": {},
   "outputs": [
    {
     "data": {
      "text/plain": [
       "25"
      ]
     },
     "execution_count": 91,
     "metadata": {},
     "output_type": "execute_result"
    },
    {
     "data": {
      "application/javascript": [
       "\n",
       "            setTimeout(function() {\n",
       "                var nbb_cell_id = 91;\n",
       "                var nbb_unformatted_code = \"len(outlier_powers)\";\n",
       "                var nbb_formatted_code = \"len(outlier_powers)\";\n",
       "                var nbb_cells = Jupyter.notebook.get_cells();\n",
       "                for (var i = 0; i < nbb_cells.length; ++i) {\n",
       "                    if (nbb_cells[i].input_prompt_number == nbb_cell_id) {\n",
       "                        if (nbb_cells[i].get_text() == nbb_unformatted_code) {\n",
       "                             nbb_cells[i].set_text(nbb_formatted_code);\n",
       "                        }\n",
       "                        break;\n",
       "                    }\n",
       "                }\n",
       "            }, 500);\n",
       "            "
      ],
      "text/plain": [
       "<IPython.core.display.Javascript object>"
      ]
     },
     "metadata": {},
     "output_type": "display_data"
    }
   ],
   "source": [
    "len(outlier_powers)"
   ]
  },
  {
   "cell_type": "markdown",
   "id": "a3db1abf",
   "metadata": {},
   "source": [
    "* The upper whiker 4*IQR value of power is 240bhp. The values more than this considered as outliers.\n",
    "* After applying IQR on power column, we got 25 outliers.\n",
    "* We can drop the outliers for better model."
   ]
  },
  {
   "cell_type": "code",
   "execution_count": 92,
   "id": "2c19560c",
   "metadata": {},
   "outputs": [
    {
     "data": {
      "application/javascript": [
       "\n",
       "            setTimeout(function() {\n",
       "                var nbb_cell_id = 92;\n",
       "                var nbb_unformatted_code = \"# dropping these rows\\ndf.drop(outlier_powers.index, axis=0, inplace=True)\";\n",
       "                var nbb_formatted_code = \"# dropping these rows\\ndf.drop(outlier_powers.index, axis=0, inplace=True)\";\n",
       "                var nbb_cells = Jupyter.notebook.get_cells();\n",
       "                for (var i = 0; i < nbb_cells.length; ++i) {\n",
       "                    if (nbb_cells[i].input_prompt_number == nbb_cell_id) {\n",
       "                        if (nbb_cells[i].get_text() == nbb_unformatted_code) {\n",
       "                             nbb_cells[i].set_text(nbb_formatted_code);\n",
       "                        }\n",
       "                        break;\n",
       "                    }\n",
       "                }\n",
       "            }, 500);\n",
       "            "
      ],
      "text/plain": [
       "<IPython.core.display.Javascript object>"
      ]
     },
     "metadata": {},
     "output_type": "display_data"
    }
   ],
   "source": [
    "# dropping these rows\n",
    "df.drop(outlier_powers.index, axis=0, inplace=True)"
   ]
  },
  {
   "cell_type": "markdown",
   "id": "785ee7a5",
   "metadata": {},
   "source": [
    "**Outliers treatment for Engine**"
   ]
  },
  {
   "cell_type": "code",
   "execution_count": 93,
   "id": "127e4ba5",
   "metadata": {},
   "outputs": [
    {
     "name": "stdout",
     "output_type": "stream",
     "text": [
      "Q1 = 1198.0, Q3 = 1968.0, 4*IQR = 3080.0\n"
     ]
    },
    {
     "data": {
      "text/plain": [
       "Series([], Name: Engine, dtype: float64)"
      ]
     },
     "execution_count": 93,
     "metadata": {},
     "output_type": "execute_result"
    },
    {
     "data": {
      "application/javascript": [
       "\n",
       "            setTimeout(function() {\n",
       "                var nbb_cell_id = 93;\n",
       "                var nbb_unformatted_code = \"# calculating IQR and upper whisker 4iqr for Engine column\\nquartiles_engine = np.quantile(df[\\\"Engine\\\"][df[\\\"Engine\\\"].notnull()], [0.25, 0.75])\\nengine_4iqr = 4 * (quartiles_engine[1] - quartiles_engine[0])\\nprint(f\\\"Q1 = {quartiles_engine[0]}, Q3 = {quartiles_engine[1]}, 4*IQR = {engine_4iqr}\\\")\\noutlier_engine = df.loc[\\n    np.abs(df[\\\"Engine\\\"] - df[\\\"Engine\\\"].median()) > engine_4iqr, \\\"Engine\\\"\\n]\\noutlier_engine\";\n",
       "                var nbb_formatted_code = \"# calculating IQR and upper whisker 4iqr for Engine column\\nquartiles_engine = np.quantile(df[\\\"Engine\\\"][df[\\\"Engine\\\"].notnull()], [0.25, 0.75])\\nengine_4iqr = 4 * (quartiles_engine[1] - quartiles_engine[0])\\nprint(f\\\"Q1 = {quartiles_engine[0]}, Q3 = {quartiles_engine[1]}, 4*IQR = {engine_4iqr}\\\")\\noutlier_engine = df.loc[\\n    np.abs(df[\\\"Engine\\\"] - df[\\\"Engine\\\"].median()) > engine_4iqr, \\\"Engine\\\"\\n]\\noutlier_engine\";\n",
       "                var nbb_cells = Jupyter.notebook.get_cells();\n",
       "                for (var i = 0; i < nbb_cells.length; ++i) {\n",
       "                    if (nbb_cells[i].input_prompt_number == nbb_cell_id) {\n",
       "                        if (nbb_cells[i].get_text() == nbb_unformatted_code) {\n",
       "                             nbb_cells[i].set_text(nbb_formatted_code);\n",
       "                        }\n",
       "                        break;\n",
       "                    }\n",
       "                }\n",
       "            }, 500);\n",
       "            "
      ],
      "text/plain": [
       "<IPython.core.display.Javascript object>"
      ]
     },
     "metadata": {},
     "output_type": "display_data"
    }
   ],
   "source": [
    "# calculating IQR and upper whisker 4iqr for Engine column\n",
    "quartiles_engine = np.quantile(df[\"Engine\"][df[\"Engine\"].notnull()], [0.25, 0.75])\n",
    "engine_4iqr = 4 * (quartiles_engine[1] - quartiles_engine[0])\n",
    "print(f\"Q1 = {quartiles_engine[0]}, Q3 = {quartiles_engine[1]}, 4*IQR = {engine_4iqr}\")\n",
    "outlier_engine = df.loc[\n",
    "    np.abs(df[\"Engine\"] - df[\"Engine\"].median()) > engine_4iqr, \"Engine\"\n",
    "]\n",
    "outlier_engine"
   ]
  },
  {
   "cell_type": "markdown",
   "id": "c867da06",
   "metadata": {},
   "source": [
    "* The outliers are treated using IQR method."
   ]
  },
  {
   "cell_type": "markdown",
   "id": "ffd81774",
   "metadata": {},
   "source": [
    "**Outliers treatment for Kilometers_Driven**"
   ]
  },
  {
   "cell_type": "code",
   "execution_count": 94,
   "id": "5b80b641",
   "metadata": {},
   "outputs": [
    {
     "name": "stdout",
     "output_type": "stream",
     "text": [
      "Q1 = 34000.0, Q3 = 73000.0, 4*IQR = 156000.0\n"
     ]
    },
    {
     "data": {
      "text/plain": [
       "29       262000\n",
       "77       230000\n",
       "181      216000\n",
       "340      775000\n",
       "358      620000\n",
       "838      215000\n",
       "1068     225000\n",
       "1101     248000\n",
       "1442     231673\n",
       "1528     299322\n",
       "1766     220000\n",
       "1846     255000\n",
       "1860     720000\n",
       "1975     282000\n",
       "2267     215750\n",
       "2328    6500000\n",
       "2346     234000\n",
       "2823     480000\n",
       "2988     240000\n",
       "3092     480000\n",
       "3649     300000\n",
       "3713     232000\n",
       "3894     250000\n",
       "4491     445000\n",
       "4719     250000\n",
       "4792     242000\n",
       "5647     227000\n",
       "5800     210000\n",
       "5834     250000\n",
       "Name: Kilometers_Driven, dtype: int64"
      ]
     },
     "execution_count": 94,
     "metadata": {},
     "output_type": "execute_result"
    },
    {
     "data": {
      "application/javascript": [
       "\n",
       "            setTimeout(function() {\n",
       "                var nbb_cell_id = 94;\n",
       "                var nbb_unformatted_code = \"# # calculating IQR and upper whisker 4iqr for kilometers_driven column\\nquartiles_kmd = np.quantile(\\n    df[\\\"Kilometers_Driven\\\"][df[\\\"Kilometers_Driven\\\"].notnull()], [0.25, 0.75]\\n)\\nkmd_4iqr = 4 * (quartiles_kmd[1] - quartiles_kmd[0])\\nprint(f\\\"Q1 = {quartiles_kmd[0]}, Q3 = {quartiles_kmd[1]}, 4*IQR = {kmd_4iqr}\\\")\\noutlier_kmd = df.loc[\\n    np.abs(df[\\\"Kilometers_Driven\\\"] - df[\\\"Kilometers_Driven\\\"].median()) > kmd_4iqr,\\n    \\\"Kilometers_Driven\\\",\\n]\\noutlier_kmd\";\n",
       "                var nbb_formatted_code = \"# # calculating IQR and upper whisker 4iqr for kilometers_driven column\\nquartiles_kmd = np.quantile(\\n    df[\\\"Kilometers_Driven\\\"][df[\\\"Kilometers_Driven\\\"].notnull()], [0.25, 0.75]\\n)\\nkmd_4iqr = 4 * (quartiles_kmd[1] - quartiles_kmd[0])\\nprint(f\\\"Q1 = {quartiles_kmd[0]}, Q3 = {quartiles_kmd[1]}, 4*IQR = {kmd_4iqr}\\\")\\noutlier_kmd = df.loc[\\n    np.abs(df[\\\"Kilometers_Driven\\\"] - df[\\\"Kilometers_Driven\\\"].median()) > kmd_4iqr,\\n    \\\"Kilometers_Driven\\\",\\n]\\noutlier_kmd\";\n",
       "                var nbb_cells = Jupyter.notebook.get_cells();\n",
       "                for (var i = 0; i < nbb_cells.length; ++i) {\n",
       "                    if (nbb_cells[i].input_prompt_number == nbb_cell_id) {\n",
       "                        if (nbb_cells[i].get_text() == nbb_unformatted_code) {\n",
       "                             nbb_cells[i].set_text(nbb_formatted_code);\n",
       "                        }\n",
       "                        break;\n",
       "                    }\n",
       "                }\n",
       "            }, 500);\n",
       "            "
      ],
      "text/plain": [
       "<IPython.core.display.Javascript object>"
      ]
     },
     "metadata": {},
     "output_type": "display_data"
    }
   ],
   "source": [
    "# # calculating IQR and upper whisker 4iqr for kilometers_driven column\n",
    "quartiles_kmd = np.quantile(\n",
    "    df[\"Kilometers_Driven\"][df[\"Kilometers_Driven\"].notnull()], [0.25, 0.75]\n",
    ")\n",
    "kmd_4iqr = 4 * (quartiles_kmd[1] - quartiles_kmd[0])\n",
    "print(f\"Q1 = {quartiles_kmd[0]}, Q3 = {quartiles_kmd[1]}, 4*IQR = {kmd_4iqr}\")\n",
    "outlier_kmd = df.loc[\n",
    "    np.abs(df[\"Kilometers_Driven\"] - df[\"Kilometers_Driven\"].median()) > kmd_4iqr,\n",
    "    \"Kilometers_Driven\",\n",
    "]\n",
    "outlier_kmd"
   ]
  },
  {
   "cell_type": "code",
   "execution_count": 95,
   "id": "c88a6cf8",
   "metadata": {},
   "outputs": [
    {
     "data": {
      "text/plain": [
       "29"
      ]
     },
     "execution_count": 95,
     "metadata": {},
     "output_type": "execute_result"
    },
    {
     "data": {
      "application/javascript": [
       "\n",
       "            setTimeout(function() {\n",
       "                var nbb_cell_id = 95;\n",
       "                var nbb_unformatted_code = \"len(outlier_kmd)\";\n",
       "                var nbb_formatted_code = \"len(outlier_kmd)\";\n",
       "                var nbb_cells = Jupyter.notebook.get_cells();\n",
       "                for (var i = 0; i < nbb_cells.length; ++i) {\n",
       "                    if (nbb_cells[i].input_prompt_number == nbb_cell_id) {\n",
       "                        if (nbb_cells[i].get_text() == nbb_unformatted_code) {\n",
       "                             nbb_cells[i].set_text(nbb_formatted_code);\n",
       "                        }\n",
       "                        break;\n",
       "                    }\n",
       "                }\n",
       "            }, 500);\n",
       "            "
      ],
      "text/plain": [
       "<IPython.core.display.Javascript object>"
      ]
     },
     "metadata": {},
     "output_type": "display_data"
    }
   ],
   "source": [
    "len(outlier_kmd)"
   ]
  },
  {
   "cell_type": "markdown",
   "id": "3dcb51b2",
   "metadata": {},
   "source": [
    "* Upper whisker value of kilometers driven column is 156000. Few cars are driven more than 156000 km.\n",
    "* After applying IQR, we got 29 outliers in kilometers column.\n",
    "* One of the car driven is 65 lakh, we should check for that value.\n",
    "* High values in outlier will impact our model.\n",
    "* we can drop the outliers in kilometers column"
   ]
  },
  {
   "cell_type": "code",
   "execution_count": 96,
   "id": "71c415f1",
   "metadata": {},
   "outputs": [
    {
     "data": {
      "application/javascript": [
       "\n",
       "            setTimeout(function() {\n",
       "                var nbb_cell_id = 96;\n",
       "                var nbb_unformatted_code = \"# drop these rows\\ndf.drop(outlier_kmd.index, axis=0, inplace=True)\";\n",
       "                var nbb_formatted_code = \"# drop these rows\\ndf.drop(outlier_kmd.index, axis=0, inplace=True)\";\n",
       "                var nbb_cells = Jupyter.notebook.get_cells();\n",
       "                for (var i = 0; i < nbb_cells.length; ++i) {\n",
       "                    if (nbb_cells[i].input_prompt_number == nbb_cell_id) {\n",
       "                        if (nbb_cells[i].get_text() == nbb_unformatted_code) {\n",
       "                             nbb_cells[i].set_text(nbb_formatted_code);\n",
       "                        }\n",
       "                        break;\n",
       "                    }\n",
       "                }\n",
       "            }, 500);\n",
       "            "
      ],
      "text/plain": [
       "<IPython.core.display.Javascript object>"
      ]
     },
     "metadata": {},
     "output_type": "display_data"
    }
   ],
   "source": [
    "# drop these rows\n",
    "df.drop(outlier_kmd.index, axis=0, inplace=True)"
   ]
  },
  {
   "cell_type": "markdown",
   "id": "90c15e19",
   "metadata": {},
   "source": [
    "**Outliers treatment for Year**"
   ]
  },
  {
   "cell_type": "code",
   "execution_count": 97,
   "id": "062e1d88",
   "metadata": {},
   "outputs": [
    {
     "name": "stdout",
     "output_type": "stream",
     "text": [
      "Q1 = 34000.0, Q3 = 2016.0, 4*IQR = 18.0\n"
     ]
    },
    {
     "data": {
      "text/plain": [
       "Series([], Name: Year, dtype: int64)"
      ]
     },
     "execution_count": 97,
     "metadata": {},
     "output_type": "execute_result"
    },
    {
     "data": {
      "application/javascript": [
       "\n",
       "            setTimeout(function() {\n",
       "                var nbb_cell_id = 97;\n",
       "                var nbb_unformatted_code = \"# # calculating IQR and upper whisker 4iqr for year column\\nquartiles_year = np.quantile(df[\\\"Year\\\"][df[\\\"Year\\\"].notnull()], [0.25, 0.75])\\nyear_4iqr = 4 * (quartiles_year[1] - quartiles_year[0])\\nprint(f\\\"Q1 = {quartiles_kmd[0]}, Q3 = {quartiles_year[1]}, 4*IQR = {year_4iqr}\\\")\\noutlier_year = df.loc[\\n    np.abs(df[\\\"Year\\\"] - df[\\\"Year\\\"].median()) > year_4iqr, \\\"Year\\\",\\n]\\noutlier_year\";\n",
       "                var nbb_formatted_code = \"# # calculating IQR and upper whisker 4iqr for year column\\nquartiles_year = np.quantile(df[\\\"Year\\\"][df[\\\"Year\\\"].notnull()], [0.25, 0.75])\\nyear_4iqr = 4 * (quartiles_year[1] - quartiles_year[0])\\nprint(f\\\"Q1 = {quartiles_kmd[0]}, Q3 = {quartiles_year[1]}, 4*IQR = {year_4iqr}\\\")\\noutlier_year = df.loc[\\n    np.abs(df[\\\"Year\\\"] - df[\\\"Year\\\"].median()) > year_4iqr, \\\"Year\\\",\\n]\\noutlier_year\";\n",
       "                var nbb_cells = Jupyter.notebook.get_cells();\n",
       "                for (var i = 0; i < nbb_cells.length; ++i) {\n",
       "                    if (nbb_cells[i].input_prompt_number == nbb_cell_id) {\n",
       "                        if (nbb_cells[i].get_text() == nbb_unformatted_code) {\n",
       "                             nbb_cells[i].set_text(nbb_formatted_code);\n",
       "                        }\n",
       "                        break;\n",
       "                    }\n",
       "                }\n",
       "            }, 500);\n",
       "            "
      ],
      "text/plain": [
       "<IPython.core.display.Javascript object>"
      ]
     },
     "metadata": {},
     "output_type": "display_data"
    }
   ],
   "source": [
    "# # calculating IQR and upper whisker 4iqr for year column\n",
    "quartiles_year = np.quantile(df[\"Year\"][df[\"Year\"].notnull()], [0.25, 0.75])\n",
    "year_4iqr = 4 * (quartiles_year[1] - quartiles_year[0])\n",
    "print(f\"Q1 = {quartiles_kmd[0]}, Q3 = {quartiles_year[1]}, 4*IQR = {year_4iqr}\")\n",
    "outlier_year = df.loc[\n",
    "    np.abs(df[\"Year\"] - df[\"Year\"].median()) > year_4iqr, \"Year\",\n",
    "]\n",
    "outlier_year"
   ]
  },
  {
   "cell_type": "markdown",
   "id": "5c4648a7",
   "metadata": {},
   "source": [
    "* All outliers are within the range after applying IQR.\n"
   ]
  },
  {
   "cell_type": "markdown",
   "id": "0bf9ecf3",
   "metadata": {},
   "source": [
    "## Feature Engineering"
   ]
  },
  {
   "cell_type": "markdown",
   "id": "2a590494",
   "metadata": {},
   "source": [
    "Engine, Power and Mileage are important factors for performance, we can create a metric using these columns"
   ]
  },
  {
   "cell_type": "code",
   "execution_count": 98,
   "id": "51420f71",
   "metadata": {},
   "outputs": [
    {
     "data": {
      "text/html": [
       "<div>\n",
       "<style scoped>\n",
       "    .dataframe tbody tr th:only-of-type {\n",
       "        vertical-align: middle;\n",
       "    }\n",
       "\n",
       "    .dataframe tbody tr th {\n",
       "        vertical-align: top;\n",
       "    }\n",
       "\n",
       "    .dataframe thead th {\n",
       "        text-align: right;\n",
       "    }\n",
       "</style>\n",
       "<table border=\"1\" class=\"dataframe\">\n",
       "  <thead>\n",
       "    <tr style=\"text-align: right;\">\n",
       "      <th></th>\n",
       "      <th>Location</th>\n",
       "      <th>Year</th>\n",
       "      <th>Kilometers_Driven</th>\n",
       "      <th>Fuel_Type</th>\n",
       "      <th>Transmission</th>\n",
       "      <th>Owner_Type</th>\n",
       "      <th>Seats</th>\n",
       "      <th>Price</th>\n",
       "      <th>Performance_measure</th>\n",
       "    </tr>\n",
       "  </thead>\n",
       "  <tbody>\n",
       "    <tr>\n",
       "      <th>4183</th>\n",
       "      <td>Chennai</td>\n",
       "      <td>2012</td>\n",
       "      <td>120000</td>\n",
       "      <td>Diesel</td>\n",
       "      <td>Manual</td>\n",
       "      <td>Second</td>\n",
       "      <td>5.0</td>\n",
       "      <td>2.60</td>\n",
       "      <td>448.100000</td>\n",
       "    </tr>\n",
       "    <tr>\n",
       "      <th>4140</th>\n",
       "      <td>Ahmedabad</td>\n",
       "      <td>2015</td>\n",
       "      <td>20000</td>\n",
       "      <td>Petrol</td>\n",
       "      <td>Manual</td>\n",
       "      <td>First</td>\n",
       "      <td>5.0</td>\n",
       "      <td>2.66</td>\n",
       "      <td>296.766667</td>\n",
       "    </tr>\n",
       "    <tr>\n",
       "      <th>5490</th>\n",
       "      <td>Pune</td>\n",
       "      <td>2013</td>\n",
       "      <td>57000</td>\n",
       "      <td>Diesel</td>\n",
       "      <td>Manual</td>\n",
       "      <td>First</td>\n",
       "      <td>5.0</td>\n",
       "      <td>4.61</td>\n",
       "      <td>520.266667</td>\n",
       "    </tr>\n",
       "    <tr>\n",
       "      <th>1009</th>\n",
       "      <td>Hyderabad</td>\n",
       "      <td>2014</td>\n",
       "      <td>81000</td>\n",
       "      <td>Diesel</td>\n",
       "      <td>Manual</td>\n",
       "      <td>First</td>\n",
       "      <td>5.0</td>\n",
       "      <td>6.10</td>\n",
       "      <td>449.066667</td>\n",
       "    </tr>\n",
       "    <tr>\n",
       "      <th>5967</th>\n",
       "      <td>Bangalore</td>\n",
       "      <td>2014</td>\n",
       "      <td>42000</td>\n",
       "      <td>Petrol</td>\n",
       "      <td>Manual</td>\n",
       "      <td>Second</td>\n",
       "      <td>7.0</td>\n",
       "      <td>5.94</td>\n",
       "      <td>494.240000</td>\n",
       "    </tr>\n",
       "    <tr>\n",
       "      <th>2420</th>\n",
       "      <td>Pune</td>\n",
       "      <td>2014</td>\n",
       "      <td>102000</td>\n",
       "      <td>Diesel</td>\n",
       "      <td>Automatic</td>\n",
       "      <td>Second</td>\n",
       "      <td>7.0</td>\n",
       "      <td>16.50</td>\n",
       "      <td>1054.350000</td>\n",
       "    </tr>\n",
       "    <tr>\n",
       "      <th>3295</th>\n",
       "      <td>Delhi</td>\n",
       "      <td>2013</td>\n",
       "      <td>62000</td>\n",
       "      <td>CNG</td>\n",
       "      <td>Manual</td>\n",
       "      <td>First</td>\n",
       "      <td>5.0</td>\n",
       "      <td>2.80</td>\n",
       "      <td>360.920000</td>\n",
       "    </tr>\n",
       "    <tr>\n",
       "      <th>4086</th>\n",
       "      <td>Pune</td>\n",
       "      <td>2015</td>\n",
       "      <td>65000</td>\n",
       "      <td>Diesel</td>\n",
       "      <td>Manual</td>\n",
       "      <td>First</td>\n",
       "      <td>7.0</td>\n",
       "      <td>15.00</td>\n",
       "      <td>869.196667</td>\n",
       "    </tr>\n",
       "    <tr>\n",
       "      <th>3821</th>\n",
       "      <td>Jaipur</td>\n",
       "      <td>2005</td>\n",
       "      <td>49000</td>\n",
       "      <td>Petrol</td>\n",
       "      <td>Manual</td>\n",
       "      <td>First</td>\n",
       "      <td>5.0</td>\n",
       "      <td>0.90</td>\n",
       "      <td>287.333333</td>\n",
       "    </tr>\n",
       "    <tr>\n",
       "      <th>774</th>\n",
       "      <td>Ahmedabad</td>\n",
       "      <td>2013</td>\n",
       "      <td>94000</td>\n",
       "      <td>Diesel</td>\n",
       "      <td>Manual</td>\n",
       "      <td>First</td>\n",
       "      <td>8.0</td>\n",
       "      <td>8.85</td>\n",
       "      <td>869.600000</td>\n",
       "    </tr>\n",
       "  </tbody>\n",
       "</table>\n",
       "</div>"
      ],
      "text/plain": [
       "       Location  Year  Kilometers_Driven Fuel_Type Transmission Owner_Type  \\\n",
       "4183    Chennai  2012             120000    Diesel       Manual     Second   \n",
       "4140  Ahmedabad  2015              20000    Petrol       Manual      First   \n",
       "5490       Pune  2013              57000    Diesel       Manual      First   \n",
       "1009  Hyderabad  2014              81000    Diesel       Manual      First   \n",
       "5967  Bangalore  2014              42000    Petrol       Manual     Second   \n",
       "2420       Pune  2014             102000    Diesel    Automatic     Second   \n",
       "3295      Delhi  2013              62000       CNG       Manual      First   \n",
       "4086       Pune  2015              65000    Diesel       Manual      First   \n",
       "3821     Jaipur  2005              49000    Petrol       Manual      First   \n",
       "774   Ahmedabad  2013              94000    Diesel       Manual      First   \n",
       "\n",
       "      Seats  Price  Performance_measure  \n",
       "4183    5.0   2.60           448.100000  \n",
       "4140    5.0   2.66           296.766667  \n",
       "5490    5.0   4.61           520.266667  \n",
       "1009    5.0   6.10           449.066667  \n",
       "5967    7.0   5.94           494.240000  \n",
       "2420    7.0  16.50          1054.350000  \n",
       "3295    5.0   2.80           360.920000  \n",
       "4086    7.0  15.00           869.196667  \n",
       "3821    5.0   0.90           287.333333  \n",
       "774     8.0   8.85           869.600000  "
      ]
     },
     "execution_count": 98,
     "metadata": {},
     "output_type": "execute_result"
    },
    {
     "data": {
      "application/javascript": [
       "\n",
       "            setTimeout(function() {\n",
       "                var nbb_cell_id = 98;\n",
       "                var nbb_unformatted_code = \"# create a copy of dataset\\ndf1 = df.copy()\\n\\n# creating new column Performance_measure with average of Mileage, Engine and Power\\ndf1[\\\"Performance_measure\\\"] = (df1[\\\"Mileage\\\"] + df1[\\\"Engine\\\"] + df1[\\\"Power\\\"]) / 3\\ndf1.drop([\\\"Mileage\\\", \\\"Engine\\\", \\\"Power\\\"], axis=1, inplace=True)\\nnp.random.seed(1)\\ndf1.sample(10)\";\n",
       "                var nbb_formatted_code = \"# create a copy of dataset\\ndf1 = df.copy()\\n\\n# creating new column Performance_measure with average of Mileage, Engine and Power\\ndf1[\\\"Performance_measure\\\"] = (df1[\\\"Mileage\\\"] + df1[\\\"Engine\\\"] + df1[\\\"Power\\\"]) / 3\\ndf1.drop([\\\"Mileage\\\", \\\"Engine\\\", \\\"Power\\\"], axis=1, inplace=True)\\nnp.random.seed(1)\\ndf1.sample(10)\";\n",
       "                var nbb_cells = Jupyter.notebook.get_cells();\n",
       "                for (var i = 0; i < nbb_cells.length; ++i) {\n",
       "                    if (nbb_cells[i].input_prompt_number == nbb_cell_id) {\n",
       "                        if (nbb_cells[i].get_text() == nbb_unformatted_code) {\n",
       "                             nbb_cells[i].set_text(nbb_formatted_code);\n",
       "                        }\n",
       "                        break;\n",
       "                    }\n",
       "                }\n",
       "            }, 500);\n",
       "            "
      ],
      "text/plain": [
       "<IPython.core.display.Javascript object>"
      ]
     },
     "metadata": {},
     "output_type": "display_data"
    }
   ],
   "source": [
    "# create a copy of dataset\n",
    "df1 = df.copy()\n",
    "\n",
    "# creating new column Performance_measure with average of Mileage, Engine and Power\n",
    "df1[\"Performance_measure\"] = (df1[\"Mileage\"] + df1[\"Engine\"] + df1[\"Power\"]) / 3\n",
    "df1.drop([\"Mileage\", \"Engine\", \"Power\"], axis=1, inplace=True)\n",
    "np.random.seed(1)\n",
    "df1.sample(10)"
   ]
  },
  {
   "cell_type": "markdown",
   "id": "3547f56a",
   "metadata": {},
   "source": [
    "**Check the histogram and boxplot of new variable**"
   ]
  },
  {
   "cell_type": "code",
   "execution_count": 99,
   "id": "9a3aa3ab",
   "metadata": {},
   "outputs": [
    {
     "data": {
      "image/png": "[encoded data removed]",
      "text/plain": [
       "<Figure size 864x504 with 2 Axes>"
      ]
     },
     "metadata": {},
     "output_type": "display_data"
    },
    {
     "data": {
      "application/javascript": [
       "\n",
       "            setTimeout(function() {\n",
       "                var nbb_cell_id = 99;\n",
       "                var nbb_unformatted_code = \"# histogram and boxplot\\nhistogram_boxplot(df1, \\\"Performance_measure\\\", bins=50)\";\n",
       "                var nbb_formatted_code = \"# histogram and boxplot\\nhistogram_boxplot(df1, \\\"Performance_measure\\\", bins=50)\";\n",
       "                var nbb_cells = Jupyter.notebook.get_cells();\n",
       "                for (var i = 0; i < nbb_cells.length; ++i) {\n",
       "                    if (nbb_cells[i].input_prompt_number == nbb_cell_id) {\n",
       "                        if (nbb_cells[i].get_text() == nbb_unformatted_code) {\n",
       "                             nbb_cells[i].set_text(nbb_formatted_code);\n",
       "                        }\n",
       "                        break;\n",
       "                    }\n",
       "                }\n",
       "            }, 500);\n",
       "            "
      ],
      "text/plain": [
       "<IPython.core.display.Javascript object>"
      ]
     },
     "metadata": {},
     "output_type": "display_data"
    }
   ],
   "source": [
    "# histogram and boxplot\n",
    "histogram_boxplot(df1, \"Performance_measure\", bins=50)"
   ]
  },
  {
   "cell_type": "markdown",
   "id": "067b1d55",
   "metadata": {},
   "source": [
    "* The distribution is slightly right skewed.\n",
    "* Mean is slightly higher than median.\n",
    "* Performance column helping to reduce the number of variables in our data.\n",
    "* We already treated outliers for individual columns, so we can use performance column for our model building."
   ]
  },
  {
   "cell_type": "markdown",
   "id": "a86a3ca2",
   "metadata": {},
   "source": [
    "## Model Building"
   ]
  },
  {
   "cell_type": "markdown",
   "id": "c0bef76b",
   "metadata": {},
   "source": [
    "**Split Data**"
   ]
  },
  {
   "cell_type": "code",
   "execution_count": 100,
   "id": "4bed2f6f",
   "metadata": {},
   "outputs": [
    {
     "data": {
      "application/javascript": [
       "\n",
       "            setTimeout(function() {\n",
       "                var nbb_cell_id = 100;\n",
       "                var nbb_unformatted_code = \"# lets build our linear model\\n# independant variables\\n\\n# independent variables list\\nX = df1.drop([\\\"Price\\\"], axis=1)\\n\\n# dependent variables list\\ny = df1[[\\\"Price\\\"]]\";\n",
       "                var nbb_formatted_code = \"# lets build our linear model\\n# independant variables\\n\\n# independent variables list\\nX = df1.drop([\\\"Price\\\"], axis=1)\\n\\n# dependent variables list\\ny = df1[[\\\"Price\\\"]]\";\n",
       "                var nbb_cells = Jupyter.notebook.get_cells();\n",
       "                for (var i = 0; i < nbb_cells.length; ++i) {\n",
       "                    if (nbb_cells[i].input_prompt_number == nbb_cell_id) {\n",
       "                        if (nbb_cells[i].get_text() == nbb_unformatted_code) {\n",
       "                             nbb_cells[i].set_text(nbb_formatted_code);\n",
       "                        }\n",
       "                        break;\n",
       "                    }\n",
       "                }\n",
       "            }, 500);\n",
       "            "
      ],
      "text/plain": [
       "<IPython.core.display.Javascript object>"
      ]
     },
     "metadata": {},
     "output_type": "display_data"
    }
   ],
   "source": [
    "# lets build our linear model\n",
    "# independant variables\n",
    "\n",
    "# independent variables list\n",
    "X = df1.drop([\"Price\"], axis=1)\n",
    "\n",
    "# dependent variables list\n",
    "y = df1[[\"Price\"]]"
   ]
  },
  {
   "cell_type": "markdown",
   "id": "c849b9e7",
   "metadata": {},
   "source": [
    "**Encode categorical variables by creating dummy variables**"
   ]
  },
  {
   "cell_type": "code",
   "execution_count": 101,
   "id": "a831e998",
   "metadata": {},
   "outputs": [
    {
     "data": {
      "text/html": [
       "<div>\n",
       "<style scoped>\n",
       "    .dataframe tbody tr th:only-of-type {\n",
       "        vertical-align: middle;\n",
       "    }\n",
       "\n",
       "    .dataframe tbody tr th {\n",
       "        vertical-align: top;\n",
       "    }\n",
       "\n",
       "    .dataframe thead th {\n",
       "        text-align: right;\n",
       "    }\n",
       "</style>\n",
       "<table border=\"1\" class=\"dataframe\">\n",
       "  <thead>\n",
       "    <tr style=\"text-align: right;\">\n",
       "      <th></th>\n",
       "      <th>Year</th>\n",
       "      <th>Kilometers_Driven</th>\n",
       "      <th>Seats</th>\n",
       "      <th>Performance_measure</th>\n",
       "      <th>Location_Bangalore</th>\n",
       "      <th>Location_Chennai</th>\n",
       "      <th>Location_Coimbatore</th>\n",
       "      <th>Location_Delhi</th>\n",
       "      <th>Location_Hyderabad</th>\n",
       "      <th>Location_Jaipur</th>\n",
       "      <th>Location_Kochi</th>\n",
       "      <th>Location_Kolkata</th>\n",
       "      <th>Location_Mumbai</th>\n",
       "      <th>Location_Pune</th>\n",
       "      <th>Fuel_Type_Diesel</th>\n",
       "      <th>Fuel_Type_LPG</th>\n",
       "      <th>Fuel_Type_Petrol</th>\n",
       "      <th>Transmission_Manual</th>\n",
       "      <th>Owner_Type_Fourth &amp; Above</th>\n",
       "      <th>Owner_Type_Second</th>\n",
       "      <th>Owner_Type_Third</th>\n",
       "    </tr>\n",
       "  </thead>\n",
       "  <tbody>\n",
       "    <tr>\n",
       "      <th>0</th>\n",
       "      <td>2010</td>\n",
       "      <td>72000</td>\n",
       "      <td>5.0</td>\n",
       "      <td>360.920000</td>\n",
       "      <td>0</td>\n",
       "      <td>0</td>\n",
       "      <td>0</td>\n",
       "      <td>0</td>\n",
       "      <td>0</td>\n",
       "      <td>0</td>\n",
       "      <td>0</td>\n",
       "      <td>0</td>\n",
       "      <td>1</td>\n",
       "      <td>0</td>\n",
       "      <td>0</td>\n",
       "      <td>0</td>\n",
       "      <td>0</td>\n",
       "      <td>1</td>\n",
       "      <td>0</td>\n",
       "      <td>0</td>\n",
       "      <td>0</td>\n",
       "    </tr>\n",
       "    <tr>\n",
       "      <th>1</th>\n",
       "      <td>2015</td>\n",
       "      <td>41000</td>\n",
       "      <td>5.0</td>\n",
       "      <td>575.956667</td>\n",
       "      <td>0</td>\n",
       "      <td>0</td>\n",
       "      <td>0</td>\n",
       "      <td>0</td>\n",
       "      <td>0</td>\n",
       "      <td>0</td>\n",
       "      <td>0</td>\n",
       "      <td>0</td>\n",
       "      <td>0</td>\n",
       "      <td>1</td>\n",
       "      <td>1</td>\n",
       "      <td>0</td>\n",
       "      <td>0</td>\n",
       "      <td>1</td>\n",
       "      <td>0</td>\n",
       "      <td>0</td>\n",
       "      <td>0</td>\n",
       "    </tr>\n",
       "    <tr>\n",
       "      <th>2</th>\n",
       "      <td>2011</td>\n",
       "      <td>46000</td>\n",
       "      <td>5.0</td>\n",
       "      <td>435.300000</td>\n",
       "      <td>0</td>\n",
       "      <td>1</td>\n",
       "      <td>0</td>\n",
       "      <td>0</td>\n",
       "      <td>0</td>\n",
       "      <td>0</td>\n",
       "      <td>0</td>\n",
       "      <td>0</td>\n",
       "      <td>0</td>\n",
       "      <td>0</td>\n",
       "      <td>0</td>\n",
       "      <td>0</td>\n",
       "      <td>1</td>\n",
       "      <td>1</td>\n",
       "      <td>0</td>\n",
       "      <td>0</td>\n",
       "      <td>0</td>\n",
       "    </tr>\n",
       "    <tr>\n",
       "      <th>3</th>\n",
       "      <td>2012</td>\n",
       "      <td>87000</td>\n",
       "      <td>7.0</td>\n",
       "      <td>452.510000</td>\n",
       "      <td>0</td>\n",
       "      <td>1</td>\n",
       "      <td>0</td>\n",
       "      <td>0</td>\n",
       "      <td>0</td>\n",
       "      <td>0</td>\n",
       "      <td>0</td>\n",
       "      <td>0</td>\n",
       "      <td>0</td>\n",
       "      <td>0</td>\n",
       "      <td>1</td>\n",
       "      <td>0</td>\n",
       "      <td>0</td>\n",
       "      <td>1</td>\n",
       "      <td>0</td>\n",
       "      <td>0</td>\n",
       "      <td>0</td>\n",
       "    </tr>\n",
       "    <tr>\n",
       "      <th>4</th>\n",
       "      <td>2013</td>\n",
       "      <td>40670</td>\n",
       "      <td>5.0</td>\n",
       "      <td>708.000000</td>\n",
       "      <td>0</td>\n",
       "      <td>0</td>\n",
       "      <td>1</td>\n",
       "      <td>0</td>\n",
       "      <td>0</td>\n",
       "      <td>0</td>\n",
       "      <td>0</td>\n",
       "      <td>0</td>\n",
       "      <td>0</td>\n",
       "      <td>0</td>\n",
       "      <td>1</td>\n",
       "      <td>0</td>\n",
       "      <td>0</td>\n",
       "      <td>0</td>\n",
       "      <td>0</td>\n",
       "      <td>1</td>\n",
       "      <td>0</td>\n",
       "    </tr>\n",
       "  </tbody>\n",
       "</table>\n",
       "</div>"
      ],
      "text/plain": [
       "   Year  Kilometers_Driven  Seats  Performance_measure  Location_Bangalore  \\\n",
       "0  2010              72000    5.0           360.920000                   0   \n",
       "1  2015              41000    5.0           575.956667                   0   \n",
       "2  2011              46000    5.0           435.300000                   0   \n",
       "3  2012              87000    7.0           452.510000                   0   \n",
       "4  2013              40670    5.0           708.000000                   0   \n",
       "\n",
       "   Location_Chennai  Location_Coimbatore  Location_Delhi  Location_Hyderabad  \\\n",
       "0                 0                    0               0                   0   \n",
       "1                 0                    0               0                   0   \n",
       "2                 1                    0               0                   0   \n",
       "3                 1                    0               0                   0   \n",
       "4                 0                    1               0                   0   \n",
       "\n",
       "   Location_Jaipur  Location_Kochi  Location_Kolkata  Location_Mumbai  \\\n",
       "0                0               0                 0                1   \n",
       "1                0               0                 0                0   \n",
       "2                0               0                 0                0   \n",
       "3                0               0                 0                0   \n",
       "4                0               0                 0                0   \n",
       "\n",
       "   Location_Pune  Fuel_Type_Diesel  Fuel_Type_LPG  Fuel_Type_Petrol  \\\n",
       "0              0                 0              0                 0   \n",
       "1              1                 1              0                 0   \n",
       "2              0                 0              0                 1   \n",
       "3              0                 1              0                 0   \n",
       "4              0                 1              0                 0   \n",
       "\n",
       "   Transmission_Manual  Owner_Type_Fourth & Above  Owner_Type_Second  \\\n",
       "0                    1                          0                  0   \n",
       "1                    1                          0                  0   \n",
       "2                    1                          0                  0   \n",
       "3                    1                          0                  0   \n",
       "4                    0                          0                  1   \n",
       "\n",
       "   Owner_Type_Third  \n",
       "0                 0  \n",
       "1                 0  \n",
       "2                 0  \n",
       "3                 0  \n",
       "4                 0  "
      ]
     },
     "execution_count": 101,
     "metadata": {},
     "output_type": "execute_result"
    },
    {
     "data": {
      "application/javascript": [
       "\n",
       "            setTimeout(function() {\n",
       "                var nbb_cell_id = 101;\n",
       "                var nbb_unformatted_code = \"# define a function for encoding\\ndef encode_cat_vars(x):\\n    x = pd.get_dummies(\\n        x,\\n        columns=x.select_dtypes(include=[\\\"object\\\", \\\"category\\\"]).columns.tolist(),\\n        drop_first=True,\\n    )\\n    return x\\n\\n\\n# independent variables with encoded categorical variables\\nX_num = encode_cat_vars(X)\\nX_num.head()\";\n",
       "                var nbb_formatted_code = \"# define a function for encoding\\ndef encode_cat_vars(x):\\n    x = pd.get_dummies(\\n        x,\\n        columns=x.select_dtypes(include=[\\\"object\\\", \\\"category\\\"]).columns.tolist(),\\n        drop_first=True,\\n    )\\n    return x\\n\\n\\n# independent variables with encoded categorical variables\\nX_num = encode_cat_vars(X)\\nX_num.head()\";\n",
       "                var nbb_cells = Jupyter.notebook.get_cells();\n",
       "                for (var i = 0; i < nbb_cells.length; ++i) {\n",
       "                    if (nbb_cells[i].input_prompt_number == nbb_cell_id) {\n",
       "                        if (nbb_cells[i].get_text() == nbb_unformatted_code) {\n",
       "                             nbb_cells[i].set_text(nbb_formatted_code);\n",
       "                        }\n",
       "                        break;\n",
       "                    }\n",
       "                }\n",
       "            }, 500);\n",
       "            "
      ],
      "text/plain": [
       "<IPython.core.display.Javascript object>"
      ]
     },
     "metadata": {},
     "output_type": "display_data"
    }
   ],
   "source": [
    "# define a function for encoding\n",
    "def encode_cat_vars(x):\n",
    "    x = pd.get_dummies(\n",
    "        x,\n",
    "        columns=x.select_dtypes(include=[\"object\", \"category\"]).columns.tolist(),\n",
    "        drop_first=True,\n",
    "    )\n",
    "    return x\n",
    "\n",
    "\n",
    "# independent variables with encoded categorical variables\n",
    "X_num = encode_cat_vars(X)\n",
    "X_num.head()"
   ]
  },
  {
   "cell_type": "code",
   "execution_count": 102,
   "id": "2901f99f",
   "metadata": {},
   "outputs": [
    {
     "data": {
      "application/javascript": [
       "\n",
       "            setTimeout(function() {\n",
       "                var nbb_cell_id = 102;\n",
       "                var nbb_unformatted_code = \"# Split X and y into training and test set in 70:30 ratio\\n\\nX_train, X_test, y_train, y_test = train_test_split(X_num, y, test_size=0.30, random_state=1)\";\n",
       "                var nbb_formatted_code = \"# Split X and y into training and test set in 70:30 ratio\\n\\nX_train, X_test, y_train, y_test = train_test_split(\\n    X_num, y, test_size=0.30, random_state=1\\n)\";\n",
       "                var nbb_cells = Jupyter.notebook.get_cells();\n",
       "                for (var i = 0; i < nbb_cells.length; ++i) {\n",
       "                    if (nbb_cells[i].input_prompt_number == nbb_cell_id) {\n",
       "                        if (nbb_cells[i].get_text() == nbb_unformatted_code) {\n",
       "                             nbb_cells[i].set_text(nbb_formatted_code);\n",
       "                        }\n",
       "                        break;\n",
       "                    }\n",
       "                }\n",
       "            }, 500);\n",
       "            "
      ],
      "text/plain": [
       "<IPython.core.display.Javascript object>"
      ]
     },
     "metadata": {},
     "output_type": "display_data"
    }
   ],
   "source": [
    "# Split X and y into training and test set in 70:30 ratio\n",
    "\n",
    "X_train, X_test, y_train, y_test = train_test_split(\n",
    "    X_num, y, test_size=0.30, random_state=1\n",
    ")"
   ]
  },
  {
   "cell_type": "code",
   "execution_count": 104,
   "id": "70970aee",
   "metadata": {},
   "outputs": [
    {
     "name": "stdout",
     "output_type": "stream",
     "text": [
      "Number of rows in train data = 4174\n",
      "Number of rows in test data = 1789\n"
     ]
    },
    {
     "data": {
      "application/javascript": [
       "\n",
       "            setTimeout(function() {\n",
       "                var nbb_cell_id = 104;\n",
       "                var nbb_unformatted_code = \"# Check the shape of train and test sets\\n# print number of rows in train and test sets\\nprint(\\\"Number of rows in train data =\\\", X_train.shape[0])\\nprint(\\\"Number of rows in test data =\\\", X_test.shape[0])\";\n",
       "                var nbb_formatted_code = \"# Check the shape of train and test sets\\n# print number of rows in train and test sets\\nprint(\\\"Number of rows in train data =\\\", X_train.shape[0])\\nprint(\\\"Number of rows in test data =\\\", X_test.shape[0])\";\n",
       "                var nbb_cells = Jupyter.notebook.get_cells();\n",
       "                for (var i = 0; i < nbb_cells.length; ++i) {\n",
       "                    if (nbb_cells[i].input_prompt_number == nbb_cell_id) {\n",
       "                        if (nbb_cells[i].get_text() == nbb_unformatted_code) {\n",
       "                             nbb_cells[i].set_text(nbb_formatted_code);\n",
       "                        }\n",
       "                        break;\n",
       "                    }\n",
       "                }\n",
       "            }, 500);\n",
       "            "
      ],
      "text/plain": [
       "<IPython.core.display.Javascript object>"
      ]
     },
     "metadata": {},
     "output_type": "display_data"
    }
   ],
   "source": [
    "# Check the shape of train and test sets\n",
    "# print number of rows in train and test sets\n",
    "print(\"Number of rows in train data =\", X_train.shape[0])\n",
    "print(\"Number of rows in test data =\", X_test.shape[0])"
   ]
  },
  {
   "cell_type": "markdown",
   "id": "f76b6816",
   "metadata": {},
   "source": [
    "**Fit Linear Model**"
   ]
  },
  {
   "cell_type": "code",
   "execution_count": 105,
   "id": "9af8cc68",
   "metadata": {},
   "outputs": [
    {
     "data": {
      "text/plain": [
       "LinearRegression()"
      ]
     },
     "execution_count": 105,
     "metadata": {},
     "output_type": "execute_result"
    },
    {
     "data": {
      "application/javascript": [
       "\n",
       "            setTimeout(function() {\n",
       "                var nbb_cell_id = 105;\n",
       "                var nbb_unformatted_code = \"# apply linear regression model on the training set\\nregression_model = LinearRegression()\\nregression_model.fit(X_train, y_train)\";\n",
       "                var nbb_formatted_code = \"# apply linear regression model on the training set\\nregression_model = LinearRegression()\\nregression_model.fit(X_train, y_train)\";\n",
       "                var nbb_cells = Jupyter.notebook.get_cells();\n",
       "                for (var i = 0; i < nbb_cells.length; ++i) {\n",
       "                    if (nbb_cells[i].input_prompt_number == nbb_cell_id) {\n",
       "                        if (nbb_cells[i].get_text() == nbb_unformatted_code) {\n",
       "                             nbb_cells[i].set_text(nbb_formatted_code);\n",
       "                        }\n",
       "                        break;\n",
       "                    }\n",
       "                }\n",
       "            }, 500);\n",
       "            "
      ],
      "text/plain": [
       "<IPython.core.display.Javascript object>"
      ]
     },
     "metadata": {},
     "output_type": "display_data"
    }
   ],
   "source": [
    "# apply linear regression model on the training set\n",
    "regression_model = LinearRegression()\n",
    "regression_model.fit(X_train, y_train)"
   ]
  },
  {
   "cell_type": "markdown",
   "id": "57ed376e",
   "metadata": {},
   "source": [
    "Here are the coefficients for each variable and the intercept"
   ]
  },
  {
   "cell_type": "code",
   "execution_count": 108,
   "id": "69a986bb",
   "metadata": {},
   "outputs": [
    {
     "data": {
      "text/html": [
       "<div>\n",
       "<style scoped>\n",
       "    .dataframe tbody tr th:only-of-type {\n",
       "        vertical-align: middle;\n",
       "    }\n",
       "\n",
       "    .dataframe tbody tr th {\n",
       "        vertical-align: top;\n",
       "    }\n",
       "\n",
       "    .dataframe thead th {\n",
       "        text-align: right;\n",
       "    }\n",
       "</style>\n",
       "<table border=\"1\" class=\"dataframe\">\n",
       "  <thead>\n",
       "    <tr style=\"text-align: right;\">\n",
       "      <th></th>\n",
       "      <th>Coefficients</th>\n",
       "    </tr>\n",
       "  </thead>\n",
       "  <tbody>\n",
       "    <tr>\n",
       "      <th>Year</th>\n",
       "      <td>0.754940</td>\n",
       "    </tr>\n",
       "    <tr>\n",
       "      <th>Kilometers_Driven</th>\n",
       "      <td>-0.000056</td>\n",
       "    </tr>\n",
       "    <tr>\n",
       "      <th>Seats</th>\n",
       "      <td>-2.258980</td>\n",
       "    </tr>\n",
       "    <tr>\n",
       "      <th>Performance_measure</th>\n",
       "      <td>0.033437</td>\n",
       "    </tr>\n",
       "    <tr>\n",
       "      <th>Location_Bangalore</th>\n",
       "      <td>2.444411</td>\n",
       "    </tr>\n",
       "    <tr>\n",
       "      <th>Location_Chennai</th>\n",
       "      <td>1.251046</td>\n",
       "    </tr>\n",
       "    <tr>\n",
       "      <th>Location_Coimbatore</th>\n",
       "      <td>3.014585</td>\n",
       "    </tr>\n",
       "    <tr>\n",
       "      <th>Location_Delhi</th>\n",
       "      <td>0.367420</td>\n",
       "    </tr>\n",
       "    <tr>\n",
       "      <th>Location_Hyderabad</th>\n",
       "      <td>2.164727</td>\n",
       "    </tr>\n",
       "    <tr>\n",
       "      <th>Location_Jaipur</th>\n",
       "      <td>1.597308</td>\n",
       "    </tr>\n",
       "    <tr>\n",
       "      <th>Location_Kochi</th>\n",
       "      <td>0.907542</td>\n",
       "    </tr>\n",
       "    <tr>\n",
       "      <th>Location_Kolkata</th>\n",
       "      <td>-0.982813</td>\n",
       "    </tr>\n",
       "    <tr>\n",
       "      <th>Location_Mumbai</th>\n",
       "      <td>-0.498522</td>\n",
       "    </tr>\n",
       "    <tr>\n",
       "      <th>Location_Pune</th>\n",
       "      <td>1.611946</td>\n",
       "    </tr>\n",
       "    <tr>\n",
       "      <th>Fuel_Type_Diesel</th>\n",
       "      <td>-0.205054</td>\n",
       "    </tr>\n",
       "    <tr>\n",
       "      <th>Fuel_Type_LPG</th>\n",
       "      <td>0.463084</td>\n",
       "    </tr>\n",
       "    <tr>\n",
       "      <th>Fuel_Type_Petrol</th>\n",
       "      <td>-1.978547</td>\n",
       "    </tr>\n",
       "    <tr>\n",
       "      <th>Transmission_Manual</th>\n",
       "      <td>-4.806256</td>\n",
       "    </tr>\n",
       "    <tr>\n",
       "      <th>Owner_Type_Fourth &amp; Above</th>\n",
       "      <td>0.111151</td>\n",
       "    </tr>\n",
       "    <tr>\n",
       "      <th>Owner_Type_Second</th>\n",
       "      <td>-0.220834</td>\n",
       "    </tr>\n",
       "    <tr>\n",
       "      <th>Owner_Type_Third</th>\n",
       "      <td>0.777610</td>\n",
       "    </tr>\n",
       "    <tr>\n",
       "      <th>Intercept</th>\n",
       "      <td>-1511.443922</td>\n",
       "    </tr>\n",
       "  </tbody>\n",
       "</table>\n",
       "</div>"
      ],
      "text/plain": [
       "                           Coefficients\n",
       "Year                           0.754940\n",
       "Kilometers_Driven             -0.000056\n",
       "Seats                         -2.258980\n",
       "Performance_measure            0.033437\n",
       "Location_Bangalore             2.444411\n",
       "Location_Chennai               1.251046\n",
       "Location_Coimbatore            3.014585\n",
       "Location_Delhi                 0.367420\n",
       "Location_Hyderabad             2.164727\n",
       "Location_Jaipur                1.597308\n",
       "Location_Kochi                 0.907542\n",
       "Location_Kolkata              -0.982813\n",
       "Location_Mumbai               -0.498522\n",
       "Location_Pune                  1.611946\n",
       "Fuel_Type_Diesel              -0.205054\n",
       "Fuel_Type_LPG                  0.463084\n",
       "Fuel_Type_Petrol              -1.978547\n",
       "Transmission_Manual           -4.806256\n",
       "Owner_Type_Fourth & Above      0.111151\n",
       "Owner_Type_Second             -0.220834\n",
       "Owner_Type_Third               0.777610\n",
       "Intercept                  -1511.443922"
      ]
     },
     "execution_count": 108,
     "metadata": {},
     "output_type": "execute_result"
    },
    {
     "data": {
      "application/javascript": [
       "\n",
       "            setTimeout(function() {\n",
       "                var nbb_cell_id = 108;\n",
       "                var nbb_unformatted_code = \"# compute the coefficients and intercept of the model\\ncoef_df = pd.DataFrame(\\n    np.append(regression_model.coef_.flatten(), regression_model.intercept_),\\n    index=X_train.columns.tolist() + [\\\"Intercept\\\"],\\n    columns=[\\\"Coefficients\\\"],\\n)\\ncoef_df\";\n",
       "                var nbb_formatted_code = \"# compute the coefficients and intercept of the model\\ncoef_df = pd.DataFrame(\\n    np.append(regression_model.coef_.flatten(), regression_model.intercept_),\\n    index=X_train.columns.tolist() + [\\\"Intercept\\\"],\\n    columns=[\\\"Coefficients\\\"],\\n)\\ncoef_df\";\n",
       "                var nbb_cells = Jupyter.notebook.get_cells();\n",
       "                for (var i = 0; i < nbb_cells.length; ++i) {\n",
       "                    if (nbb_cells[i].input_prompt_number == nbb_cell_id) {\n",
       "                        if (nbb_cells[i].get_text() == nbb_unformatted_code) {\n",
       "                             nbb_cells[i].set_text(nbb_formatted_code);\n",
       "                        }\n",
       "                        break;\n",
       "                    }\n",
       "                }\n",
       "            }, 500);\n",
       "            "
      ],
      "text/plain": [
       "<IPython.core.display.Javascript object>"
      ]
     },
     "metadata": {},
     "output_type": "display_data"
    }
   ],
   "source": [
    "# compute the coefficients and intercept of the model\n",
    "coef_df = pd.DataFrame(\n",
    "    np.append(regression_model.coef_.flatten(), regression_model.intercept_),\n",
    "    index=X_train.columns.tolist() + [\"Intercept\"],\n",
    "    columns=[\"Coefficients\"],\n",
    ")\n",
    "coef_df"
   ]
  },
  {
   "cell_type": "markdown",
   "id": "5ee302b7",
   "metadata": {},
   "source": [
    "**Observations on coefficients of the model**\n",
    "* The coefficients of Year, Performance model, locations(except mumbai and kolkata), Fuel type LPG, Owner type (except second) columns are **positive**.\n",
    "   * **Increase in these positive coefficients columns** will lead to an **increase in the Price**. \n",
    "\n",
    "* The coefficients of Kilometers_Driven, Seats, locations of mumbai and kolkata, Fuel type(except LPG), Transmission, Owner type second columns are **negative**\n",
    "   * **Increase in these positive coefficients columns** will lead to a **decrease in the Price**."
   ]
  },
  {
   "cell_type": "markdown",
   "id": "6d77055d",
   "metadata": {},
   "source": [
    "## Test the performance of model on Train and Test Data"
   ]
  },
  {
   "cell_type": "markdown",
   "id": "3341c83c",
   "metadata": {},
   "source": [
    "**We will use the metric functions from sklearn for RMSE, MAE, and  R^2**"
   ]
  },
  {
   "cell_type": "code",
   "execution_count": 109,
   "id": "985c7986",
   "metadata": {},
   "outputs": [
    {
     "data": {
      "application/javascript": [
       "\n",
       "            setTimeout(function() {\n",
       "                var nbb_cell_id = 109;\n",
       "                var nbb_unformatted_code = \"# defining the functions and use the same to compute and print these values at once\\n\\n# Adjusted R^2\\ndef adj_r2(ind_vars, targets, predictions):\\n    r2 = r2_score(targets, predictions)\\n    n = ind_vars.shape[0]\\n    k = ind_vars.shape[1]\\n    return 1 - ((1 - r2) * (n - 1) / (n - k - 1))\\n\\n# Model performance check\\ndef model_perf(model, inp, out):\\n\\n    y_pred = model.predict(inp)\\n    y_act = out.values\\n\\n    return pd.DataFrame(\\n        {\\n            \\\"RMSE\\\": np.sqrt(mean_squared_error(y_act, y_pred)),\\n            \\\"MAE\\\": mean_absolute_error(y_act, y_pred),\\n            \\\"R^2\\\": r2_score(y_act, y_pred),\\n            \\\"Adjusted R^2\\\": adj_r2(inp, y_act, y_pred),\\n        },\\n        index=[0],\\n    )\";\n",
       "                var nbb_formatted_code = \"# defining the functions and use the same to compute and print these values at once\\n\\n# Adjusted R^2\\ndef adj_r2(ind_vars, targets, predictions):\\n    r2 = r2_score(targets, predictions)\\n    n = ind_vars.shape[0]\\n    k = ind_vars.shape[1]\\n    return 1 - ((1 - r2) * (n - 1) / (n - k - 1))\\n\\n\\n# Model performance check\\ndef model_perf(model, inp, out):\\n\\n    y_pred = model.predict(inp)\\n    y_act = out.values\\n\\n    return pd.DataFrame(\\n        {\\n            \\\"RMSE\\\": np.sqrt(mean_squared_error(y_act, y_pred)),\\n            \\\"MAE\\\": mean_absolute_error(y_act, y_pred),\\n            \\\"R^2\\\": r2_score(y_act, y_pred),\\n            \\\"Adjusted R^2\\\": adj_r2(inp, y_act, y_pred),\\n        },\\n        index=[0],\\n    )\";\n",
       "                var nbb_cells = Jupyter.notebook.get_cells();\n",
       "                for (var i = 0; i < nbb_cells.length; ++i) {\n",
       "                    if (nbb_cells[i].input_prompt_number == nbb_cell_id) {\n",
       "                        if (nbb_cells[i].get_text() == nbb_unformatted_code) {\n",
       "                             nbb_cells[i].set_text(nbb_formatted_code);\n",
       "                        }\n",
       "                        break;\n",
       "                    }\n",
       "                }\n",
       "            }, 500);\n",
       "            "
      ],
      "text/plain": [
       "<IPython.core.display.Javascript object>"
      ]
     },
     "metadata": {},
     "output_type": "display_data"
    }
   ],
   "source": [
    "# defining the functions and use the same to compute and print these values at once\n",
    "\n",
    "# Adjusted R^2\n",
    "def adj_r2(ind_vars, targets, predictions):\n",
    "    r2 = r2_score(targets, predictions)\n",
    "    n = ind_vars.shape[0]\n",
    "    k = ind_vars.shape[1]\n",
    "    return 1 - ((1 - r2) * (n - 1) / (n - k - 1))\n",
    "\n",
    "\n",
    "# Model performance check\n",
    "def model_perf(model, inp, out):\n",
    "\n",
    "    y_pred = model.predict(inp)\n",
    "    y_act = out.values\n",
    "\n",
    "    return pd.DataFrame(\n",
    "        {\n",
    "            \"RMSE\": np.sqrt(mean_squared_error(y_act, y_pred)),\n",
    "            \"MAE\": mean_absolute_error(y_act, y_pred),\n",
    "            \"R^2\": r2_score(y_act, y_pred),\n",
    "            \"Adjusted R^2\": adj_r2(inp, y_act, y_pred),\n",
    "        },\n",
    "        index=[0],\n",
    "    )"
   ]
  },
  {
   "cell_type": "code",
   "execution_count": 110,
   "id": "4447cfb3",
   "metadata": {},
   "outputs": [
    {
     "name": "stdout",
     "output_type": "stream",
     "text": [
      "Training Performance:\n",
      "\n",
      "       RMSE       MAE       R^2  Adjusted R^2\n",
      "0  6.110929  3.896068  0.683566      0.681966\n",
      "\n",
      "\n",
      "Test Performance:\n",
      "\n",
      "       RMSE       MAE       R^2  Adjusted R^2\n",
      "0  6.659962  3.952729  0.600098      0.595346\n"
     ]
    },
    {
     "data": {
      "application/javascript": [
       "\n",
       "            setTimeout(function() {\n",
       "                var nbb_cell_id = 110;\n",
       "                var nbb_unformatted_code = \"# Checking model performance on train set\\nprint(\\\"Training Performance:\\\\n\\\")\\nprint(model_perf(regression_model, X_train, y_train))\\n\\n# Checking model performance on test set\\nprint(\\\"\\\\n\\\\nTest Performance:\\\\n\\\")\\nprint(model_perf(regression_model, X_test, y_test))\";\n",
       "                var nbb_formatted_code = \"# Checking model performance on train set\\nprint(\\\"Training Performance:\\\\n\\\")\\nprint(model_perf(regression_model, X_train, y_train))\\n\\n# Checking model performance on test set\\nprint(\\\"\\\\n\\\\nTest Performance:\\\\n\\\")\\nprint(model_perf(regression_model, X_test, y_test))\";\n",
       "                var nbb_cells = Jupyter.notebook.get_cells();\n",
       "                for (var i = 0; i < nbb_cells.length; ++i) {\n",
       "                    if (nbb_cells[i].input_prompt_number == nbb_cell_id) {\n",
       "                        if (nbb_cells[i].get_text() == nbb_unformatted_code) {\n",
       "                             nbb_cells[i].set_text(nbb_formatted_code);\n",
       "                        }\n",
       "                        break;\n",
       "                    }\n",
       "                }\n",
       "            }, 500);\n",
       "            "
      ],
      "text/plain": [
       "<IPython.core.display.Javascript object>"
      ]
     },
     "metadata": {},
     "output_type": "display_data"
    }
   ],
   "source": [
    "# Checking model performance on train set\n",
    "print(\"Training Performance:\\n\")\n",
    "print(model_perf(regression_model, X_train, y_train))\n",
    "\n",
    "# Checking model performance on test set\n",
    "print(\"\\n\\nTest Performance:\\n\")\n",
    "print(model_perf(regression_model, X_test, y_test))"
   ]
  },
  {
   "cell_type": "markdown",
   "id": "53733cf5",
   "metadata": {},
   "source": [
    "**Observations on model performance**\n",
    "\n",
    "* The train and test  R2  are 0.68 and 0.60, indicating that the model explains 68% and 60% of the total variation in the train and test sets respectively. Also, both scores are comparable.\n",
    "* RMSE values on the train and test sets are also comparable.\n",
    "* This shows that the model is not overfitting.\n",
    "* MAE indicates that our current model is able to predict price within a mean error of 3.95 on the test set."
   ]
  },
  {
   "cell_type": "markdown",
   "id": "9bc0643a",
   "metadata": {},
   "source": [
    "## Actionable Insights & Recommendations"
   ]
  },
  {
   "cell_type": "markdown",
   "id": "dffe798a",
   "metadata": {},
   "source": [
    "**Conclusion**\n",
    "* We have been able to build a predictive model that can be used by business to predict the price of an used car with an  R2  of 0.683 on the training set.\n",
    "* Business can use this model to predict the price within a mean error of 3.95 on the test set.\n",
    "* Performance_Measure and Fuel_Type are the parameters effecting the price positively.\n",
    "* Transmission, Seats, Kilometers_Driven are the parameters effecting the price negatively."
   ]
  },
  {
   "cell_type": "markdown",
   "id": "263cb403",
   "metadata": {},
   "source": [
    "**All the key questions are answered in conclusion.**"
   ]
  }
 ],
 "metadata": {
  "kernelspec": {
   "display_name": "Python 3 (ipykernel)",
   "language": "python",
   "name": "python3"
  },
  "language_info": {
   "codemirror_mode": {
    "name": "ipython",
    "version": 3
   },
   "file_extension": ".py",
   "mimetype": "text/x-python",
   "name": "python",
   "nbconvert_exporter": "python",
   "pygments_lexer": "ipython3",
   "version": "3.9.7"
  }
 },
 "nbformat": 4,
 "nbformat_minor": 5
}
